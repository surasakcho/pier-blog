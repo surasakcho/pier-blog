{
 "cells": [
  {
   "cell_type": "markdown",
   "metadata": {},
   "source": [
    "## Download\n",
    "https://search.earthdata.nasa.gov/search?q=SRTM\n",
    "e060n40.SRTMGL30.dem\n",
    "e100n40.SRTMGL30.dem"
   ]
  },
  {
   "cell_type": "code",
   "execution_count": null,
   "metadata": {},
   "outputs": [],
   "source": [
    "gdal_translate -of USGSDEM -co PRODUCT=CDED50K -co TEMPLATE=yk_template.dem \\\n",
    "               -co TOPLEFT=-117w,60n yk_3arcsec 031a01_e.dem"
   ]
  }
 ],
 "metadata": {
  "language_info": {
   "name": "python"
  }
 },
 "nbformat": 4,
 "nbformat_minor": 2
}
