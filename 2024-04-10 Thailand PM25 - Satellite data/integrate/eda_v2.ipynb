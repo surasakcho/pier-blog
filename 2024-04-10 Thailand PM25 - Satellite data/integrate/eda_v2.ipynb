{
 "cells": [
  {
   "cell_type": "markdown",
   "metadata": {},
   "source": [
    "# EDA - OpenAQ data"
   ]
  },
  {
   "cell_type": "markdown",
   "metadata": {},
   "source": [
    "## Import library"
   ]
  },
  {
   "cell_type": "code",
   "execution_count": null,
   "metadata": {},
   "outputs": [],
   "source": [
    "import numpy as np\n",
    "import pandas as pd\n",
    "import geopandas as gpd\n",
    "import rasterio\n",
    "import requests\n",
    "from pprint import pp\n",
    "from tqdm.notebook import tqdm\n",
    "import requests\n",
    "import time\n",
    "from zkyhaxpy import io_tools, pd_tools, gis_tools\n",
    "from datetime import datetime, timedelta\n",
    "import os"
   ]
  },
  {
   "cell_type": "markdown",
   "metadata": {},
   "source": [
    "## Prepare GeoDataframe of OpenAQ data"
   ]
  },
  {
   "cell_type": "code",
   "execution_count": null,
   "metadata": {},
   "outputs": [],
   "source": [
    "if not os.path.exists('../data/gdf_openaq_chiangmai_by_location.gpkg'):\n",
    "    dir_data = r'../data'\n",
    "    dir_openaq_chiangmai = os.path.join(dir_data, 'openaq', 'chiangmai_by_location')\n",
    "    list_files = io_tools.get_list_files_re(dir_openaq_chiangmai)\n",
    "    df_openaq = pd.concat([pd.read_csv(path_file) for path_file in list_files])\n",
    "    \n",
    "    \n",
    "    df_openaq['datetime'] = df_openaq['date'].str.slice(9, 25)\n",
    "    df_openaq['date'] = df_openaq['datetime'].str.slice(0, 10)\n",
    "    df_openaq['year'] = df_openaq['date'].str.slice(0, 4)\n",
    "    df_openaq['month'] = df_openaq['date'].str.slice(6, 8)\n",
    "    df_openaq['year_month'] = df_openaq['date'].str.slice(0, 8)\n",
    "    df_openaq['time'] = df_openaq['datetime'].str.slice(11, 17)\n",
    "    df_openaq['lat'] = df_openaq['coordinates'].apply(lambda coord: ast.literal_eval(coord)['latitude'])\n",
    "    df_openaq['lon'] = df_openaq['coordinates'].apply(lambda coord: ast.literal_eval(coord)['longitude'])\n",
    "    df_openaq = df_openaq.reset_index()\n",
    "    del(df_openaq['index'])\n",
    "    del(df_openaq['coordinates'])\n",
    "\n",
    "    df_openaq['measurement_id'] = df_openaq.index\n",
    "    df_openaq.index.name = 'measurement_id'\n",
    "\n",
    "    df_openaq['geometry'] = 'POINT (' + df_openaq['lon'].astype(str) + ' ' + df_openaq['lat'].astype(str) + ')'\n",
    "    \n",
    "    gdf_openaq = gis_tools.df_to_gdf(df_openaq, 'geometry')\n",
    "\n",
    "    gdf_openaq = gdf_openaq.set_index('measurement_id')\n",
    "    gdf_openaq.to_file('../data/gdf_openaq_chiangmai_by_location.gpkg')\n",
    "    print('gdf_openaq has been saved.')\n",
    "else:\n",
    "    gdf_openaq = gpd.read_file('../data/gdf_openaq_chiangmai_by_location.gpkg')\n",
    "    print('gdf_openaq has been loaded.')\n",
    "if gdf_openaq.index.name is None:\n",
    "    gdf_openaq = gdf_openaq.set_index('measurement_id')"
   ]
  },
  {
   "cell_type": "code",
   "execution_count": null,
   "metadata": {},
   "outputs": [],
   "source": [
    "gdf_openaq.head()"
   ]
  },
  {
   "cell_type": "code",
   "execution_count": null,
   "metadata": {},
   "outputs": [],
   "source": [
    "gdf_province = gpd.read_file(r'..\\data\\thailandWithName.json')\n",
    "gdf_chiangmai = gdf_province[gdf_province['name'] == 'Chiang Mai']\n",
    "gdf_chiangmai"
   ]
  },
  {
   "cell_type": "code",
   "execution_count": null,
   "metadata": {},
   "outputs": [],
   "source": [
    "gdf_openaq.columns"
   ]
  },
  {
   "cell_type": "code",
   "execution_count": null,
   "metadata": {},
   "outputs": [],
   "source": [
    "gdf_openaq_first_data = gdf_openaq.groupby('locationId').agg(first_data=('datetime', 'min'))\n",
    "gdf_openaq_first_data"
   ]
  },
  {
   "cell_type": "code",
   "execution_count": null,
   "metadata": {},
   "outputs": [],
   "source": [
    "gdf_openaq_location = gdf_openaq.drop(columns=['datetime', 'year', 'month', 'value', 'parameter', 'unit']).drop_duplicates()\n",
    "gdf_openaq_location\n",
    "\n",
    "# ['locationId', 'location', 'parameter', 'value', 'unit', 'country',\n",
    "    #    'city', 'isMobile', 'isAnalysis', 'entity', 'sensorType', 'lat', 'long',\n",
    "    #    'datetime', 'year', 'month', 'geometry']('')\n"
   ]
  },
  {
   "cell_type": "code",
   "execution_count": null,
   "metadata": {},
   "outputs": [],
   "source": [
    "gdf_openaq_location_chiangmai = gdf_openaq_location[gdf_openaq_location.geometry.within(gdf_chiangmai.geometry.iloc[0])]\n",
    "gdf_openaq_location_chiangmai"
   ]
  },
  {
   "cell_type": "code",
   "execution_count": null,
   "metadata": {},
   "outputs": [],
   "source": [
    "gdf_openaq_location_chiangmai = gdf_openaq_location_chiangmai.drop_duplicates(subset=['locationId']).copy()\n",
    "gdf_openaq_location_chiangmai"
   ]
  },
  {
   "cell_type": "code",
   "execution_count": null,
   "metadata": {},
   "outputs": [],
   "source": [
    "gdf_openaq_location_chiangmai = gdf_openaq_location_chiangmai.merge(gdf_openaq_first_data, left_on='locationId', right_index=True)"
   ]
  },
  {
   "cell_type": "code",
   "execution_count": null,
   "metadata": {},
   "outputs": [],
   "source": [
    "gdf_openaq_location_chiangmai.to_file('gdf_ope naq_location_chiangmai_v2.gpkg')"
   ]
  }
 ],
 "metadata": {
  "kernelspec": {
   "display_name": "base",
   "language": "python",
   "name": "python3"
  },
  "language_info": {
   "codemirror_mode": {
    "name": "ipython",
    "version": 3
   },
   "file_extension": ".py",
   "mimetype": "text/x-python",
   "name": "python",
   "nbconvert_exporter": "python",
   "pygments_lexer": "ipython3",
   "version": "3.11.7"
  }
 },
 "nbformat": 4,
 "nbformat_minor": 2
}
