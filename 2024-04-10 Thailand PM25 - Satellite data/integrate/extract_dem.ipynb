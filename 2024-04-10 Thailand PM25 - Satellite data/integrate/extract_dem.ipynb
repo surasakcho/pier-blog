{
 "cells": [
  {
   "cell_type": "markdown",
   "metadata": {},
   "source": [
    "# Extract dem for each OpenAQ measurement"
   ]
  },
  {
   "cell_type": "markdown",
   "metadata": {},
   "source": [
    "## Import library"
   ]
  },
  {
   "cell_type": "code",
   "execution_count": 1,
   "metadata": {},
   "outputs": [],
   "source": [
    "import numpy as np\n",
    "import pandas as pd\n",
    "import geopandas as gpd\n",
    "import rasterio\n",
    "import requests\n",
    "from pprint import pp\n",
    "from tqdm.notebook import tqdm\n",
    "import requests\n",
    "import time\n",
    "from zkyhaxpy import io_tools, pd_tools, gis_tools\n",
    "from datetime import datetime, timedelta\n",
    "import os"
   ]
  },
  {
   "cell_type": "markdown",
   "metadata": {},
   "source": [
    "## Prepare GeoDataframe of OpenAQ data"
   ]
  },
  {
   "cell_type": "code",
   "execution_count": 3,
   "metadata": {},
   "outputs": [
    {
     "name": "stdout",
     "output_type": "stream",
     "text": [
      "Loading gdf_openaq\n",
      "gdf_openaq has been loaded.\n"
     ]
    }
   ],
   "source": [
    "if not os.path.exists('../data/gdf_openaq.gpkg'):\n",
    "    print('Preparing gdf_openaq')\n",
    "    df_openaq = pd.read_csv('../data/openaqi_thailand_pm25_data.csv', sep=',' )\n",
    "    df_openaq['measurement_id'] = df_openaq.index\n",
    "\n",
    "    df_openaq['geometry'] = 'POINT (' + df_openaq['long'].astype(str) + ' ' + df_openaq['lat'].astype(str) + ')'\n",
    "    gdf_openaq = gis_tools.df_to_gdf(df_openaq, 'geometry')\n",
    "\n",
    "    gdf_openaq['datetime'] = gdf_openaq['date_utc'].apply(lambda date_utc: pd.Timestamp(date_utc).tz_convert(\"UTC\"))\n",
    "    gdf_openaq['year'] = gdf_openaq['date_utc'].str.slice(0, 4).astype(int)\n",
    "    gdf_openaq['month'] = gdf_openaq['date_utc'].str.slice(5, 7).astype(int)\n",
    "    del(gdf_openaq['date_utc'])\n",
    "    gdf_openaq = gdf_openaq.set_index('measurement_id')\n",
    "    gdf_openaq.to_file('../data/gdf_openaq.gpkg')\n",
    "    print('gdf_openaq has been saved.')\n",
    "else:\n",
    "    print('Loading gdf_openaq')\n",
    "    gdf_openaq = gpd.read_file('../data/gdf_openaq.gpkg')\n",
    "    print('gdf_openaq has been loaded.')\n",
    "if gdf_openaq.index.name is None:\n",
    "    gdf_openaq = gdf_openaq.set_index('measurement_id')"
   ]
  },
  {
   "cell_type": "code",
   "execution_count": 19,
   "metadata": {},
   "outputs": [
    {
     "data": {
      "text/html": [
       "<div>\n",
       "<style scoped>\n",
       "    .dataframe tbody tr th:only-of-type {\n",
       "        vertical-align: middle;\n",
       "    }\n",
       "\n",
       "    .dataframe tbody tr th {\n",
       "        vertical-align: top;\n",
       "    }\n",
       "\n",
       "    .dataframe thead th {\n",
       "        text-align: right;\n",
       "    }\n",
       "</style>\n",
       "<table border=\"1\" class=\"dataframe\">\n",
       "  <thead>\n",
       "    <tr style=\"text-align: right;\">\n",
       "      <th></th>\n",
       "      <th>locationId</th>\n",
       "      <th>location</th>\n",
       "      <th>parameter</th>\n",
       "      <th>value</th>\n",
       "      <th>unit</th>\n",
       "      <th>country</th>\n",
       "      <th>city</th>\n",
       "      <th>isMobile</th>\n",
       "      <th>isAnalysis</th>\n",
       "      <th>entity</th>\n",
       "      <th>sensorType</th>\n",
       "      <th>lat</th>\n",
       "      <th>long</th>\n",
       "      <th>datetime</th>\n",
       "      <th>year</th>\n",
       "      <th>month</th>\n",
       "      <th>geometry</th>\n",
       "    </tr>\n",
       "    <tr>\n",
       "      <th>measurement_id</th>\n",
       "      <th></th>\n",
       "      <th></th>\n",
       "      <th></th>\n",
       "      <th></th>\n",
       "      <th></th>\n",
       "      <th></th>\n",
       "      <th></th>\n",
       "      <th></th>\n",
       "      <th></th>\n",
       "      <th></th>\n",
       "      <th></th>\n",
       "      <th></th>\n",
       "      <th></th>\n",
       "      <th></th>\n",
       "      <th></th>\n",
       "      <th></th>\n",
       "      <th></th>\n",
       "    </tr>\n",
       "  </thead>\n",
       "  <tbody>\n",
       "    <tr>\n",
       "      <th>0</th>\n",
       "      <td>8893</td>\n",
       "      <td>Vientiane</td>\n",
       "      <td>pm25</td>\n",
       "      <td>10.0</td>\n",
       "      <td>µg/m³</td>\n",
       "      <td>TH</td>\n",
       "      <td>NaN</td>\n",
       "      <td>False</td>\n",
       "      <td>NaN</td>\n",
       "      <td>Governmental Organization</td>\n",
       "      <td>reference grade</td>\n",
       "      <td>17.896122</td>\n",
       "      <td>102.64</td>\n",
       "      <td>2019-06-30 00:00:00+00:00</td>\n",
       "      <td>2019</td>\n",
       "      <td>6</td>\n",
       "      <td>POINT (102.64000 17.89612)</td>\n",
       "    </tr>\n",
       "    <tr>\n",
       "      <th>1</th>\n",
       "      <td>8893</td>\n",
       "      <td>Vientiane</td>\n",
       "      <td>pm25</td>\n",
       "      <td>18.0</td>\n",
       "      <td>µg/m³</td>\n",
       "      <td>TH</td>\n",
       "      <td>NaN</td>\n",
       "      <td>False</td>\n",
       "      <td>NaN</td>\n",
       "      <td>Governmental Organization</td>\n",
       "      <td>reference grade</td>\n",
       "      <td>17.896122</td>\n",
       "      <td>102.64</td>\n",
       "      <td>2019-06-29 23:00:00+00:00</td>\n",
       "      <td>2019</td>\n",
       "      <td>6</td>\n",
       "      <td>POINT (102.64000 17.89612)</td>\n",
       "    </tr>\n",
       "    <tr>\n",
       "      <th>2</th>\n",
       "      <td>8893</td>\n",
       "      <td>Vientiane</td>\n",
       "      <td>pm25</td>\n",
       "      <td>17.0</td>\n",
       "      <td>µg/m³</td>\n",
       "      <td>TH</td>\n",
       "      <td>NaN</td>\n",
       "      <td>False</td>\n",
       "      <td>NaN</td>\n",
       "      <td>Governmental Organization</td>\n",
       "      <td>reference grade</td>\n",
       "      <td>17.896122</td>\n",
       "      <td>102.64</td>\n",
       "      <td>2019-06-29 22:00:00+00:00</td>\n",
       "      <td>2019</td>\n",
       "      <td>6</td>\n",
       "      <td>POINT (102.64000 17.89612)</td>\n",
       "    </tr>\n",
       "    <tr>\n",
       "      <th>3</th>\n",
       "      <td>8893</td>\n",
       "      <td>Vientiane</td>\n",
       "      <td>pm25</td>\n",
       "      <td>12.0</td>\n",
       "      <td>µg/m³</td>\n",
       "      <td>TH</td>\n",
       "      <td>NaN</td>\n",
       "      <td>False</td>\n",
       "      <td>NaN</td>\n",
       "      <td>Governmental Organization</td>\n",
       "      <td>reference grade</td>\n",
       "      <td>17.896122</td>\n",
       "      <td>102.64</td>\n",
       "      <td>2019-06-29 21:00:00+00:00</td>\n",
       "      <td>2019</td>\n",
       "      <td>6</td>\n",
       "      <td>POINT (102.64000 17.89612)</td>\n",
       "    </tr>\n",
       "    <tr>\n",
       "      <th>4</th>\n",
       "      <td>8893</td>\n",
       "      <td>Vientiane</td>\n",
       "      <td>pm25</td>\n",
       "      <td>15.0</td>\n",
       "      <td>µg/m³</td>\n",
       "      <td>TH</td>\n",
       "      <td>NaN</td>\n",
       "      <td>False</td>\n",
       "      <td>NaN</td>\n",
       "      <td>Governmental Organization</td>\n",
       "      <td>reference grade</td>\n",
       "      <td>17.896122</td>\n",
       "      <td>102.64</td>\n",
       "      <td>2019-06-29 20:00:00+00:00</td>\n",
       "      <td>2019</td>\n",
       "      <td>6</td>\n",
       "      <td>POINT (102.64000 17.89612)</td>\n",
       "    </tr>\n",
       "  </tbody>\n",
       "</table>\n",
       "</div>"
      ],
      "text/plain": [
       "                locationId   location parameter  value   unit country  city  \\\n",
       "measurement_id                                                                \n",
       "0                     8893  Vientiane      pm25   10.0  µg/m³      TH   NaN   \n",
       "1                     8893  Vientiane      pm25   18.0  µg/m³      TH   NaN   \n",
       "2                     8893  Vientiane      pm25   17.0  µg/m³      TH   NaN   \n",
       "3                     8893  Vientiane      pm25   12.0  µg/m³      TH   NaN   \n",
       "4                     8893  Vientiane      pm25   15.0  µg/m³      TH   NaN   \n",
       "\n",
       "                isMobile  isAnalysis                     entity  \\\n",
       "measurement_id                                                    \n",
       "0                  False         NaN  Governmental Organization   \n",
       "1                  False         NaN  Governmental Organization   \n",
       "2                  False         NaN  Governmental Organization   \n",
       "3                  False         NaN  Governmental Organization   \n",
       "4                  False         NaN  Governmental Organization   \n",
       "\n",
       "                     sensorType        lat    long                  datetime  \\\n",
       "measurement_id                                                                 \n",
       "0               reference grade  17.896122  102.64 2019-06-30 00:00:00+00:00   \n",
       "1               reference grade  17.896122  102.64 2019-06-29 23:00:00+00:00   \n",
       "2               reference grade  17.896122  102.64 2019-06-29 22:00:00+00:00   \n",
       "3               reference grade  17.896122  102.64 2019-06-29 21:00:00+00:00   \n",
       "4               reference grade  17.896122  102.64 2019-06-29 20:00:00+00:00   \n",
       "\n",
       "                year  month                    geometry  \n",
       "measurement_id                                           \n",
       "0               2019      6  POINT (102.64000 17.89612)  \n",
       "1               2019      6  POINT (102.64000 17.89612)  \n",
       "2               2019      6  POINT (102.64000 17.89612)  \n",
       "3               2019      6  POINT (102.64000 17.89612)  \n",
       "4               2019      6  POINT (102.64000 17.89612)  "
      ]
     },
     "execution_count": 19,
     "metadata": {},
     "output_type": "execute_result"
    }
   ],
   "source": [
    "gdf_openaq.head()"
   ]
  },
  {
   "cell_type": "code",
   "execution_count": 6,
   "metadata": {},
   "outputs": [
    {
     "name": "stdout",
     "output_type": "stream",
     "text": [
      "Total of 2 files have been listed.\n"
     ]
    },
    {
     "data": {
      "text/html": [
       "<div>\n",
       "<style scoped>\n",
       "    .dataframe tbody tr th:only-of-type {\n",
       "        vertical-align: middle;\n",
       "    }\n",
       "\n",
       "    .dataframe tbody tr th {\n",
       "        vertical-align: top;\n",
       "    }\n",
       "\n",
       "    .dataframe thead th {\n",
       "        text-align: right;\n",
       "    }\n",
       "</style>\n",
       "<table border=\"1\" class=\"dataframe\">\n",
       "  <thead>\n",
       "    <tr style=\"text-align: right;\">\n",
       "      <th></th>\n",
       "      <th>file_path</th>\n",
       "      <th>file_nm</th>\n",
       "      <th>folder_nm</th>\n",
       "      <th>file_ext</th>\n",
       "    </tr>\n",
       "  </thead>\n",
       "  <tbody>\n",
       "    <tr>\n",
       "      <th>0</th>\n",
       "      <td>../data/dem\\GMTED2010N10E090_300\\10n090e_20101...</td>\n",
       "      <td>10n090e_20101117_gmted_med300.tif</td>\n",
       "      <td>GMTED2010N10E090_300</td>\n",
       "      <td>tif</td>\n",
       "    </tr>\n",
       "    <tr>\n",
       "      <th>1</th>\n",
       "      <td>../data/dem\\GMTED2010S10E090_300\\10s090e_20101...</td>\n",
       "      <td>10s090e_20101117_gmted_med300.tif</td>\n",
       "      <td>GMTED2010S10E090_300</td>\n",
       "      <td>tif</td>\n",
       "    </tr>\n",
       "  </tbody>\n",
       "</table>\n",
       "</div>"
      ],
      "text/plain": [
       "                                           file_path  \\\n",
       "0  ../data/dem\\GMTED2010N10E090_300\\10n090e_20101...   \n",
       "1  ../data/dem\\GMTED2010S10E090_300\\10s090e_20101...   \n",
       "\n",
       "                             file_nm             folder_nm file_ext  \n",
       "0  10n090e_20101117_gmted_med300.tif  GMTED2010N10E090_300      tif  \n",
       "1  10s090e_20101117_gmted_med300.tif  GMTED2010S10E090_300      tif  "
      ]
     },
     "execution_count": 6,
     "metadata": {},
     "output_type": "execute_result"
    }
   ],
   "source": [
    "dir_extracted_dem_root = r'../data/dem'\n",
    "df_files_dem = io_tools.get_list_files(dir_extracted_dem_root, '.tif$', return_df=True)\n",
    "df_files_dem"
   ]
  },
  {
   "cell_type": "markdown",
   "metadata": {},
   "source": [
    "# DEV"
   ]
  },
  {
   "cell_type": "code",
   "execution_count": 20,
   "metadata": {},
   "outputs": [
    {
     "data": {
      "application/vnd.jupyter.widget-view+json": {
       "model_id": "b4a3a4b3cd5b436d8f7923d2488374df",
       "version_major": 2,
       "version_minor": 0
      },
      "text/plain": [
       "  0%|          | 0/2 [00:00<?, ?it/s]"
      ]
     },
     "metadata": {},
     "output_type": "display_data"
    },
    {
     "name": "stdout",
     "output_type": "stream",
     "text": [
      "/tmp\\b4a7a5596ed7455e97fd7d0cb3b5690b\\rowcol_map_10n090e_20101117_gmted_med300.tif has been created\n"
     ]
    },
    {
     "data": {
      "application/vnd.jupyter.widget-view+json": {
       "model_id": "d43f7de6ea4d4503b4ad8ed5bc475d5f",
       "version_major": 2,
       "version_minor": 0
      },
      "text/plain": [
       "Getting row&col of pixels...:   0%|          | 0/208539 [00:00<?, ?it/s]"
      ]
     },
     "metadata": {},
     "output_type": "display_data"
    },
    {
     "data": {
      "application/vnd.jupyter.widget-view+json": {
       "model_id": "73c833fc20a8404390924cd64dcf2682",
       "version_major": 2,
       "version_minor": 0
      },
      "text/plain": [
       "Getting pixel values...:   0%|          | 0/1 [00:00<?, ?it/s]"
      ]
     },
     "metadata": {},
     "output_type": "display_data"
    },
    {
     "name": "stdout",
     "output_type": "stream",
     "text": [
      "/tmp\\f3273e0878c44425a60e437fa1e4077c\\rowcol_map_10s090e_20101117_gmted_med300.tif has been created\n"
     ]
    },
    {
     "data": {
      "application/vnd.jupyter.widget-view+json": {
       "model_id": "d112c505d992466ca894e289adcb7735",
       "version_major": 2,
       "version_minor": 0
      },
      "text/plain": [
       "Getting row&col of pixels...:   0%|          | 0/9670 [00:00<?, ?it/s]"
      ]
     },
     "metadata": {},
     "output_type": "display_data"
    },
    {
     "data": {
      "application/vnd.jupyter.widget-view+json": {
       "model_id": "0677034745144d7387989cfeef1636db",
       "version_major": 2,
       "version_minor": 0
      },
      "text/plain": [
       "Getting pixel values...:   0%|          | 0/1 [00:00<?, ?it/s]"
      ]
     },
     "metadata": {},
     "output_type": "display_data"
    }
   ],
   "source": [
    "\n",
    "list_df_extracted_dem = []\n",
    "list_error = []\n",
    "\n",
    "pbar = tqdm(df_files_dem.iterrows(), total=len(df_files_dem))\n",
    "for s_idx, s_row in pbar:\n",
    "    with rasterio.open(s_row.file_path) as ds:\n",
    "        left = ds.bounds.left\n",
    "        right = ds.bounds.right\n",
    "        top = ds.bounds.top\n",
    "        bottom = ds.bounds.bottom\n",
    "        gdf_openaq_tmp = gdf_openaq.copy()\n",
    "        gdf_openaq_tmp = gdf_openaq_tmp[gdf_openaq_tmp['lat'].between(bottom, top)].copy()\n",
    "        gdf_openaq_tmp = gdf_openaq_tmp[gdf_openaq_tmp['long'].between(left, right)].copy()\n",
    "    \n",
    "    try:\n",
    "        df_extracted_dem_curr = gis_tools.extract_pixval_single_file(\n",
    "            in_s_polygon=gdf_openaq_tmp['geometry'].to_crs(crs_dem),\n",
    "            in_raster_path=s_row.file_path,\n",
    "            in_list_out_col_nm=['dem'],\n",
    "            in_list_target_raster_band_id=[1],\n",
    "            nodata_val=-28672\n",
    "            )        \n",
    "        \n",
    "        list_df_extracted_dem.append(df_extracted_dem_curr)            \n",
    "    except ValueError:\n",
    "        list_error.append({\n",
    "            'gdf_openaq_tmp':gdf_openaq_tmp,\n",
    "            'raster_path':s_row.file_path\n",
    "        })\n",
    "\n",
    "    pbar.set_description(f'success={len(list_df_extracted_dem)} / error={len(list_error)} ')\n",
    "    \n"
   ]
  },
  {
   "cell_type": "code",
   "execution_count": 21,
   "metadata": {},
   "outputs": [
    {
     "data": {
      "text/html": [
       "<div>\n",
       "<style scoped>\n",
       "    .dataframe tbody tr th:only-of-type {\n",
       "        vertical-align: middle;\n",
       "    }\n",
       "\n",
       "    .dataframe tbody tr th {\n",
       "        vertical-align: top;\n",
       "    }\n",
       "\n",
       "    .dataframe thead th {\n",
       "        text-align: right;\n",
       "    }\n",
       "</style>\n",
       "<table border=\"1\" class=\"dataframe\">\n",
       "  <thead>\n",
       "    <tr style=\"text-align: right;\">\n",
       "      <th></th>\n",
       "      <th>measurement_id</th>\n",
       "      <th>row</th>\n",
       "      <th>col</th>\n",
       "      <th>dem</th>\n",
       "    </tr>\n",
       "  </thead>\n",
       "  <tbody>\n",
       "    <tr>\n",
       "      <th>0</th>\n",
       "      <td>0</td>\n",
       "      <td>1452</td>\n",
       "      <td>1516</td>\n",
       "      <td>174.0</td>\n",
       "    </tr>\n",
       "    <tr>\n",
       "      <th>1</th>\n",
       "      <td>1</td>\n",
       "      <td>1452</td>\n",
       "      <td>1516</td>\n",
       "      <td>174.0</td>\n",
       "    </tr>\n",
       "    <tr>\n",
       "      <th>2</th>\n",
       "      <td>2</td>\n",
       "      <td>1452</td>\n",
       "      <td>1516</td>\n",
       "      <td>174.0</td>\n",
       "    </tr>\n",
       "    <tr>\n",
       "      <th>3</th>\n",
       "      <td>3</td>\n",
       "      <td>1452</td>\n",
       "      <td>1516</td>\n",
       "      <td>174.0</td>\n",
       "    </tr>\n",
       "    <tr>\n",
       "      <th>4</th>\n",
       "      <td>4</td>\n",
       "      <td>1452</td>\n",
       "      <td>1516</td>\n",
       "      <td>174.0</td>\n",
       "    </tr>\n",
       "    <tr>\n",
       "      <th>...</th>\n",
       "      <td>...</td>\n",
       "      <td>...</td>\n",
       "      <td>...</td>\n",
       "      <td>...</td>\n",
       "    </tr>\n",
       "    <tr>\n",
       "      <th>9665</th>\n",
       "      <td>205085</td>\n",
       "      <td>4</td>\n",
       "      <td>1036</td>\n",
       "      <td>23.0</td>\n",
       "    </tr>\n",
       "    <tr>\n",
       "      <th>9666</th>\n",
       "      <td>205086</td>\n",
       "      <td>4</td>\n",
       "      <td>1036</td>\n",
       "      <td>23.0</td>\n",
       "    </tr>\n",
       "    <tr>\n",
       "      <th>9667</th>\n",
       "      <td>205087</td>\n",
       "      <td>4</td>\n",
       "      <td>1036</td>\n",
       "      <td>23.0</td>\n",
       "    </tr>\n",
       "    <tr>\n",
       "      <th>9668</th>\n",
       "      <td>205088</td>\n",
       "      <td>4</td>\n",
       "      <td>1036</td>\n",
       "      <td>23.0</td>\n",
       "    </tr>\n",
       "    <tr>\n",
       "      <th>9669</th>\n",
       "      <td>205089</td>\n",
       "      <td>4</td>\n",
       "      <td>1036</td>\n",
       "      <td>23.0</td>\n",
       "    </tr>\n",
       "  </tbody>\n",
       "</table>\n",
       "<p>218209 rows × 4 columns</p>\n",
       "</div>"
      ],
      "text/plain": [
       "      measurement_id   row   col    dem\n",
       "0                  0  1452  1516  174.0\n",
       "1                  1  1452  1516  174.0\n",
       "2                  2  1452  1516  174.0\n",
       "3                  3  1452  1516  174.0\n",
       "4                  4  1452  1516  174.0\n",
       "...              ...   ...   ...    ...\n",
       "9665          205085     4  1036   23.0\n",
       "9666          205086     4  1036   23.0\n",
       "9667          205087     4  1036   23.0\n",
       "9668          205088     4  1036   23.0\n",
       "9669          205089     4  1036   23.0\n",
       "\n",
       "[218209 rows x 4 columns]"
      ]
     },
     "execution_count": 21,
     "metadata": {},
     "output_type": "execute_result"
    }
   ],
   "source": [
    "df_extracted_dem = pd.concat(list_df_extracted_dem)\n",
    "df_extracted_dem"
   ]
  },
  {
   "cell_type": "code",
   "execution_count": 22,
   "metadata": {},
   "outputs": [],
   "source": [
    "\n",
    "df_extracted_dem.to_csv(r'../data/df_extracted_dem.csv', index=False)"
   ]
  },
  {
   "cell_type": "code",
   "execution_count": null,
   "metadata": {},
   "outputs": [],
   "source": [
    "gdf_openaq_remain = gdf_openaq[~(gdf_openaq.index.isin(df_extracted_dem['measurement_id'].values))].copy()"
   ]
  },
  {
   "cell_type": "code",
   "execution_count": null,
   "metadata": {},
   "outputs": [],
   "source": [
    "df_files_dem['datetime'] = df_files_dem['datetime'].apply(lambda datetime: pd.Timestamp(datetime).tz_convert(\"UTC\"))"
   ]
  },
  {
   "cell_type": "code",
   "execution_count": null,
   "metadata": {},
   "outputs": [],
   "source": [
    "df_files_dem['datetime'] "
   ]
  },
  {
   "cell_type": "code",
   "execution_count": null,
   "metadata": {},
   "outputs": [],
   "source": [
    "df_extracted_dem['dem_datetime'].dt.hour.hist(bins=24)"
   ]
  },
  {
   "cell_type": "code",
   "execution_count": null,
   "metadata": {},
   "outputs": [],
   "source": [
    "gdf_openaq_remain['datetime'].dt.hour.hist(bins=24)"
   ]
  },
  {
   "cell_type": "code",
   "execution_count": null,
   "metadata": {},
   "outputs": [],
   "source": [
    "df_extracted_dem_curr"
   ]
  },
  {
   "cell_type": "code",
   "execution_count": null,
   "metadata": {},
   "outputs": [],
   "source": [
    "profile"
   ]
  },
  {
   "cell_type": "code",
   "execution_count": null,
   "metadata": {},
   "outputs": [],
   "source": [
    "gdf_openaq_tmp.crs"
   ]
  }
 ],
 "metadata": {
  "kernelspec": {
   "display_name": "base",
   "language": "python",
   "name": "python3"
  },
  "language_info": {
   "codemirror_mode": {
    "name": "ipython",
    "version": 3
   },
   "file_extension": ".py",
   "mimetype": "text/x-python",
   "name": "python",
   "nbconvert_exporter": "python",
   "pygments_lexer": "ipython3",
   "version": "3.8.16"
  }
 },
 "nbformat": 4,
 "nbformat_minor": 2
}
