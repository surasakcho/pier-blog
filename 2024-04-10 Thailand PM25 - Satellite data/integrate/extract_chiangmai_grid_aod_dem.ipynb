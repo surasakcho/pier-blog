{
 "cells": [
  {
   "cell_type": "markdown",
   "metadata": {},
   "source": [
    "## Import lib"
   ]
  },
  {
   "cell_type": "code",
   "execution_count": 2,
   "metadata": {},
   "outputs": [],
   "source": [
    "import pandas as pd\n",
    "import matplotlib.pyplot as plt\n",
    "import seaborn as sns\n",
    "import geopandas as gpd\n",
    "from zkyhaxpy import io_tools, gis_tools\n",
    "import rasterio\n",
    "import os\n",
    "import shutil\n",
    "import numpy as np\n",
    "from tqdm.notebook import tqdm"
   ]
  },
  {
   "cell_type": "markdown",
   "metadata": {},
   "source": [
    "## Prepare Grid of Chiangmai Lat/Lon"
   ]
  },
  {
   "cell_type": "code",
   "execution_count": 4,
   "metadata": {},
   "outputs": [
    {
     "data": {
      "text/html": [
       "<div>\n",
       "<style scoped>\n",
       "    .dataframe tbody tr th:only-of-type {\n",
       "        vertical-align: middle;\n",
       "    }\n",
       "\n",
       "    .dataframe tbody tr th {\n",
       "        vertical-align: top;\n",
       "    }\n",
       "\n",
       "    .dataframe thead th {\n",
       "        text-align: right;\n",
       "    }\n",
       "</style>\n",
       "<table border=\"1\" class=\"dataframe\">\n",
       "  <thead>\n",
       "    <tr style=\"text-align: right;\">\n",
       "      <th></th>\n",
       "      <th>lat</th>\n",
       "      <th>lon</th>\n",
       "      <th>geometry</th>\n",
       "    </tr>\n",
       "    <tr>\n",
       "      <th>grid_id</th>\n",
       "      <th></th>\n",
       "      <th></th>\n",
       "      <th></th>\n",
       "    </tr>\n",
       "  </thead>\n",
       "  <tbody>\n",
       "    <tr>\n",
       "      <th>62620</th>\n",
       "      <td>17.2576</td>\n",
       "      <td>98.4170</td>\n",
       "      <td>POINT (98.41700 17.25760)</td>\n",
       "    </tr>\n",
       "    <tr>\n",
       "      <th>62621</th>\n",
       "      <td>17.2576</td>\n",
       "      <td>98.4259</td>\n",
       "      <td>POINT (98.42590 17.25760)</td>\n",
       "    </tr>\n",
       "    <tr>\n",
       "      <th>62622</th>\n",
       "      <td>17.2576</td>\n",
       "      <td>98.4349</td>\n",
       "      <td>POINT (98.43490 17.25760)</td>\n",
       "    </tr>\n",
       "    <tr>\n",
       "      <th>62623</th>\n",
       "      <td>17.2576</td>\n",
       "      <td>98.4439</td>\n",
       "      <td>POINT (98.44390 17.25760)</td>\n",
       "    </tr>\n",
       "    <tr>\n",
       "      <th>63065</th>\n",
       "      <td>17.2666</td>\n",
       "      <td>98.4080</td>\n",
       "      <td>POINT (98.40800 17.26660)</td>\n",
       "    </tr>\n",
       "    <tr>\n",
       "      <th>...</th>\n",
       "      <td>...</td>\n",
       "      <td>...</td>\n",
       "      <td>...</td>\n",
       "    </tr>\n",
       "    <tr>\n",
       "      <th>205907</th>\n",
       "      <td>20.1412</td>\n",
       "      <td>99.5039</td>\n",
       "      <td>POINT (99.50390 20.14120)</td>\n",
       "    </tr>\n",
       "    <tr>\n",
       "      <th>205908</th>\n",
       "      <td>20.1412</td>\n",
       "      <td>99.5129</td>\n",
       "      <td>POINT (99.51290 20.14120)</td>\n",
       "    </tr>\n",
       "    <tr>\n",
       "      <th>205909</th>\n",
       "      <td>20.1412</td>\n",
       "      <td>99.5219</td>\n",
       "      <td>POINT (99.52190 20.14120)</td>\n",
       "    </tr>\n",
       "    <tr>\n",
       "      <th>205910</th>\n",
       "      <td>20.1412</td>\n",
       "      <td>99.5309</td>\n",
       "      <td>POINT (99.53090 20.14120)</td>\n",
       "    </tr>\n",
       "    <tr>\n",
       "      <th>206354</th>\n",
       "      <td>20.1502</td>\n",
       "      <td>99.5129</td>\n",
       "      <td>POINT (99.51290 20.15020)</td>\n",
       "    </tr>\n",
       "  </tbody>\n",
       "</table>\n",
       "<p>24197 rows × 3 columns</p>\n",
       "</div>"
      ],
      "text/plain": [
       "             lat      lon                   geometry\n",
       "grid_id                                             \n",
       "62620    17.2576  98.4170  POINT (98.41700 17.25760)\n",
       "62621    17.2576  98.4259  POINT (98.42590 17.25760)\n",
       "62622    17.2576  98.4349  POINT (98.43490 17.25760)\n",
       "62623    17.2576  98.4439  POINT (98.44390 17.25760)\n",
       "63065    17.2666  98.4080  POINT (98.40800 17.26660)\n",
       "...          ...      ...                        ...\n",
       "205907   20.1412  99.5039  POINT (99.50390 20.14120)\n",
       "205908   20.1412  99.5129  POINT (99.51290 20.14120)\n",
       "205909   20.1412  99.5219  POINT (99.52190 20.14120)\n",
       "205910   20.1412  99.5309  POINT (99.53090 20.14120)\n",
       "206354   20.1502  99.5129  POINT (99.51290 20.15020)\n",
       "\n",
       "[24197 rows x 3 columns]"
      ]
     },
     "execution_count": 4,
     "metadata": {},
     "output_type": "execute_result"
    }
   ],
   "source": [
    "def generate_grid(lat_min, lat_max, lon_min, lon_max, step_size_km=1):\n",
    "    \"\"\"\n",
    "    Generates a regular grid of latitude and longitude coordinates within the specified bounding box.\n",
    "    :param lat_min: Minimum latitude\n",
    "    :param lat_max: Maximum latitude\n",
    "    :param lon_min: Minimum longitude\n",
    "    :param lon_max: Maximum longitude\n",
    "    :param step_size_km: Spacing between grid points (default: 1 km)\n",
    "    :return: List of (latitude, longitude) pairs\n",
    "    \"\"\"\n",
    "    grid_points = []\n",
    "    step_size_deg = step_size_km / 111.32  # Approximate conversion from km to degrees\n",
    "    \n",
    "    for lat in np.arange(lat_min, lat_max, step_size_deg):\n",
    "        for lon in np.arange(lon_min, lon_max, step_size_deg):\n",
    "            grid_points.append((round(lat, 4), round(lon, 4)))  # Convert back to decimal degrees\n",
    "\n",
    "    return grid_points\n",
    "\n",
    "\n",
    "# Example usage:\n",
    "chiangmai_lat_min = 17\n",
    "chiangmai_lat_max = 20.5\n",
    "chiangmai_lon_min = 97.8\n",
    "chiangmai_lon_max = 99.8\n",
    "pad_size = 1.0\n",
    "\n",
    "#Get shapefile of Chiangmai\n",
    "gdf_thailand = gpd.read_file(r'../data/thailandWithName.json')\n",
    "gdf_chiangmai = gdf_thailand[gdf_thailand['name'] == 'Chiang Mai']\n",
    "\n",
    "#Create grid lat/lon for Chiangmai every 1 km\n",
    "chiangmai_grid = generate_grid(chiangmai_lat_min-pad_size, chiangmai_lat_max+pad_size, chiangmai_lon_min-pad_size, chiangmai_lon_max+pad_size)\n",
    "df_chiangmai_grid = pd.DataFrame(chiangmai_grid, columns=['lat', 'lon'])\n",
    "df_chiangmai_grid['geometry'] = 'POINT (' + df_chiangmai_grid['lon'].astype(str) + ' ' + df_chiangmai_grid['lat'].astype(str) + ')'\n",
    "gdf_chiangmai_grid = gis_tools.df_to_gdf(df_chiangmai_grid, geometry='geometry')\n",
    "gdf_chiangmai_grid.index.name = 'grid_id'\n",
    "gdf_chiangmai_grid = gdf_chiangmai_grid[gdf_chiangmai_grid['geometry'].intersects(gdf_chiangmai['geometry'].iloc[0])].copy()\n",
    "gdf_chiangmai_grid"
   ]
  },
  {
   "cell_type": "markdown",
   "metadata": {},
   "source": [
    "## DEM"
   ]
  },
  {
   "cell_type": "code",
   "execution_count": 16,
   "metadata": {},
   "outputs": [
    {
     "name": "stdout",
     "output_type": "stream",
     "text": [
      "Total of 2 files have been listed.\n"
     ]
    },
    {
     "data": {
      "text/html": [
       "<div>\n",
       "<style scoped>\n",
       "    .dataframe tbody tr th:only-of-type {\n",
       "        vertical-align: middle;\n",
       "    }\n",
       "\n",
       "    .dataframe tbody tr th {\n",
       "        vertical-align: top;\n",
       "    }\n",
       "\n",
       "    .dataframe thead th {\n",
       "        text-align: right;\n",
       "    }\n",
       "</style>\n",
       "<table border=\"1\" class=\"dataframe\">\n",
       "  <thead>\n",
       "    <tr style=\"text-align: right;\">\n",
       "      <th></th>\n",
       "      <th>file_path</th>\n",
       "      <th>file_nm</th>\n",
       "      <th>folder_nm</th>\n",
       "      <th>file_ext</th>\n",
       "      <th>tile_id</th>\n",
       "    </tr>\n",
       "  </thead>\n",
       "  <tbody>\n",
       "    <tr>\n",
       "      <th>0</th>\n",
       "      <td>../data/dem\\10n090e_20101117_gmted_med300.tif</td>\n",
       "      <td>10n090e_20101117_gmted_med300.tif</td>\n",
       "      <td>dem</td>\n",
       "      <td>tif</td>\n",
       "      <td>10n090e</td>\n",
       "    </tr>\n",
       "    <tr>\n",
       "      <th>1</th>\n",
       "      <td>../data/dem\\10s090e_20101117_gmted_med300.tif</td>\n",
       "      <td>10s090e_20101117_gmted_med300.tif</td>\n",
       "      <td>dem</td>\n",
       "      <td>tif</td>\n",
       "      <td>10s090e</td>\n",
       "    </tr>\n",
       "  </tbody>\n",
       "</table>\n",
       "</div>"
      ],
      "text/plain": [
       "                                       file_path  \\\n",
       "0  ../data/dem\\10n090e_20101117_gmted_med300.tif   \n",
       "1  ../data/dem\\10s090e_20101117_gmted_med300.tif   \n",
       "\n",
       "                             file_nm folder_nm file_ext  tile_id  \n",
       "0  10n090e_20101117_gmted_med300.tif       dem      tif  10n090e  \n",
       "1  10s090e_20101117_gmted_med300.tif       dem      tif  10s090e  "
      ]
     },
     "execution_count": 16,
     "metadata": {},
     "output_type": "execute_result"
    }
   ],
   "source": [
    "dir_chiangmai_dem = r'../data/chiangmai_dem'\n",
    "io_tools.create_folders(dir_chiangmai_dem)\n",
    "\n",
    "df_list_path_dem = io_tools.get_list_files('../data/dem', '.tif$', return_df=True)\n",
    "df_list_path_dem['tile_id'] = df_list_path_dem['file_nm'].apply(lambda file_nm: file_nm[:7])\n",
    "df_list_path_dem"
   ]
  },
  {
   "cell_type": "code",
   "execution_count": 26,
   "metadata": {},
   "outputs": [
    {
     "name": "stdout",
     "output_type": "stream",
     "text": [
      "../data/df_chiangmai_dem.parquet has been loaded.\n"
     ]
    }
   ],
   "source": [
    "path_chiangmai_dem = r'../data/df_chiangmai_dem.parquet'\n",
    "if not os.path.exists(path_chiangmai_dem):\n",
    "\n",
    "    pbar_dem = tqdm(df_list_path_dem.iterrows(), total=len(df_list_path_dem))\n",
    "\n",
    "    list_df_pixval_dem = []\n",
    "    list_error = []\n",
    "    for _, s_row in pbar_dem:    \n",
    "        tile_id = s_row.tile_id\n",
    "        path_out = os.path.join(dir_chiangmai_dem, f'df_chiangmai_dem-{tile_id}.parquet')\n",
    "        if os.path.exists(path_out):\n",
    "            print(f'{path_out} already exists')\n",
    "            df_pixval_dem = pd.read_parquet(path_out)\n",
    "            list_df_pixval_dem.append(df_pixval_dem)\n",
    "            continue\n",
    "        \n",
    "        pbar_dem.set_description(f'success={len(list_df_pixval_dem)} / error={len(list_error)}')\n",
    "            \n",
    "        #Get CRS of raster image\n",
    "        path_raster = s_row.file_path\n",
    "        with rasterio.open(path_raster) as ds:\n",
    "            crs = ds.crs\n",
    "\n",
    "        #Extract monthly dem\n",
    "        try:\n",
    "            df_pixval_dem = gis_tools.extract_pixval_single_file(\n",
    "                in_s_polygon=gdf_chiangmai_grid.geometry.to_crs(crs),  \n",
    "                in_raster_path=path_raster,  \n",
    "                in_list_out_col_nm=['dem'],  \n",
    "                in_list_target_raster_band_id=[1],  \n",
    "                nodata_val=-28672,             \n",
    "                )            \n",
    "            df_pixval_dem = df_pixval_dem.set_index('grid_id')\n",
    "            del(df_pixval_dem['row'])\n",
    "            del(df_pixval_dem['col'])\n",
    "            df_pixval_dem.loc[:, ] = np.where(df_pixval_dem.loc[:, ].values==-28672, np.nan, df_pixval_dem.loc[:, ].values)\n",
    "            df_pixval_dem.to_parquet(path_out)\n",
    "            list_df_pixval_dem.append(df_pixval_dem)    \n",
    "        except ValueError:\n",
    "            list_error.append(tile_id)\n",
    "        \n",
    "\n",
    "\n",
    "    df_pixval_dem = pd.concat(list_df_pixval_dem)\n",
    "    df_pixval_dem.to_parquet(path_chiangmai_dem)\n",
    "    print(f'{path_chiangmai_dem} has been saved.')\n",
    "    \n",
    "else:\n",
    "    df_pixval_dem = pd.read_parquet(path_chiangmai_dem)\n",
    "    print(f'{path_chiangmai_dem} has been loaded.')\n"
   ]
  },
  {
   "cell_type": "markdown",
   "metadata": {},
   "source": [
    "## AOD"
   ]
  },
  {
   "cell_type": "code",
   "execution_count": 7,
   "metadata": {},
   "outputs": [],
   "source": [
    "dir_chiangmai_aod_daily = r'../data/chiangmai_aod_daily'\n",
    "io_tools.create_folders(dir_chiangmai_aod_daily)\n",
    "\n",
    "df_list_path_aod = io_tools.get_list_files('../../../data/aod/translated', '.tif$', return_df=True)\n",
    "df_list_path_aod['year'] = df_list_path_aod['folder_nm'].astype(int)\n",
    "df_list_path_aod['date'] = df_list_path_aod['file_nm'].str.slice(8, 18)\n",
    "df_list_path_aod['year_month'] = df_list_path_aod['file_nm'].str.slice(8, 15)\n",
    "df_list_path_aod['datetime'] = df_list_path_aod['file_nm'].str.slice(8, 23)\n",
    "df_list_path_aod['tile_id'] = df_list_path_aod['file_path'].apply(lambda file_path: file_path.split('\\\\')[-3])\n",
    "df_list_path_aod"
   ]
  },
  {
   "cell_type": "code",
   "execution_count": 28,
   "metadata": {},
   "outputs": [
    {
     "data": {
      "application/vnd.jupyter.widget-view+json": {
       "model_id": "51e73be9e3d649b6ba2e640470d4f37c",
       "version_major": 2,
       "version_minor": 0
      },
      "text/plain": [
       "  0%|          | 0/63 [00:00<?, ?it/s]"
      ]
     },
     "metadata": {},
     "output_type": "display_data"
    }
   ],
   "source": [
    "YEAR_START_PREDICT = 2019\n",
    "# list_tile_id = ['h27v07', 'h27v08', 'h28v07', 'h28v08']\n",
    "list_tile_id = ['h27v07']\n",
    "\n",
    "df_list_path_aod_curr = df_list_path_aod[(df_list_path_aod['year']>=YEAR_START_PREDICT) & (df_list_path_aod['tile_id'].isin(list_tile_id))].copy()\n",
    "df_list_path_aod_curr = df_list_path_aod_curr.sample(frac=1.0)\n",
    "\n",
    "pbar_aod_year_month = tqdm(df_list_path_aod_curr.groupby(['tile_id', 'year_month'], sort=False))"
   ]
  },
  {
   "cell_type": "code",
   "execution_count": 29,
   "metadata": {},
   "outputs": [
    {
     "data": {
      "application/vnd.jupyter.widget-view+json": {
       "model_id": "df3095b05c8142179f1a2b378204af07",
       "version_major": 2,
       "version_minor": 0
      },
      "text/plain": [
       "  0%|          | 0/111 [00:00<?, ?it/s]"
      ]
     },
     "metadata": {},
     "output_type": "display_data"
    },
    {
     "name": "stdout",
     "output_type": "stream",
     "text": [
      "../data/chiangmai_aod_daily\\df_chiangmai_aod_daily-2024-04-h27v07.parquet already exists\n",
      "../data/chiangmai_aod_daily\\df_chiangmai_aod_daily-2021-09-h27v07.parquet already exists\n",
      "../data/chiangmai_aod_daily\\df_chiangmai_aod_daily-2022-05-h27v07.parquet already exists\n",
      "../data/chiangmai_aod_daily\\df_chiangmai_aod_daily-2022-07-h27v07.parquet already exists\n",
      "/tmp\\84a61c365b1640c8aa7d80768037d31a\\rowcol_map_aod_055-2016-08-06_0720.tif has been created\n"
     ]
    },
    {
     "data": {
      "application/vnd.jupyter.widget-view+json": {
       "model_id": "3f2f8a90fd2f42cf94b978bee4c41312",
       "version_major": 2,
       "version_minor": 0
      },
      "text/plain": [
       "Getting row&col of pixels...:   0%|          | 0/24197 [00:00<?, ?it/s]"
      ]
     },
     "metadata": {},
     "output_type": "display_data"
    }
   ],
   "source": [
    "YEAR_START_PREDICT = 2015\n",
    "# list_tile_id = ['h27v07', 'h27v08', 'h28v07', 'h28v08']\n",
    "list_tile_id = ['h27v07']\n",
    "\n",
    "df_list_path_aod_curr = df_list_path_aod[(df_list_path_aod['year']>=YEAR_START_PREDICT) & (df_list_path_aod['tile_id'].isin(list_tile_id))].copy()\n",
    "df_list_path_aod_curr = df_list_path_aod_curr.sample(frac=1.0)\n",
    "\n",
    "pbar_aod_year_month = tqdm(df_list_path_aod_curr.groupby(['tile_id', 'year_month'], sort=False))\n",
    "\n",
    "list_df_pixval_aod_daily = []\n",
    "list_error = []\n",
    "for (tile_id, year_month), df_list_path_aod_tile_year_month in pbar_aod_year_month:    \n",
    "    path_out = os.path.join(dir_chiangmai_aod_daily, f'df_chiangmai_aod_daily-{year_month}-{tile_id}.parquet')\n",
    "    if os.path.exists(path_out):\n",
    "        print(f'{path_out} already exists')\n",
    "        df_pixval_aod_daily = pd.read_parquet(path_out)\n",
    "        list_df_pixval_aod_daily.append(df_pixval_aod_daily)\n",
    "        continue\n",
    "    \n",
    "    pbar_aod_year_month.set_description(f'success={len(list_df_pixval_aod_daily)} / error={len(list_error)}')\n",
    "    #Prepare list of columns and raster paths\n",
    "    list_out_col = df_list_path_aod_tile_year_month['datetime'].to_list()\n",
    "    list_path_raster = df_list_path_aod_tile_year_month['file_path'].to_list()\n",
    "\n",
    "    #Get CRS of raster image\n",
    "    path_raster_tmp = list_path_raster[0]\n",
    "    with rasterio.open(path_raster_tmp) as ds:\n",
    "        crs = ds.crs\n",
    "\n",
    "    #Extract monthly AOD\n",
    "    try:\n",
    "        df_pixval_aod = gis_tools.extract_pixval_multi_files(    \n",
    "            in_s_polygon=gdf_chiangmai_grid.geometry.to_crs(crs),  \n",
    "            in_list_raster_path=list_path_raster,  \n",
    "            in_list_out_col_nm=list_out_col,  \n",
    "            in_target_raster_band_id=1,  \n",
    "            nodata_val=-28672,  \n",
    "            check_raster_consistent=True, \n",
    "            )\n",
    "        \n",
    "        df_pixval_aod = df_pixval_aod.set_index('grid_id')\n",
    "        del(df_pixval_aod['row'])\n",
    "        del(df_pixval_aod['col'])\n",
    "        df_pixval_aod.loc[:, ] = np.where(df_pixval_aod.loc[:, ].values==-28672, np.nan, df_pixval_aod.loc[:, ].values)\n",
    "\n",
    "        #Aggregate into daily data\n",
    "        df_pixval_aod_daily = pd.DataFrame(index=df_pixval_aod.index)\n",
    "        df_pixval_aod_daily['year_month'] = year_month\n",
    "        df_pixval_aod_daily['tile_id'] = tile_id\n",
    "        list_date = [datetime[:10] for datetime in df_pixval_aod.columns]\n",
    "        list_date = sorted(set(list_date))\n",
    "\n",
    "        for date in list_date:\n",
    "            list_col_curr = [col for col in df_pixval_aod.columns if col.startswith(date)]\n",
    "            df_pixval_aod_daily[date] = np.nanmedian(df_pixval_aod.loc[:, list_col_curr].values, axis=1)\n",
    "        df_pixval_aod_daily.to_parquet(path_out)\n",
    "        list_df_pixval_aod_daily.append(df_pixval_aod_daily)\n",
    "    except ValueError:\n",
    "        list_error.append((tile_id, year_month))\n",
    "\n",
    "\n",
    "df_pixval_aod_daily = pd.concat(list_df_pixval_aod_daily)\n",
    "df_pixval_aod_daily.to_parquet(r'../data/df_chiangmai_aod_daily.parquet')\n",
    "# df_pixval_aod_daily.to_csv(r'../data/df_chiangmai_aod_daily.csv')\n",
    "\n"
   ]
  },
  {
   "cell_type": "code",
   "execution_count": 25,
   "metadata": {},
   "outputs": [
    {
     "data": {
      "application/vnd.jupyter.widget-view+json": {
       "model_id": "96ca2cc33cdf42a984783b1b3bc2ede6",
       "version_major": 2,
       "version_minor": 0
      },
      "text/plain": [
       "  0%|          | 0/111 [00:00<?, ?it/s]"
      ]
     },
     "metadata": {},
     "output_type": "display_data"
    },
    {
     "name": "stdout",
     "output_type": "stream",
     "text": [
      "/tmp\\0fc92a8dfe634568855907eb13db3938\\rowcol_map_aod_055-2015-01-30_0645.tif has been created\n"
     ]
    },
    {
     "data": {
      "application/vnd.jupyter.widget-view+json": {
       "model_id": "9ba7059cad3f45c0b8f5302ca0d6a3ca",
       "version_major": 2,
       "version_minor": 0
      },
      "text/plain": [
       "Getting row&col of pixels...:   0%|          | 0/24197 [00:00<?, ?it/s]"
      ]
     },
     "metadata": {},
     "output_type": "display_data"
    },
    {
     "data": {
      "application/vnd.jupyter.widget-view+json": {
       "model_id": "6b8a30a5772e44238f2045f228d3d866",
       "version_major": 2,
       "version_minor": 0
      },
      "text/plain": [
       "Getting pixel values...:   0%|          | 0/103 [00:00<?, ?it/s]"
      ]
     },
     "metadata": {},
     "output_type": "display_data"
    },
    {
     "name": "stderr",
     "output_type": "stream",
     "text": [
      "c:\\users\\suras\\onedrive\\desktop\\zkyhaxpy\\zkyhaxpy\\gis_tools.py:1017: PerformanceWarning: DataFrame is highly fragmented.  This is usually the result of calling `frame.insert` many times, which has poor performance.  Consider joining all columns at once using pd.concat(axis=1) instead. To get a de-fragmented frame, use `newframe = frame.copy()`\n",
      "  df_polygon_row_col_pixval[col_nm] = np.where(arr_pixval_1d==nodata_val, np.nan, arr_pixval_1d)\n",
      "c:\\users\\suras\\onedrive\\desktop\\zkyhaxpy\\zkyhaxpy\\gis_tools.py:1017: PerformanceWarning: DataFrame is highly fragmented.  This is usually the result of calling `frame.insert` many times, which has poor performance.  Consider joining all columns at once using pd.concat(axis=1) instead. To get a de-fragmented frame, use `newframe = frame.copy()`\n",
      "  df_polygon_row_col_pixval[col_nm] = np.where(arr_pixval_1d==nodata_val, np.nan, arr_pixval_1d)\n",
      "c:\\users\\suras\\onedrive\\desktop\\zkyhaxpy\\zkyhaxpy\\gis_tools.py:1017: PerformanceWarning: DataFrame is highly fragmented.  This is usually the result of calling `frame.insert` many times, which has poor performance.  Consider joining all columns at once using pd.concat(axis=1) instead. To get a de-fragmented frame, use `newframe = frame.copy()`\n",
      "  df_polygon_row_col_pixval[col_nm] = np.where(arr_pixval_1d==nodata_val, np.nan, arr_pixval_1d)\n",
      "c:\\users\\suras\\onedrive\\desktop\\zkyhaxpy\\zkyhaxpy\\gis_tools.py:1017: PerformanceWarning: DataFrame is highly fragmented.  This is usually the result of calling `frame.insert` many times, which has poor performance.  Consider joining all columns at once using pd.concat(axis=1) instead. To get a de-fragmented frame, use `newframe = frame.copy()`\n",
      "  df_polygon_row_col_pixval[col_nm] = np.where(arr_pixval_1d==nodata_val, np.nan, arr_pixval_1d)\n",
      "c:\\users\\suras\\onedrive\\desktop\\zkyhaxpy\\zkyhaxpy\\gis_tools.py:1017: PerformanceWarning: DataFrame is highly fragmented.  This is usually the result of calling `frame.insert` many times, which has poor performance.  Consider joining all columns at once using pd.concat(axis=1) instead. To get a de-fragmented frame, use `newframe = frame.copy()`\n",
      "  df_polygon_row_col_pixval[col_nm] = np.where(arr_pixval_1d==nodata_val, np.nan, arr_pixval_1d)\n",
      "c:\\users\\suras\\onedrive\\desktop\\zkyhaxpy\\zkyhaxpy\\gis_tools.py:1017: PerformanceWarning: DataFrame is highly fragmented.  This is usually the result of calling `frame.insert` many times, which has poor performance.  Consider joining all columns at once using pd.concat(axis=1) instead. To get a de-fragmented frame, use `newframe = frame.copy()`\n",
      "  df_polygon_row_col_pixval[col_nm] = np.where(arr_pixval_1d==nodata_val, np.nan, arr_pixval_1d)\n",
      "C:\\Users\\suras\\AppData\\Local\\Temp\\ipykernel_7988\\2462053152.py:54: RuntimeWarning: All-NaN slice encountered\n",
      "  df_pixval_aod_daily[date] = np.nanmedian(df_pixval_aod.loc[:, list_col_curr].values, axis=1)\n",
      "C:\\Users\\suras\\AppData\\Local\\Temp\\ipykernel_7988\\2462053152.py:54: RuntimeWarning: All-NaN slice encountered\n",
      "  df_pixval_aod_daily[date] = np.nanmedian(df_pixval_aod.loc[:, list_col_curr].values, axis=1)\n",
      "C:\\Users\\suras\\AppData\\Local\\Temp\\ipykernel_7988\\2462053152.py:54: RuntimeWarning: All-NaN slice encountered\n",
      "  df_pixval_aod_daily[date] = np.nanmedian(df_pixval_aod.loc[:, list_col_curr].values, axis=1)\n",
      "C:\\Users\\suras\\AppData\\Local\\Temp\\ipykernel_7988\\2462053152.py:54: RuntimeWarning: All-NaN slice encountered\n",
      "  df_pixval_aod_daily[date] = np.nanmedian(df_pixval_aod.loc[:, list_col_curr].values, axis=1)\n",
      "C:\\Users\\suras\\AppData\\Local\\Temp\\ipykernel_7988\\2462053152.py:54: RuntimeWarning: All-NaN slice encountered\n",
      "  df_pixval_aod_daily[date] = np.nanmedian(df_pixval_aod.loc[:, list_col_curr].values, axis=1)\n",
      "C:\\Users\\suras\\AppData\\Local\\Temp\\ipykernel_7988\\2462053152.py:54: RuntimeWarning: All-NaN slice encountered\n",
      "  df_pixval_aod_daily[date] = np.nanmedian(df_pixval_aod.loc[:, list_col_curr].values, axis=1)\n",
      "C:\\Users\\suras\\AppData\\Local\\Temp\\ipykernel_7988\\2462053152.py:54: RuntimeWarning: All-NaN slice encountered\n",
      "  df_pixval_aod_daily[date] = np.nanmedian(df_pixval_aod.loc[:, list_col_curr].values, axis=1)\n",
      "C:\\Users\\suras\\AppData\\Local\\Temp\\ipykernel_7988\\2462053152.py:54: RuntimeWarning: All-NaN slice encountered\n",
      "  df_pixval_aod_daily[date] = np.nanmedian(df_pixval_aod.loc[:, list_col_curr].values, axis=1)\n",
      "C:\\Users\\suras\\AppData\\Local\\Temp\\ipykernel_7988\\2462053152.py:54: RuntimeWarning: All-NaN slice encountered\n",
      "  df_pixval_aod_daily[date] = np.nanmedian(df_pixval_aod.loc[:, list_col_curr].values, axis=1)\n",
      "C:\\Users\\suras\\AppData\\Local\\Temp\\ipykernel_7988\\2462053152.py:54: RuntimeWarning: All-NaN slice encountered\n",
      "  df_pixval_aod_daily[date] = np.nanmedian(df_pixval_aod.loc[:, list_col_curr].values, axis=1)\n",
      "C:\\Users\\suras\\AppData\\Local\\Temp\\ipykernel_7988\\2462053152.py:54: RuntimeWarning: All-NaN slice encountered\n",
      "  df_pixval_aod_daily[date] = np.nanmedian(df_pixval_aod.loc[:, list_col_curr].values, axis=1)\n",
      "C:\\Users\\suras\\AppData\\Local\\Temp\\ipykernel_7988\\2462053152.py:54: RuntimeWarning: All-NaN slice encountered\n",
      "  df_pixval_aod_daily[date] = np.nanmedian(df_pixval_aod.loc[:, list_col_curr].values, axis=1)\n",
      "C:\\Users\\suras\\AppData\\Local\\Temp\\ipykernel_7988\\2462053152.py:54: RuntimeWarning: All-NaN slice encountered\n",
      "  df_pixval_aod_daily[date] = np.nanmedian(df_pixval_aod.loc[:, list_col_curr].values, axis=1)\n",
      "C:\\Users\\suras\\AppData\\Local\\Temp\\ipykernel_7988\\2462053152.py:54: RuntimeWarning: All-NaN slice encountered\n",
      "  df_pixval_aod_daily[date] = np.nanmedian(df_pixval_aod.loc[:, list_col_curr].values, axis=1)\n",
      "C:\\Users\\suras\\AppData\\Local\\Temp\\ipykernel_7988\\2462053152.py:54: RuntimeWarning: All-NaN slice encountered\n",
      "  df_pixval_aod_daily[date] = np.nanmedian(df_pixval_aod.loc[:, list_col_curr].values, axis=1)\n",
      "C:\\Users\\suras\\AppData\\Local\\Temp\\ipykernel_7988\\2462053152.py:54: RuntimeWarning: All-NaN slice encountered\n",
      "  df_pixval_aod_daily[date] = np.nanmedian(df_pixval_aod.loc[:, list_col_curr].values, axis=1)\n",
      "C:\\Users\\suras\\AppData\\Local\\Temp\\ipykernel_7988\\2462053152.py:54: RuntimeWarning: All-NaN slice encountered\n",
      "  df_pixval_aod_daily[date] = np.nanmedian(df_pixval_aod.loc[:, list_col_curr].values, axis=1)\n",
      "C:\\Users\\suras\\AppData\\Local\\Temp\\ipykernel_7988\\2462053152.py:54: RuntimeWarning: All-NaN slice encountered\n",
      "  df_pixval_aod_daily[date] = np.nanmedian(df_pixval_aod.loc[:, list_col_curr].values, axis=1)\n",
      "C:\\Users\\suras\\AppData\\Local\\Temp\\ipykernel_7988\\2462053152.py:54: RuntimeWarning: All-NaN slice encountered\n",
      "  df_pixval_aod_daily[date] = np.nanmedian(df_pixval_aod.loc[:, list_col_curr].values, axis=1)\n",
      "C:\\Users\\suras\\AppData\\Local\\Temp\\ipykernel_7988\\2462053152.py:54: RuntimeWarning: All-NaN slice encountered\n",
      "  df_pixval_aod_daily[date] = np.nanmedian(df_pixval_aod.loc[:, list_col_curr].values, axis=1)\n",
      "C:\\Users\\suras\\AppData\\Local\\Temp\\ipykernel_7988\\2462053152.py:54: RuntimeWarning: All-NaN slice encountered\n",
      "  df_pixval_aod_daily[date] = np.nanmedian(df_pixval_aod.loc[:, list_col_curr].values, axis=1)\n",
      "C:\\Users\\suras\\AppData\\Local\\Temp\\ipykernel_7988\\2462053152.py:54: RuntimeWarning: All-NaN slice encountered\n",
      "  df_pixval_aod_daily[date] = np.nanmedian(df_pixval_aod.loc[:, list_col_curr].values, axis=1)\n",
      "C:\\Users\\suras\\AppData\\Local\\Temp\\ipykernel_7988\\2462053152.py:54: RuntimeWarning: All-NaN slice encountered\n",
      "  df_pixval_aod_daily[date] = np.nanmedian(df_pixval_aod.loc[:, list_col_curr].values, axis=1)\n",
      "C:\\Users\\suras\\AppData\\Local\\Temp\\ipykernel_7988\\2462053152.py:54: RuntimeWarning: All-NaN slice encountered\n",
      "  df_pixval_aod_daily[date] = np.nanmedian(df_pixval_aod.loc[:, list_col_curr].values, axis=1)\n",
      "C:\\Users\\suras\\AppData\\Local\\Temp\\ipykernel_7988\\2462053152.py:54: RuntimeWarning: All-NaN slice encountered\n",
      "  df_pixval_aod_daily[date] = np.nanmedian(df_pixval_aod.loc[:, list_col_curr].values, axis=1)\n",
      "C:\\Users\\suras\\AppData\\Local\\Temp\\ipykernel_7988\\2462053152.py:54: RuntimeWarning: All-NaN slice encountered\n",
      "  df_pixval_aod_daily[date] = np.nanmedian(df_pixval_aod.loc[:, list_col_curr].values, axis=1)\n",
      "C:\\Users\\suras\\AppData\\Local\\Temp\\ipykernel_7988\\2462053152.py:54: RuntimeWarning: All-NaN slice encountered\n",
      "  df_pixval_aod_daily[date] = np.nanmedian(df_pixval_aod.loc[:, list_col_curr].values, axis=1)\n",
      "C:\\Users\\suras\\AppData\\Local\\Temp\\ipykernel_7988\\2462053152.py:54: RuntimeWarning: All-NaN slice encountered\n",
      "  df_pixval_aod_daily[date] = np.nanmedian(df_pixval_aod.loc[:, list_col_curr].values, axis=1)\n",
      "C:\\Users\\suras\\AppData\\Local\\Temp\\ipykernel_7988\\2462053152.py:54: RuntimeWarning: All-NaN slice encountered\n",
      "  df_pixval_aod_daily[date] = np.nanmedian(df_pixval_aod.loc[:, list_col_curr].values, axis=1)\n"
     ]
    },
    {
     "name": "stdout",
     "output_type": "stream",
     "text": [
      "/tmp\\011a59ba5c8447a5a82f1f3ebfaa541a\\rowcol_map_aod_055-2015-02-27_0710.tif has been created\n"
     ]
    },
    {
     "data": {
      "application/vnd.jupyter.widget-view+json": {
       "model_id": "8dd9eb5f39eb4776b321d344c86e85f7",
       "version_major": 2,
       "version_minor": 0
      },
      "text/plain": [
       "Getting row&col of pixels...:   0%|          | 0/24197 [00:00<?, ?it/s]"
      ]
     },
     "metadata": {},
     "output_type": "display_data"
    },
    {
     "ename": "KeyboardInterrupt",
     "evalue": "",
     "output_type": "error",
     "traceback": [
      "\u001b[1;31m---------------------------------------------------------------------------\u001b[0m",
      "\u001b[1;31mKeyboardInterrupt\u001b[0m                         Traceback (most recent call last)",
      "Cell \u001b[1;32mIn[25], line 31\u001b[0m\n\u001b[0;32m     29\u001b[0m \u001b[38;5;66;03m#Extract monthly AOD\u001b[39;00m\n\u001b[0;32m     30\u001b[0m \u001b[38;5;28;01mtry\u001b[39;00m:\n\u001b[1;32m---> 31\u001b[0m     df_pixval_aod \u001b[38;5;241m=\u001b[39m gis_tools\u001b[38;5;241m.\u001b[39mextract_pixval_multi_files(    \n\u001b[0;32m     32\u001b[0m         in_s_polygon\u001b[38;5;241m=\u001b[39mgdf_chiangmai_grid\u001b[38;5;241m.\u001b[39mgeometry\u001b[38;5;241m.\u001b[39mto_crs(crs),  \n\u001b[0;32m     33\u001b[0m         in_list_raster_path\u001b[38;5;241m=\u001b[39mlist_path_raster,  \n\u001b[0;32m     34\u001b[0m         in_list_out_col_nm\u001b[38;5;241m=\u001b[39mlist_out_col,  \n\u001b[0;32m     35\u001b[0m         in_target_raster_band_id\u001b[38;5;241m=\u001b[39m\u001b[38;5;241m1\u001b[39m,  \n\u001b[0;32m     36\u001b[0m         nodata_val\u001b[38;5;241m=\u001b[39m\u001b[38;5;241m-\u001b[39m\u001b[38;5;241m28672\u001b[39m,  \n\u001b[0;32m     37\u001b[0m         check_raster_consistent\u001b[38;5;241m=\u001b[39m\u001b[38;5;28;01mTrue\u001b[39;00m, \n\u001b[0;32m     38\u001b[0m         )\n\u001b[0;32m     40\u001b[0m     df_pixval_aod \u001b[38;5;241m=\u001b[39m df_pixval_aod\u001b[38;5;241m.\u001b[39mset_index(\u001b[38;5;124m'\u001b[39m\u001b[38;5;124mgrid_id\u001b[39m\u001b[38;5;124m'\u001b[39m)\n\u001b[0;32m     41\u001b[0m     \u001b[38;5;28;01mdel\u001b[39;00m(df_pixval_aod[\u001b[38;5;124m'\u001b[39m\u001b[38;5;124mrow\u001b[39m\u001b[38;5;124m'\u001b[39m])\n",
      "File \u001b[1;32mc:\\users\\suras\\onedrive\\desktop\\zkyhaxpy\\zkyhaxpy\\gis_tools.py:1008\u001b[0m, in \u001b[0;36mextract_pixval_multi_files\u001b[1;34m(in_s_polygon, in_list_raster_path, in_list_out_col_nm, in_target_raster_band_id, nodata_val, check_raster_consistent, **kwargs)\u001b[0m\n\u001b[0;32m   1003\u001b[0m             \u001b[38;5;28;01massert\u001b[39;00m(tmp_transform \u001b[38;5;241m==\u001b[39m ds_tmp\u001b[38;5;241m.\u001b[39mtransform)\n\u001b[0;32m   1004\u001b[0m             \u001b[38;5;28;01massert\u001b[39;00m(tmp_crs \u001b[38;5;241m==\u001b[39m ds_tmp\u001b[38;5;241m.\u001b[39mcrs)\n\u001b[1;32m-> 1008\u001b[0m df_polygon_row_col_pixval \u001b[38;5;241m=\u001b[39m get_df_row_col(in_s_polygon, tmp_raster_path)\n\u001b[0;32m   1010\u001b[0m \u001b[38;5;28;01mfor\u001b[39;00m i \u001b[38;5;129;01min\u001b[39;00m tqdm(\u001b[38;5;28mrange\u001b[39m(\u001b[38;5;28mlen\u001b[39m(in_list_out_col_nm)), \u001b[38;5;124m'\u001b[39m\u001b[38;5;124mGetting pixel values...\u001b[39m\u001b[38;5;124m'\u001b[39m):\n\u001b[0;32m   1011\u001b[0m     col_nm \u001b[38;5;241m=\u001b[39m in_list_out_col_nm[i]\n",
      "File \u001b[1;32mc:\\users\\suras\\onedrive\\desktop\\zkyhaxpy\\zkyhaxpy\\gis_tools.py:897\u001b[0m, in \u001b[0;36mget_df_row_col\u001b[1;34m(in_s_polygon, in_raster_path, **kwargs)\u001b[0m\n\u001b[0;32m    894\u001b[0m     zip_tup_polygon \u001b[38;5;241m=\u001b[39m  in_s_polygon\u001b[38;5;241m.\u001b[39miteritems()        \n\u001b[0;32m    896\u001b[0m \u001b[38;5;28;01mfor\u001b[39;00m polygon_id, tmp_polygon \u001b[38;5;129;01min\u001b[39;00m tqdm(zip_tup_polygon, \u001b[38;5;124m'\u001b[39m\u001b[38;5;124mGetting row&col of pixels...\u001b[39m\u001b[38;5;124m'\u001b[39m, total\u001b[38;5;241m=\u001b[39m\u001b[38;5;28mlen\u001b[39m(in_s_polygon)):\n\u001b[1;32m--> 897\u001b[0m     is_polygon_overlap, nbr_pixels, arr_row_col \u001b[38;5;241m=\u001b[39m get_pix_row_col(tmp_polygon, path_ds_mapping)\n\u001b[0;32m    898\u001b[0m     \u001b[38;5;28;01mif\u001b[39;00m is_polygon_overlap:\n\u001b[0;32m    899\u001b[0m         list_polygon_id\u001b[38;5;241m.\u001b[39mappend(polygon_id)\n",
      "File \u001b[1;32mc:\\users\\suras\\onedrive\\desktop\\zkyhaxpy\\zkyhaxpy\\gis_tools.py:750\u001b[0m, in \u001b[0;36mget_pix_row_col\u001b[1;34m(in_polygon, in_row_col_mapping_raster, in_crs_polygon, all_touched)\u001b[0m\n\u001b[0;32m    747\u001b[0m \u001b[38;5;66;03m#Get pixels' row & col by masking with row col mapping raster\u001b[39;00m\n\u001b[0;32m    749\u001b[0m \u001b[38;5;28;01mtry\u001b[39;00m:\n\u001b[1;32m--> 750\u001b[0m     \u001b[38;5;28;01mif\u001b[39;00m tmp_polygon\u001b[38;5;241m.\u001b[39mgeom_type\u001b[38;5;241m==\u001b[39m\u001b[38;5;124m'\u001b[39m\u001b[38;5;124mPoint\u001b[39m\u001b[38;5;124m'\u001b[39m:\n\u001b[0;32m    751\u001b[0m         arr_row_col, _ \u001b[38;5;241m=\u001b[39m mask(tmp_ds, [tmp_polygon], crop\u001b[38;5;241m=\u001b[39m\u001b[38;5;28;01mTrue\u001b[39;00m, all_touched\u001b[38;5;241m=\u001b[39m\u001b[38;5;28;01mTrue\u001b[39;00m, nodata\u001b[38;5;241m=\u001b[39mnodata_val)    \n\u001b[0;32m    752\u001b[0m     \u001b[38;5;28;01melse\u001b[39;00m:\n",
      "File \u001b[1;32mc:\\Users\\suras\\anaconda3\\Lib\\site-packages\\shapely\\geometry\\base.py:305\u001b[0m, in \u001b[0;36mBaseGeometry.geom_type\u001b[1;34m(self)\u001b[0m\n\u001b[0;32m    302\u001b[0m \u001b[38;5;129m@property\u001b[39m\n\u001b[0;32m    303\u001b[0m \u001b[38;5;28;01mdef\u001b[39;00m \u001b[38;5;21mgeom_type\u001b[39m(\u001b[38;5;28mself\u001b[39m):\n\u001b[0;32m    304\u001b[0m \u001b[38;5;250m    \u001b[39m\u001b[38;5;124;03m\"\"\"Name of the geometry's type, such as 'Point'\"\"\"\u001b[39;00m\n\u001b[1;32m--> 305\u001b[0m     \u001b[38;5;28;01mreturn\u001b[39;00m GEOMETRY_TYPES[shapely\u001b[38;5;241m.\u001b[39mget_type_id(\u001b[38;5;28mself\u001b[39m)]\n",
      "File \u001b[1;32mc:\\Users\\suras\\anaconda3\\Lib\\site-packages\\shapely\\decorators.py:77\u001b[0m, in \u001b[0;36mmultithreading_enabled.<locals>.wrapped\u001b[1;34m(*args, **kwargs)\u001b[0m\n\u001b[0;32m     75\u001b[0m     \u001b[38;5;28;01mfor\u001b[39;00m arr \u001b[38;5;129;01min\u001b[39;00m array_args:\n\u001b[0;32m     76\u001b[0m         arr\u001b[38;5;241m.\u001b[39mflags\u001b[38;5;241m.\u001b[39mwriteable \u001b[38;5;241m=\u001b[39m \u001b[38;5;28;01mFalse\u001b[39;00m\n\u001b[1;32m---> 77\u001b[0m     \u001b[38;5;28;01mreturn\u001b[39;00m func(\u001b[38;5;241m*\u001b[39margs, \u001b[38;5;241m*\u001b[39m\u001b[38;5;241m*\u001b[39mkwargs)\n\u001b[0;32m     78\u001b[0m \u001b[38;5;28;01mfinally\u001b[39;00m:\n\u001b[0;32m     79\u001b[0m     \u001b[38;5;28;01mfor\u001b[39;00m arr, old_flag \u001b[38;5;129;01min\u001b[39;00m \u001b[38;5;28mzip\u001b[39m(array_args, old_flags):\n",
      "File \u001b[1;32mc:\\Users\\suras\\anaconda3\\Lib\\site-packages\\shapely\\_geometry.py:87\u001b[0m, in \u001b[0;36mget_type_id\u001b[1;34m(geometry, **kwargs)\u001b[0m\n\u001b[0;32m     54\u001b[0m \u001b[38;5;129m@multithreading_enabled\u001b[39m\n\u001b[0;32m     55\u001b[0m \u001b[38;5;28;01mdef\u001b[39;00m \u001b[38;5;21mget_type_id\u001b[39m(geometry, \u001b[38;5;241m*\u001b[39m\u001b[38;5;241m*\u001b[39mkwargs):\n\u001b[0;32m     56\u001b[0m \u001b[38;5;250m    \u001b[39m\u001b[38;5;124;03m\"\"\"Returns the type ID of a geometry.\u001b[39;00m\n\u001b[0;32m     57\u001b[0m \n\u001b[0;32m     58\u001b[0m \u001b[38;5;124;03m    - None (missing) is -1\u001b[39;00m\n\u001b[1;32m   (...)\u001b[0m\n\u001b[0;32m     85\u001b[0m \u001b[38;5;124;03m    [0, 0]\u001b[39;00m\n\u001b[0;32m     86\u001b[0m \u001b[38;5;124;03m    \"\"\"\u001b[39;00m\n\u001b[1;32m---> 87\u001b[0m     \u001b[38;5;28;01mreturn\u001b[39;00m lib\u001b[38;5;241m.\u001b[39mget_type_id(geometry, \u001b[38;5;241m*\u001b[39m\u001b[38;5;241m*\u001b[39mkwargs)\n",
      "\u001b[1;31mKeyboardInterrupt\u001b[0m: "
     ]
    }
   ],
   "source": [
    "YEAR_START_PREDICT = 2015\n",
    "# list_tile_id = ['h27v07', 'h27v08', 'h28v07', 'h28v08']\n",
    "list_tile_id = ['h27v07']\n",
    "\n",
    "df_list_path_aod_curr = df_list_path_aod[(df_list_path_aod['year']>=YEAR_START_PREDICT) & (df_list_path_aod['tile_id'].isin(list_tile_id))].copy()\n",
    "\n",
    "pbar_aod_year_month = tqdm(df_list_path_aod_curr.groupby(['tile_id', 'year_month']))\n",
    "\n",
    "list_df_pixval_aod_daily = []\n",
    "list_error = []\n",
    "for (tile_id, year_month), df_list_path_aod_tile_year_month in pbar_aod_year_month:    \n",
    "    path_out = os.path.join(dir_chiangmai_aod_daily, f'df_chiangmai_aod_daily-{year_month}-{tile_id}.parquet')\n",
    "    if os.path.exists(path_out):\n",
    "        print(f'{path_out} already exists')\n",
    "        df_pixval_aod_daily = pd.read_parquet(path_out)\n",
    "        list_df_pixval_aod_daily.append(df_pixval_aod_daily)\n",
    "        continue\n",
    "    \n",
    "    pbar_aod_year_month.set_description(f'success={len(list_df_pixval_aod_daily)} / error={len(list_error)}')\n",
    "    #Prepare list of columns and raster paths\n",
    "    list_out_col = df_list_path_aod_tile_year_month['datetime'].to_list()\n",
    "    list_path_raster = df_list_path_aod_tile_year_month['file_path'].to_list()\n",
    "\n",
    "    #Get CRS of raster image\n",
    "    path_raster_tmp = list_path_raster[0]\n",
    "    with rasterio.open(path_raster_tmp) as ds:\n",
    "        crs = ds.crs\n",
    "\n",
    "    #Extract monthly AOD\n",
    "    try:\n",
    "        df_pixval_aod = gis_tools.extract_pixval_multi_files(    \n",
    "            in_s_polygon=gdf_chiangmai_grid.geometry.to_crs(crs),  \n",
    "            in_list_raster_path=list_path_raster,  \n",
    "            in_list_out_col_nm=list_out_col,  \n",
    "            in_target_raster_band_id=1,  \n",
    "            nodata_val=-28672,  \n",
    "            check_raster_consistent=True, \n",
    "            )\n",
    "        \n",
    "        df_pixval_aod = df_pixval_aod.set_index('grid_id')\n",
    "        del(df_pixval_aod['row'])\n",
    "        del(df_pixval_aod['col'])\n",
    "        df_pixval_aod.loc[:, ] = np.where(df_pixval_aod.loc[:, ].values==-28672, np.nan, df_pixval_aod.loc[:, ].values)\n",
    "\n",
    "        #Aggregate into daily data\n",
    "        df_pixval_aod_daily = pd.DataFrame(index=df_pixval_aod.index)\n",
    "        df_pixval_aod_daily['year_month'] = year_month\n",
    "        df_pixval_aod_daily['tile_id'] = tile_id\n",
    "        list_date = [datetime[:10] for datetime in df_pixval_aod.columns]\n",
    "        list_date = sorted(set(list_date))\n",
    "\n",
    "        for date in list_date:\n",
    "            list_col_curr = [col for col in df_pixval_aod.columns if col.startswith(date)]\n",
    "            df_pixval_aod_daily[date] = np.nanmedian(df_pixval_aod.loc[:, list_col_curr].values, axis=1)\n",
    "        df_pixval_aod_daily.to_parquet(path_out)\n",
    "        list_df_pixval_aod_daily.append(df_pixval_aod_daily)\n",
    "    except ValueError:\n",
    "        list_error.append((tile_id, year_month))\n",
    "\n",
    "\n",
    "df_pixval_aod_daily = pd.concat(list_df_pixval_aod_daily)\n",
    "df_pixval_aod_daily.to_parquet(r'../data/df_chiangmai_aod_daily.parquet')\n",
    "# df_pixval_aod_daily.to_csv(r'../data/df_chiangmai_aod_daily.csv')\n",
    "\n"
   ]
  },
  {
   "cell_type": "code",
   "execution_count": null,
   "metadata": {},
   "outputs": [],
   "source": [
    "gis_tools.extract_pixval_single_file("
   ]
  }
 ],
 "metadata": {
  "kernelspec": {
   "display_name": "base",
   "language": "python",
   "name": "python3"
  },
  "language_info": {
   "codemirror_mode": {
    "name": "ipython",
    "version": 3
   },
   "file_extension": ".py",
   "mimetype": "text/x-python",
   "name": "python",
   "nbconvert_exporter": "python",
   "pygments_lexer": "ipython3",
   "version": "3.11.7"
  }
 },
 "nbformat": 4,
 "nbformat_minor": 2
}
