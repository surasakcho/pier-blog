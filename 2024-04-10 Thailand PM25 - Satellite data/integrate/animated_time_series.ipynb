{
 "cells": [
  {
   "cell_type": "markdown",
   "metadata": {},
   "source": [
    "## Import lib"
   ]
  },
  {
   "cell_type": "code",
   "execution_count": 1,
   "metadata": {},
   "outputs": [],
   "source": [
    "import matplotlib.pyplot as plt\n",
    "import pandas as pd\n",
    "import geopandas as gpd\n",
    "import numpy as np\n",
    "import plotly\n",
    "import plotly.graph_objects as go\n",
    "import cv2\n",
    "import os, sys\n"
   ]
  },
  {
   "cell_type": "markdown",
   "metadata": {},
   "source": [
    "## Define functions"
   ]
  },
  {
   "cell_type": "markdown",
   "metadata": {},
   "source": [
    "## Load data"
   ]
  },
  {
   "cell_type": "code",
   "execution_count": 2,
   "metadata": {},
   "outputs": [],
   "source": [
    "df_predict_pm25_monthly_median = pd.read_parquet(r'../data/df_predict_pm25_monthly_median.parquet')\n",
    "df_predict_pm25_monthly_mean = pd.read_parquet(r'../data/df_predict_pm25_monthly_mean.parquet')\n",
    "\n",
    "df_predict_pm25_monthly_median = df_predict_pm25_monthly_median.median(axis=0).reset_index()\n",
    "df_predict_pm25_monthly_median.columns = ['year_month', 'pm25_median']\n",
    "\n",
    "df_predict_pm25_monthly_mean = df_predict_pm25_monthly_mean.mean(axis=0).reset_index()\n",
    "df_predict_pm25_monthly_mean.columns = ['year_month', 'pm25_mean']\n",
    "\n",
    "df_predict_pm25_monthly = df_predict_pm25_monthly_mean.merge(df_predict_pm25_monthly_median, left_on='year_month', right_on='year_month')\n",
    "df_predict_pm25_monthly.iloc[:, 1:] = df_predict_pm25_monthly.iloc[:, 1:].round(2)\n",
    "df_predict_pm25_monthly.loc[len(df_predict_pm25_monthly)]= pd.Series({'year_month':'2024-05', 'pm25_mean':np.nan, 'pm25_median':np.nan})\n",
    "\n",
    "df_predict_pm25_monthly.to_csv(r'../data/df_predict_pm25_monthly.csv')"
   ]
  },
  {
   "cell_type": "code",
   "execution_count": 3,
   "metadata": {},
   "outputs": [
    {
     "name": "stdout",
     "output_type": "stream",
     "text": [
      "gdf_openaq has been loaded.\n"
     ]
    },
    {
     "data": {
      "text/html": [
       "<div>\n",
       "<style scoped>\n",
       "    .dataframe tbody tr th:only-of-type {\n",
       "        vertical-align: middle;\n",
       "    }\n",
       "\n",
       "    .dataframe tbody tr th {\n",
       "        vertical-align: top;\n",
       "    }\n",
       "\n",
       "    .dataframe thead th {\n",
       "        text-align: right;\n",
       "    }\n",
       "</style>\n",
       "<table border=\"1\" class=\"dataframe\">\n",
       "  <thead>\n",
       "    <tr style=\"text-align: right;\">\n",
       "      <th></th>\n",
       "      <th>measurement_id</th>\n",
       "      <th>locationId</th>\n",
       "      <th>location</th>\n",
       "      <th>parameter</th>\n",
       "      <th>value</th>\n",
       "      <th>unit</th>\n",
       "      <th>country</th>\n",
       "      <th>city</th>\n",
       "      <th>isMobile</th>\n",
       "      <th>isAnalysis</th>\n",
       "      <th>entity</th>\n",
       "      <th>sensorType</th>\n",
       "      <th>lat</th>\n",
       "      <th>long</th>\n",
       "      <th>datetime</th>\n",
       "      <th>year</th>\n",
       "      <th>month</th>\n",
       "      <th>geometry</th>\n",
       "    </tr>\n",
       "  </thead>\n",
       "  <tbody>\n",
       "    <tr>\n",
       "      <th>0</th>\n",
       "      <td>0</td>\n",
       "      <td>8893</td>\n",
       "      <td>Vientiane</td>\n",
       "      <td>pm25</td>\n",
       "      <td>10.000000</td>\n",
       "      <td>µg/m³</td>\n",
       "      <td>TH</td>\n",
       "      <td>NaN</td>\n",
       "      <td>False</td>\n",
       "      <td>NaN</td>\n",
       "      <td>Governmental Organization</td>\n",
       "      <td>reference grade</td>\n",
       "      <td>17.896122</td>\n",
       "      <td>102.640000</td>\n",
       "      <td>2019-06-30 00:00:00+00:00</td>\n",
       "      <td>2019</td>\n",
       "      <td>6</td>\n",
       "      <td>POINT (102.64000 17.89612)</td>\n",
       "    </tr>\n",
       "    <tr>\n",
       "      <th>1</th>\n",
       "      <td>1</td>\n",
       "      <td>8893</td>\n",
       "      <td>Vientiane</td>\n",
       "      <td>pm25</td>\n",
       "      <td>18.000000</td>\n",
       "      <td>µg/m³</td>\n",
       "      <td>TH</td>\n",
       "      <td>NaN</td>\n",
       "      <td>False</td>\n",
       "      <td>NaN</td>\n",
       "      <td>Governmental Organization</td>\n",
       "      <td>reference grade</td>\n",
       "      <td>17.896122</td>\n",
       "      <td>102.640000</td>\n",
       "      <td>2019-06-29 23:00:00+00:00</td>\n",
       "      <td>2019</td>\n",
       "      <td>6</td>\n",
       "      <td>POINT (102.64000 17.89612)</td>\n",
       "    </tr>\n",
       "    <tr>\n",
       "      <th>2</th>\n",
       "      <td>2</td>\n",
       "      <td>8893</td>\n",
       "      <td>Vientiane</td>\n",
       "      <td>pm25</td>\n",
       "      <td>17.000000</td>\n",
       "      <td>µg/m³</td>\n",
       "      <td>TH</td>\n",
       "      <td>NaN</td>\n",
       "      <td>False</td>\n",
       "      <td>NaN</td>\n",
       "      <td>Governmental Organization</td>\n",
       "      <td>reference grade</td>\n",
       "      <td>17.896122</td>\n",
       "      <td>102.640000</td>\n",
       "      <td>2019-06-29 22:00:00+00:00</td>\n",
       "      <td>2019</td>\n",
       "      <td>6</td>\n",
       "      <td>POINT (102.64000 17.89612)</td>\n",
       "    </tr>\n",
       "    <tr>\n",
       "      <th>3</th>\n",
       "      <td>3</td>\n",
       "      <td>8893</td>\n",
       "      <td>Vientiane</td>\n",
       "      <td>pm25</td>\n",
       "      <td>12.000000</td>\n",
       "      <td>µg/m³</td>\n",
       "      <td>TH</td>\n",
       "      <td>NaN</td>\n",
       "      <td>False</td>\n",
       "      <td>NaN</td>\n",
       "      <td>Governmental Organization</td>\n",
       "      <td>reference grade</td>\n",
       "      <td>17.896122</td>\n",
       "      <td>102.640000</td>\n",
       "      <td>2019-06-29 21:00:00+00:00</td>\n",
       "      <td>2019</td>\n",
       "      <td>6</td>\n",
       "      <td>POINT (102.64000 17.89612)</td>\n",
       "    </tr>\n",
       "    <tr>\n",
       "      <th>4</th>\n",
       "      <td>4</td>\n",
       "      <td>8893</td>\n",
       "      <td>Vientiane</td>\n",
       "      <td>pm25</td>\n",
       "      <td>15.000000</td>\n",
       "      <td>µg/m³</td>\n",
       "      <td>TH</td>\n",
       "      <td>NaN</td>\n",
       "      <td>False</td>\n",
       "      <td>NaN</td>\n",
       "      <td>Governmental Organization</td>\n",
       "      <td>reference grade</td>\n",
       "      <td>17.896122</td>\n",
       "      <td>102.640000</td>\n",
       "      <td>2019-06-29 20:00:00+00:00</td>\n",
       "      <td>2019</td>\n",
       "      <td>6</td>\n",
       "      <td>POINT (102.64000 17.89612)</td>\n",
       "    </tr>\n",
       "    <tr>\n",
       "      <th>...</th>\n",
       "      <td>...</td>\n",
       "      <td>...</td>\n",
       "      <td>...</td>\n",
       "      <td>...</td>\n",
       "      <td>...</td>\n",
       "      <td>...</td>\n",
       "      <td>...</td>\n",
       "      <td>...</td>\n",
       "      <td>...</td>\n",
       "      <td>...</td>\n",
       "      <td>...</td>\n",
       "      <td>...</td>\n",
       "      <td>...</td>\n",
       "      <td>...</td>\n",
       "      <td>...</td>\n",
       "      <td>...</td>\n",
       "      <td>...</td>\n",
       "      <td>...</td>\n",
       "    </tr>\n",
       "    <tr>\n",
       "      <th>218204</th>\n",
       "      <td>218204</td>\n",
       "      <td>2694254</td>\n",
       "      <td>Soi Kheha Pattana 1</td>\n",
       "      <td>pm25</td>\n",
       "      <td>39.079167</td>\n",
       "      <td>µg/m³</td>\n",
       "      <td>TH</td>\n",
       "      <td>NaN</td>\n",
       "      <td>False</td>\n",
       "      <td>NaN</td>\n",
       "      <td>Private Organization</td>\n",
       "      <td>low-cost sensor</td>\n",
       "      <td>13.709941</td>\n",
       "      <td>100.576022</td>\n",
       "      <td>2024-04-02 04:00:00+00:00</td>\n",
       "      <td>2024</td>\n",
       "      <td>4</td>\n",
       "      <td>POINT (100.57602 13.70994)</td>\n",
       "    </tr>\n",
       "    <tr>\n",
       "      <th>218205</th>\n",
       "      <td>218205</td>\n",
       "      <td>2694254</td>\n",
       "      <td>Soi Kheha Pattana 1</td>\n",
       "      <td>pm25</td>\n",
       "      <td>39.387797</td>\n",
       "      <td>µg/m³</td>\n",
       "      <td>TH</td>\n",
       "      <td>NaN</td>\n",
       "      <td>False</td>\n",
       "      <td>NaN</td>\n",
       "      <td>Private Organization</td>\n",
       "      <td>low-cost sensor</td>\n",
       "      <td>13.709941</td>\n",
       "      <td>100.576022</td>\n",
       "      <td>2024-04-02 03:00:00+00:00</td>\n",
       "      <td>2024</td>\n",
       "      <td>4</td>\n",
       "      <td>POINT (100.57602 13.70994)</td>\n",
       "    </tr>\n",
       "    <tr>\n",
       "      <th>218206</th>\n",
       "      <td>218206</td>\n",
       "      <td>2694254</td>\n",
       "      <td>Soi Kheha Pattana 1</td>\n",
       "      <td>pm25</td>\n",
       "      <td>37.445286</td>\n",
       "      <td>µg/m³</td>\n",
       "      <td>TH</td>\n",
       "      <td>NaN</td>\n",
       "      <td>False</td>\n",
       "      <td>NaN</td>\n",
       "      <td>Private Organization</td>\n",
       "      <td>low-cost sensor</td>\n",
       "      <td>13.709941</td>\n",
       "      <td>100.576022</td>\n",
       "      <td>2024-04-02 02:00:00+00:00</td>\n",
       "      <td>2024</td>\n",
       "      <td>4</td>\n",
       "      <td>POINT (100.57602 13.70994)</td>\n",
       "    </tr>\n",
       "    <tr>\n",
       "      <th>218207</th>\n",
       "      <td>218207</td>\n",
       "      <td>2694254</td>\n",
       "      <td>Soi Kheha Pattana 1</td>\n",
       "      <td>pm25</td>\n",
       "      <td>35.712947</td>\n",
       "      <td>µg/m³</td>\n",
       "      <td>TH</td>\n",
       "      <td>NaN</td>\n",
       "      <td>False</td>\n",
       "      <td>NaN</td>\n",
       "      <td>Private Organization</td>\n",
       "      <td>low-cost sensor</td>\n",
       "      <td>13.709941</td>\n",
       "      <td>100.576022</td>\n",
       "      <td>2024-04-02 01:00:00+00:00</td>\n",
       "      <td>2024</td>\n",
       "      <td>4</td>\n",
       "      <td>POINT (100.57602 13.70994)</td>\n",
       "    </tr>\n",
       "    <tr>\n",
       "      <th>218208</th>\n",
       "      <td>218208</td>\n",
       "      <td>2694254</td>\n",
       "      <td>Soi Kheha Pattana 1</td>\n",
       "      <td>pm25</td>\n",
       "      <td>38.999107</td>\n",
       "      <td>µg/m³</td>\n",
       "      <td>TH</td>\n",
       "      <td>NaN</td>\n",
       "      <td>False</td>\n",
       "      <td>NaN</td>\n",
       "      <td>Private Organization</td>\n",
       "      <td>low-cost sensor</td>\n",
       "      <td>13.709941</td>\n",
       "      <td>100.576022</td>\n",
       "      <td>2024-04-02 00:00:00+00:00</td>\n",
       "      <td>2024</td>\n",
       "      <td>4</td>\n",
       "      <td>POINT (100.57602 13.70994)</td>\n",
       "    </tr>\n",
       "  </tbody>\n",
       "</table>\n",
       "<p>218209 rows × 18 columns</p>\n",
       "</div>"
      ],
      "text/plain": [
       "        measurement_id  locationId             location parameter      value  \\\n",
       "0                    0        8893            Vientiane      pm25  10.000000   \n",
       "1                    1        8893            Vientiane      pm25  18.000000   \n",
       "2                    2        8893            Vientiane      pm25  17.000000   \n",
       "3                    3        8893            Vientiane      pm25  12.000000   \n",
       "4                    4        8893            Vientiane      pm25  15.000000   \n",
       "...                ...         ...                  ...       ...        ...   \n",
       "218204          218204     2694254  Soi Kheha Pattana 1      pm25  39.079167   \n",
       "218205          218205     2694254  Soi Kheha Pattana 1      pm25  39.387797   \n",
       "218206          218206     2694254  Soi Kheha Pattana 1      pm25  37.445286   \n",
       "218207          218207     2694254  Soi Kheha Pattana 1      pm25  35.712947   \n",
       "218208          218208     2694254  Soi Kheha Pattana 1      pm25  38.999107   \n",
       "\n",
       "         unit country  city  isMobile  isAnalysis                     entity  \\\n",
       "0       µg/m³      TH   NaN     False         NaN  Governmental Organization   \n",
       "1       µg/m³      TH   NaN     False         NaN  Governmental Organization   \n",
       "2       µg/m³      TH   NaN     False         NaN  Governmental Organization   \n",
       "3       µg/m³      TH   NaN     False         NaN  Governmental Organization   \n",
       "4       µg/m³      TH   NaN     False         NaN  Governmental Organization   \n",
       "...       ...     ...   ...       ...         ...                        ...   \n",
       "218204  µg/m³      TH   NaN     False         NaN       Private Organization   \n",
       "218205  µg/m³      TH   NaN     False         NaN       Private Organization   \n",
       "218206  µg/m³      TH   NaN     False         NaN       Private Organization   \n",
       "218207  µg/m³      TH   NaN     False         NaN       Private Organization   \n",
       "218208  µg/m³      TH   NaN     False         NaN       Private Organization   \n",
       "\n",
       "             sensorType        lat        long                  datetime  \\\n",
       "0       reference grade  17.896122  102.640000 2019-06-30 00:00:00+00:00   \n",
       "1       reference grade  17.896122  102.640000 2019-06-29 23:00:00+00:00   \n",
       "2       reference grade  17.896122  102.640000 2019-06-29 22:00:00+00:00   \n",
       "3       reference grade  17.896122  102.640000 2019-06-29 21:00:00+00:00   \n",
       "4       reference grade  17.896122  102.640000 2019-06-29 20:00:00+00:00   \n",
       "...                 ...        ...         ...                       ...   \n",
       "218204  low-cost sensor  13.709941  100.576022 2024-04-02 04:00:00+00:00   \n",
       "218205  low-cost sensor  13.709941  100.576022 2024-04-02 03:00:00+00:00   \n",
       "218206  low-cost sensor  13.709941  100.576022 2024-04-02 02:00:00+00:00   \n",
       "218207  low-cost sensor  13.709941  100.576022 2024-04-02 01:00:00+00:00   \n",
       "218208  low-cost sensor  13.709941  100.576022 2024-04-02 00:00:00+00:00   \n",
       "\n",
       "        year  month                    geometry  \n",
       "0       2019      6  POINT (102.64000 17.89612)  \n",
       "1       2019      6  POINT (102.64000 17.89612)  \n",
       "2       2019      6  POINT (102.64000 17.89612)  \n",
       "3       2019      6  POINT (102.64000 17.89612)  \n",
       "4       2019      6  POINT (102.64000 17.89612)  \n",
       "...      ...    ...                         ...  \n",
       "218204  2024      4  POINT (100.57602 13.70994)  \n",
       "218205  2024      4  POINT (100.57602 13.70994)  \n",
       "218206  2024      4  POINT (100.57602 13.70994)  \n",
       "218207  2024      4  POINT (100.57602 13.70994)  \n",
       "218208  2024      4  POINT (100.57602 13.70994)  \n",
       "\n",
       "[218209 rows x 18 columns]"
      ]
     },
     "execution_count": 3,
     "metadata": {},
     "output_type": "execute_result"
    }
   ],
   "source": [
    "gdf_openaq = gpd.read_file('../data/gdf_openaq.gpkg')\n",
    "print('gdf_openaq has been loaded.')\n",
    "gdf_openaq"
   ]
  },
  {
   "cell_type": "code",
   "execution_count": 4,
   "metadata": {},
   "outputs": [
    {
     "data": {
      "text/html": [
       "<div>\n",
       "<style scoped>\n",
       "    .dataframe tbody tr th:only-of-type {\n",
       "        vertical-align: middle;\n",
       "    }\n",
       "\n",
       "    .dataframe tbody tr th {\n",
       "        vertical-align: top;\n",
       "    }\n",
       "\n",
       "    .dataframe thead th {\n",
       "        text-align: right;\n",
       "    }\n",
       "</style>\n",
       "<table border=\"1\" class=\"dataframe\">\n",
       "  <thead>\n",
       "    <tr style=\"text-align: right;\">\n",
       "      <th></th>\n",
       "      <th>measurement_id</th>\n",
       "      <th>locationId</th>\n",
       "      <th>location</th>\n",
       "      <th>parameter</th>\n",
       "      <th>value</th>\n",
       "      <th>unit</th>\n",
       "      <th>country</th>\n",
       "      <th>city</th>\n",
       "      <th>isMobile</th>\n",
       "      <th>isAnalysis</th>\n",
       "      <th>entity</th>\n",
       "      <th>sensorType</th>\n",
       "      <th>lat</th>\n",
       "      <th>long</th>\n",
       "      <th>datetime</th>\n",
       "      <th>year</th>\n",
       "      <th>month</th>\n",
       "      <th>geometry</th>\n",
       "    </tr>\n",
       "  </thead>\n",
       "  <tbody>\n",
       "    <tr>\n",
       "      <th>14627</th>\n",
       "      <td>14627</td>\n",
       "      <td>225669</td>\n",
       "      <td>City Hall, Chiangmai</td>\n",
       "      <td>pm25</td>\n",
       "      <td>16.0</td>\n",
       "      <td>µg/m³</td>\n",
       "      <td>TH</td>\n",
       "      <td>NaN</td>\n",
       "      <td>False</td>\n",
       "      <td>NaN</td>\n",
       "      <td>Governmental Organization</td>\n",
       "      <td>reference grade</td>\n",
       "      <td>18.840732</td>\n",
       "      <td>98.96978</td>\n",
       "      <td>2021-04-30 00:00:00+00:00</td>\n",
       "      <td>2021</td>\n",
       "      <td>4</td>\n",
       "      <td>POINT (98.96978 18.84073)</td>\n",
       "    </tr>\n",
       "    <tr>\n",
       "      <th>14628</th>\n",
       "      <td>14628</td>\n",
       "      <td>225669</td>\n",
       "      <td>City Hall, Chiangmai</td>\n",
       "      <td>pm25</td>\n",
       "      <td>16.0</td>\n",
       "      <td>µg/m³</td>\n",
       "      <td>TH</td>\n",
       "      <td>NaN</td>\n",
       "      <td>False</td>\n",
       "      <td>NaN</td>\n",
       "      <td>Governmental Organization</td>\n",
       "      <td>reference grade</td>\n",
       "      <td>18.840732</td>\n",
       "      <td>98.96978</td>\n",
       "      <td>2021-04-29 23:00:00+00:00</td>\n",
       "      <td>2021</td>\n",
       "      <td>4</td>\n",
       "      <td>POINT (98.96978 18.84073)</td>\n",
       "    </tr>\n",
       "    <tr>\n",
       "      <th>14629</th>\n",
       "      <td>14629</td>\n",
       "      <td>225669</td>\n",
       "      <td>City Hall, Chiangmai</td>\n",
       "      <td>pm25</td>\n",
       "      <td>16.0</td>\n",
       "      <td>µg/m³</td>\n",
       "      <td>TH</td>\n",
       "      <td>NaN</td>\n",
       "      <td>False</td>\n",
       "      <td>NaN</td>\n",
       "      <td>Governmental Organization</td>\n",
       "      <td>reference grade</td>\n",
       "      <td>18.840732</td>\n",
       "      <td>98.96978</td>\n",
       "      <td>2021-04-29 22:00:00+00:00</td>\n",
       "      <td>2021</td>\n",
       "      <td>4</td>\n",
       "      <td>POINT (98.96978 18.84073)</td>\n",
       "    </tr>\n",
       "    <tr>\n",
       "      <th>14630</th>\n",
       "      <td>14630</td>\n",
       "      <td>225669</td>\n",
       "      <td>City Hall, Chiangmai</td>\n",
       "      <td>pm25</td>\n",
       "      <td>16.0</td>\n",
       "      <td>µg/m³</td>\n",
       "      <td>TH</td>\n",
       "      <td>NaN</td>\n",
       "      <td>False</td>\n",
       "      <td>NaN</td>\n",
       "      <td>Governmental Organization</td>\n",
       "      <td>reference grade</td>\n",
       "      <td>18.840732</td>\n",
       "      <td>98.96978</td>\n",
       "      <td>2021-04-29 21:00:00+00:00</td>\n",
       "      <td>2021</td>\n",
       "      <td>4</td>\n",
       "      <td>POINT (98.96978 18.84073)</td>\n",
       "    </tr>\n",
       "    <tr>\n",
       "      <th>14631</th>\n",
       "      <td>14631</td>\n",
       "      <td>225669</td>\n",
       "      <td>City Hall, Chiangmai</td>\n",
       "      <td>pm25</td>\n",
       "      <td>16.0</td>\n",
       "      <td>µg/m³</td>\n",
       "      <td>TH</td>\n",
       "      <td>NaN</td>\n",
       "      <td>False</td>\n",
       "      <td>NaN</td>\n",
       "      <td>Governmental Organization</td>\n",
       "      <td>reference grade</td>\n",
       "      <td>18.840732</td>\n",
       "      <td>98.96978</td>\n",
       "      <td>2021-04-29 20:00:00+00:00</td>\n",
       "      <td>2021</td>\n",
       "      <td>4</td>\n",
       "      <td>POINT (98.96978 18.84073)</td>\n",
       "    </tr>\n",
       "    <tr>\n",
       "      <th>...</th>\n",
       "      <td>...</td>\n",
       "      <td>...</td>\n",
       "      <td>...</td>\n",
       "      <td>...</td>\n",
       "      <td>...</td>\n",
       "      <td>...</td>\n",
       "      <td>...</td>\n",
       "      <td>...</td>\n",
       "      <td>...</td>\n",
       "      <td>...</td>\n",
       "      <td>...</td>\n",
       "      <td>...</td>\n",
       "      <td>...</td>\n",
       "      <td>...</td>\n",
       "      <td>...</td>\n",
       "      <td>...</td>\n",
       "      <td>...</td>\n",
       "      <td>...</td>\n",
       "    </tr>\n",
       "    <tr>\n",
       "      <th>186122</th>\n",
       "      <td>186122</td>\n",
       "      <td>225669</td>\n",
       "      <td>City Hall, Chiangmai</td>\n",
       "      <td>pm25</td>\n",
       "      <td>88.8</td>\n",
       "      <td>µg/m³</td>\n",
       "      <td>TH</td>\n",
       "      <td>NaN</td>\n",
       "      <td>False</td>\n",
       "      <td>NaN</td>\n",
       "      <td>Governmental Organization</td>\n",
       "      <td>reference grade</td>\n",
       "      <td>18.840732</td>\n",
       "      <td>98.96978</td>\n",
       "      <td>2024-04-01 05:00:00+00:00</td>\n",
       "      <td>2024</td>\n",
       "      <td>4</td>\n",
       "      <td>POINT (98.96978 18.84073)</td>\n",
       "    </tr>\n",
       "    <tr>\n",
       "      <th>186123</th>\n",
       "      <td>186123</td>\n",
       "      <td>225669</td>\n",
       "      <td>City Hall, Chiangmai</td>\n",
       "      <td>pm25</td>\n",
       "      <td>88.4</td>\n",
       "      <td>µg/m³</td>\n",
       "      <td>TH</td>\n",
       "      <td>NaN</td>\n",
       "      <td>False</td>\n",
       "      <td>NaN</td>\n",
       "      <td>Governmental Organization</td>\n",
       "      <td>reference grade</td>\n",
       "      <td>18.840732</td>\n",
       "      <td>98.96978</td>\n",
       "      <td>2024-04-01 04:00:00+00:00</td>\n",
       "      <td>2024</td>\n",
       "      <td>4</td>\n",
       "      <td>POINT (98.96978 18.84073)</td>\n",
       "    </tr>\n",
       "    <tr>\n",
       "      <th>186124</th>\n",
       "      <td>186124</td>\n",
       "      <td>225669</td>\n",
       "      <td>City Hall, Chiangmai</td>\n",
       "      <td>pm25</td>\n",
       "      <td>88.2</td>\n",
       "      <td>µg/m³</td>\n",
       "      <td>TH</td>\n",
       "      <td>NaN</td>\n",
       "      <td>False</td>\n",
       "      <td>NaN</td>\n",
       "      <td>Governmental Organization</td>\n",
       "      <td>reference grade</td>\n",
       "      <td>18.840732</td>\n",
       "      <td>98.96978</td>\n",
       "      <td>2024-04-01 03:00:00+00:00</td>\n",
       "      <td>2024</td>\n",
       "      <td>4</td>\n",
       "      <td>POINT (98.96978 18.84073)</td>\n",
       "    </tr>\n",
       "    <tr>\n",
       "      <th>186125</th>\n",
       "      <td>186125</td>\n",
       "      <td>225669</td>\n",
       "      <td>City Hall, Chiangmai</td>\n",
       "      <td>pm25</td>\n",
       "      <td>87.9</td>\n",
       "      <td>µg/m³</td>\n",
       "      <td>TH</td>\n",
       "      <td>NaN</td>\n",
       "      <td>False</td>\n",
       "      <td>NaN</td>\n",
       "      <td>Governmental Organization</td>\n",
       "      <td>reference grade</td>\n",
       "      <td>18.840732</td>\n",
       "      <td>98.96978</td>\n",
       "      <td>2024-04-01 02:00:00+00:00</td>\n",
       "      <td>2024</td>\n",
       "      <td>4</td>\n",
       "      <td>POINT (98.96978 18.84073)</td>\n",
       "    </tr>\n",
       "    <tr>\n",
       "      <th>186126</th>\n",
       "      <td>186126</td>\n",
       "      <td>225669</td>\n",
       "      <td>City Hall, Chiangmai</td>\n",
       "      <td>pm25</td>\n",
       "      <td>88.2</td>\n",
       "      <td>µg/m³</td>\n",
       "      <td>TH</td>\n",
       "      <td>NaN</td>\n",
       "      <td>False</td>\n",
       "      <td>NaN</td>\n",
       "      <td>Governmental Organization</td>\n",
       "      <td>reference grade</td>\n",
       "      <td>18.840732</td>\n",
       "      <td>98.96978</td>\n",
       "      <td>2024-04-01 01:00:00+00:00</td>\n",
       "      <td>2024</td>\n",
       "      <td>4</td>\n",
       "      <td>POINT (98.96978 18.84073)</td>\n",
       "    </tr>\n",
       "  </tbody>\n",
       "</table>\n",
       "<p>1381 rows × 18 columns</p>\n",
       "</div>"
      ],
      "text/plain": [
       "        measurement_id  locationId              location parameter  value  \\\n",
       "14627            14627      225669  City Hall, Chiangmai      pm25   16.0   \n",
       "14628            14628      225669  City Hall, Chiangmai      pm25   16.0   \n",
       "14629            14629      225669  City Hall, Chiangmai      pm25   16.0   \n",
       "14630            14630      225669  City Hall, Chiangmai      pm25   16.0   \n",
       "14631            14631      225669  City Hall, Chiangmai      pm25   16.0   \n",
       "...                ...         ...                   ...       ...    ...   \n",
       "186122          186122      225669  City Hall, Chiangmai      pm25   88.8   \n",
       "186123          186123      225669  City Hall, Chiangmai      pm25   88.4   \n",
       "186124          186124      225669  City Hall, Chiangmai      pm25   88.2   \n",
       "186125          186125      225669  City Hall, Chiangmai      pm25   87.9   \n",
       "186126          186126      225669  City Hall, Chiangmai      pm25   88.2   \n",
       "\n",
       "         unit country  city  isMobile  isAnalysis                     entity  \\\n",
       "14627   µg/m³      TH   NaN     False         NaN  Governmental Organization   \n",
       "14628   µg/m³      TH   NaN     False         NaN  Governmental Organization   \n",
       "14629   µg/m³      TH   NaN     False         NaN  Governmental Organization   \n",
       "14630   µg/m³      TH   NaN     False         NaN  Governmental Organization   \n",
       "14631   µg/m³      TH   NaN     False         NaN  Governmental Organization   \n",
       "...       ...     ...   ...       ...         ...                        ...   \n",
       "186122  µg/m³      TH   NaN     False         NaN  Governmental Organization   \n",
       "186123  µg/m³      TH   NaN     False         NaN  Governmental Organization   \n",
       "186124  µg/m³      TH   NaN     False         NaN  Governmental Organization   \n",
       "186125  µg/m³      TH   NaN     False         NaN  Governmental Organization   \n",
       "186126  µg/m³      TH   NaN     False         NaN  Governmental Organization   \n",
       "\n",
       "             sensorType        lat      long                  datetime  year  \\\n",
       "14627   reference grade  18.840732  98.96978 2021-04-30 00:00:00+00:00  2021   \n",
       "14628   reference grade  18.840732  98.96978 2021-04-29 23:00:00+00:00  2021   \n",
       "14629   reference grade  18.840732  98.96978 2021-04-29 22:00:00+00:00  2021   \n",
       "14630   reference grade  18.840732  98.96978 2021-04-29 21:00:00+00:00  2021   \n",
       "14631   reference grade  18.840732  98.96978 2021-04-29 20:00:00+00:00  2021   \n",
       "...                 ...        ...       ...                       ...   ...   \n",
       "186122  reference grade  18.840732  98.96978 2024-04-01 05:00:00+00:00  2024   \n",
       "186123  reference grade  18.840732  98.96978 2024-04-01 04:00:00+00:00  2024   \n",
       "186124  reference grade  18.840732  98.96978 2024-04-01 03:00:00+00:00  2024   \n",
       "186125  reference grade  18.840732  98.96978 2024-04-01 02:00:00+00:00  2024   \n",
       "186126  reference grade  18.840732  98.96978 2024-04-01 01:00:00+00:00  2024   \n",
       "\n",
       "        month                   geometry  \n",
       "14627       4  POINT (98.96978 18.84073)  \n",
       "14628       4  POINT (98.96978 18.84073)  \n",
       "14629       4  POINT (98.96978 18.84073)  \n",
       "14630       4  POINT (98.96978 18.84073)  \n",
       "14631       4  POINT (98.96978 18.84073)  \n",
       "...       ...                        ...  \n",
       "186122      4  POINT (98.96978 18.84073)  \n",
       "186123      4  POINT (98.96978 18.84073)  \n",
       "186124      4  POINT (98.96978 18.84073)  \n",
       "186125      4  POINT (98.96978 18.84073)  \n",
       "186126      4  POINT (98.96978 18.84073)  \n",
       "\n",
       "[1381 rows x 18 columns]"
      ]
     },
     "execution_count": 4,
     "metadata": {},
     "output_type": "execute_result"
    }
   ],
   "source": [
    "gdf_openaq[gdf_openaq['locationId'] == 225669]"
   ]
  },
  {
   "cell_type": "code",
   "execution_count": 8,
   "metadata": {},
   "outputs": [
    {
     "data": {
      "text/html": [
       "<div>\n",
       "<style scoped>\n",
       "    .dataframe tbody tr th:only-of-type {\n",
       "        vertical-align: middle;\n",
       "    }\n",
       "\n",
       "    .dataframe tbody tr th {\n",
       "        vertical-align: top;\n",
       "    }\n",
       "\n",
       "    .dataframe thead th {\n",
       "        text-align: right;\n",
       "    }\n",
       "</style>\n",
       "<table border=\"1\" class=\"dataframe\">\n",
       "  <thead>\n",
       "    <tr style=\"text-align: right;\">\n",
       "      <th></th>\n",
       "      <th>openaq_pm25_mean</th>\n",
       "    </tr>\n",
       "    <tr>\n",
       "      <th>year_month</th>\n",
       "      <th></th>\n",
       "    </tr>\n",
       "  </thead>\n",
       "  <tbody>\n",
       "    <tr>\n",
       "      <th>2021-05</th>\n",
       "      <td>19.655172</td>\n",
       "    </tr>\n",
       "    <tr>\n",
       "      <th>2021-06</th>\n",
       "      <td>12.777778</td>\n",
       "    </tr>\n",
       "    <tr>\n",
       "      <th>2021-07</th>\n",
       "      <td>10.800000</td>\n",
       "    </tr>\n",
       "    <tr>\n",
       "      <th>2023-02</th>\n",
       "      <td>139.676923</td>\n",
       "    </tr>\n",
       "    <tr>\n",
       "      <th>2023-03</th>\n",
       "      <td>102.450617</td>\n",
       "    </tr>\n",
       "    <tr>\n",
       "      <th>2024-04</th>\n",
       "      <td>165.922858</td>\n",
       "    </tr>\n",
       "  </tbody>\n",
       "</table>\n",
       "</div>"
      ],
      "text/plain": [
       "            openaq_pm25_mean\n",
       "year_month                  \n",
       "2021-05            19.655172\n",
       "2021-06            12.777778\n",
       "2021-07            10.800000\n",
       "2023-02           139.676923\n",
       "2023-03           102.450617\n",
       "2024-04           165.922858"
      ]
     },
     "execution_count": 8,
     "metadata": {},
     "output_type": "execute_result"
    }
   ],
   "source": [
    "df_pm25_chiangmai_openaq = pd.read_parquet(r'../data/df_pm25_chiangmai_openaq.parquet')\n",
    "df_pm25_chiangmai_openaq_monthly_mean = df_pm25_chiangmai_openaq.groupby('year_month').agg(openaq_pm25_mean=('pm25', 'mean'))\n",
    "df_pm25_chiangmai_openaq_monthly_mean"
   ]
  },
  {
   "cell_type": "code",
   "execution_count": 3,
   "metadata": {},
   "outputs": [],
   "source": [
    "# xticks = [xtick for xtick in df_predict_pm25_monthly['year_month'] if xtick.endswith('-01')]\n",
    "# xticks_text = [xtick[:4] for xtick in xticks]\n",
    "\n",
    "\n",
    "xticks = ['2005-01', '2010-01', '2015-01', '2020-01', '2024-01']\n",
    "xticks_text = ['2005', '2010', '2015', '2020', '2024']"
   ]
  },
  {
   "cell_type": "code",
   "execution_count": 4,
   "metadata": {},
   "outputs": [
    {
     "data": {
      "application/vnd.plotly.v1+json": {
       "config": {
        "plotlyServerURL": "https://plot.ly"
       },
       "data": [
        {
         "hovertemplate": "year_month=%{x}<br>pm25_mean=%{y}<extra></extra>",
         "legendgroup": "",
         "line": {
          "color": "red",
          "dash": "solid"
         },
         "marker": {
          "symbol": "circle"
         },
         "mode": "lines",
         "name": "",
         "orientation": "v",
         "showlegend": false,
         "type": "scatter",
         "x": [
          "2000-02",
          "2000-03",
          "2000-04",
          "2000-05",
          "2000-06",
          "2000-07",
          "2000-08",
          "2000-09",
          "2000-10",
          "2000-11",
          "2000-12",
          "2001-01",
          "2001-02",
          "2001-03",
          "2001-04",
          "2001-05",
          "2001-06",
          "2001-07",
          "2001-08",
          "2001-09",
          "2001-10",
          "2001-11",
          "2001-12",
          "2002-01",
          "2002-02",
          "2002-03",
          "2002-04",
          "2002-05",
          "2002-06",
          "2002-07",
          "2002-08",
          "2002-09",
          "2002-10",
          "2002-11",
          "2002-12",
          "2003-01",
          "2003-02",
          "2003-03",
          "2003-04",
          "2003-05",
          "2003-06",
          "2003-07",
          "2003-08",
          "2003-09",
          "2003-10",
          "2003-11",
          "2003-12",
          "2004-01",
          "2004-02",
          "2004-03",
          "2004-04",
          "2004-05",
          "2004-06",
          "2004-07",
          "2004-08",
          "2004-09",
          "2004-10",
          "2004-11",
          "2004-12",
          "2005-01",
          "2005-02",
          "2005-03",
          "2005-04",
          "2005-05",
          "2005-06",
          "2005-07",
          "2005-08",
          "2005-09",
          "2005-10",
          "2005-11",
          "2005-12",
          "2006-01",
          "2006-02",
          "2006-03",
          "2006-04",
          "2006-05",
          "2006-06",
          "2006-07",
          "2006-08",
          "2006-09",
          "2006-10",
          "2006-11",
          "2006-12",
          "2007-01",
          "2007-02",
          "2007-03",
          "2007-04",
          "2007-05",
          "2007-06",
          "2007-07",
          "2007-08",
          "2007-09",
          "2007-10",
          "2007-11",
          "2007-12",
          "2008-01",
          "2008-02",
          "2008-03",
          "2008-04",
          "2008-05",
          "2008-06",
          "2008-07",
          "2008-08",
          "2008-09",
          "2008-10",
          "2008-11",
          "2008-12",
          "2009-01",
          "2009-02",
          "2009-03",
          "2009-04",
          "2009-05",
          "2009-06",
          "2009-07",
          "2009-08",
          "2009-09",
          "2009-10",
          "2009-11",
          "2009-12",
          "2010-01",
          "2010-02",
          "2010-03",
          "2010-04",
          "2010-05",
          "2010-06",
          "2010-07",
          "2010-08",
          "2010-09",
          "2010-10",
          "2010-11",
          "2010-12",
          "2011-01",
          "2011-02",
          "2011-03",
          "2011-04",
          "2011-05",
          "2011-06",
          "2011-07",
          "2011-08",
          "2011-09",
          "2011-10",
          "2011-11",
          "2011-12",
          "2012-01",
          "2012-02",
          "2012-03",
          "2012-04",
          "2012-05",
          "2012-06",
          "2012-07",
          "2012-08",
          "2012-09",
          "2012-10",
          "2012-11",
          "2012-12",
          "2013-01",
          "2013-02",
          "2013-03",
          "2013-04",
          "2013-05",
          "2013-06",
          "2013-07",
          "2013-08",
          "2013-09",
          "2013-10",
          "2013-11",
          "2013-12",
          "2014-01",
          "2014-02",
          "2014-03",
          "2014-04",
          "2014-05",
          "2014-06",
          "2014-07",
          "2014-08",
          "2014-09",
          "2014-10",
          "2014-11",
          "2014-12",
          "2015-01",
          "2015-02",
          "2015-03",
          "2015-04",
          "2015-05",
          "2015-06",
          "2015-07",
          "2015-08",
          "2015-09",
          "2015-10",
          "2015-11",
          "2015-12",
          "2016-01",
          "2016-02",
          "2016-03",
          "2016-04",
          "2016-05",
          "2016-06",
          "2016-07",
          "2016-08",
          "2016-09",
          "2016-10",
          "2016-11",
          "2016-12",
          "2017-01",
          "2017-02",
          "2017-03",
          "2017-04",
          "2017-05",
          "2017-06",
          "2017-07",
          "2017-08",
          "2017-09",
          "2017-10",
          "2017-11",
          "2017-12",
          "2018-01",
          "2018-02",
          "2018-03",
          "2018-04",
          "2018-05",
          "2018-06",
          "2018-07",
          "2018-08",
          "2018-09",
          "2018-10",
          "2018-11",
          "2018-12",
          "2019-01",
          "2019-02",
          "2019-03",
          "2019-04",
          "2019-05",
          "2019-06",
          "2019-07",
          "2019-08",
          "2019-09",
          "2019-10",
          "2019-11",
          "2019-12",
          "2020-01",
          "2020-02",
          "2020-03",
          "2020-04",
          "2020-05",
          "2020-06",
          "2020-07",
          "2020-08",
          "2020-09",
          "2020-10",
          "2020-11",
          "2020-12",
          "2021-01",
          "2021-02",
          "2021-03",
          "2021-04",
          "2021-05",
          "2021-06",
          "2021-07",
          "2021-08",
          "2021-09",
          "2021-10",
          "2021-11",
          "2021-12",
          "2022-02",
          "2022-03",
          "2022-04",
          "2022-05",
          "2022-06",
          "2022-07",
          "2022-08",
          "2022-09",
          "2022-10",
          "2022-11",
          "2022-12",
          "2023-01",
          "2023-02",
          "2023-03",
          "2023-04",
          "2023-05",
          "2023-06",
          "2023-07",
          "2023-08",
          "2023-09",
          "2023-10",
          "2023-11",
          "2023-12",
          "2024-01",
          "2024-02",
          "2024-03",
          "2024-04",
          "2024-05"
         ],
         "xaxis": "x",
         "y": [
          69.07,
          87.6,
          101.72,
          79.07,
          72.69,
          67.32,
          69.97,
          72.69,
          62.66,
          46.67,
          49.73,
          51.09,
          75.8,
          110.72,
          100.33,
          77.86,
          73.69,
          70.78,
          67.63,
          64.38,
          64.04,
          52.02,
          49.88,
          57.05,
          67.89,
          104.49,
          98.41,
          71.04,
          64.56,
          64.95,
          64.39,
          63.37,
          51.99,
          50.84,
          45.11,
          50.71,
          48.29,
          59.77,
          108.86,
          61.08,
          64.24,
          59.37,
          59.89,
          62.21,
          67.65,
          47.25,
          57.76,
          57.65,
          83.9,
          121.48,
          76.61,
          55.39,
          55.18,
          60.96,
          63.6,
          62.47,
          80.46,
          52.63,
          59.55,
          53.41,
          65.78,
          94.13,
          70.24,
          64.6,
          67.15,
          64.76,
          68.94,
          70.8,
          67,
          48.21,
          50.92,
          45.12,
          55.83,
          91.34,
          96.35,
          58.21,
          64.59,
          59.27,
          64.19,
          67.13,
          70.11,
          51.09,
          60.44,
          53.21,
          79.12,
          118.42,
          93.34,
          69.05,
          62.39,
          62.41,
          65.42,
          73.76,
          71.82,
          59.98,
          49.94,
          50.49,
          56.87,
          103.7,
          98.92,
          78.44,
          63.79,
          67.02,
          66.57,
          66.65,
          66.07,
          50.46,
          55.23,
          55.98,
          78.87,
          103.09,
          116.93,
          68.79,
          68.93,
          62.47,
          55.39,
          60.91,
          58.13,
          48.17,
          52.2,
          50.3,
          58.35,
          117.06,
          114.43,
          70.97,
          68.6,
          61.03,
          64.97,
          63.65,
          62.09,
          59.46,
          48.49,
          53.46,
          53.79,
          65.92,
          91.57,
          69.11,
          65.09,
          56.69,
          63.73,
          65.16,
          60.42,
          55.25,
          55.42,
          45.24,
          74.09,
          125.39,
          97.52,
          65.67,
          68.15,
          65.32,
          64.49,
          64.55,
          57.51,
          51.48,
          45.08,
          54.43,
          73.98,
          109.03,
          109.02,
          73.01,
          60.14,
          60.67,
          64.83,
          65.69,
          69.05,
          49.86,
          55.25,
          56.2,
          54.22,
          108.04,
          117.66,
          76.45,
          63,
          65.17,
          62.52,
          62.68,
          63.61,
          46.59,
          51.79,
          49.93,
          62.15,
          108.13,
          93.35,
          71.77,
          60.24,
          64.42,
          61.98,
          61.01,
          57.84,
          48.33,
          47.4,
          46.89,
          67.49,
          100.63,
          114.97,
          76.7,
          66.23,
          62.4,
          64.19,
          60.73,
          61.48,
          44.42,
          47.44,
          45.04,
          55.42,
          72.4,
          101.9,
          82.02,
          70.59,
          65.16,
          61.69,
          54.98,
          56.22,
          52.31,
          46.12,
          44.46,
          66.48,
          105.77,
          97.92,
          69.06,
          63.29,
          64.47,
          63.01,
          58.74,
          55.64,
          48.17,
          44.01,
          57.55,
          60.58,
          102.72,
          108.24,
          84.13,
          63.54,
          66.43,
          67.26,
          63.8,
          62.64,
          53.54,
          53.09,
          59.09,
          73.43,
          104.84,
          135.07,
          58.4,
          56.69,
          60.74,
          64.59,
          65.68,
          51.1,
          45.84,
          43.55,
          62.24,
          67.85,
          118.4,
          96.66,
          61.46,
          64.84,
          60.76,
          60.75,
          57.56,
          58.33,
          50.48,
          52.08,
          53.79,
          93.62,
          104.31,
          80.98,
          68.61,
          59.6,
          61.09,
          61.8,
          57.12,
          53.33,
          55.19,
          52.62,
          72.88,
          121.83,
          145.83,
          73.95,
          60.08,
          55.53,
          59.21,
          57.06,
          54.76,
          48.89,
          52.01,
          47.26,
          55.11,
          95.46,
          151.07,
          null
         ],
         "yaxis": "y"
        }
       ],
       "layout": {
        "legend": {
         "tracegroupgap": 0
        },
        "template": {
         "data": {
          "bar": [
           {
            "error_x": {
             "color": "#2a3f5f"
            },
            "error_y": {
             "color": "#2a3f5f"
            },
            "marker": {
             "line": {
              "color": "#E5ECF6",
              "width": 0.5
             },
             "pattern": {
              "fillmode": "overlay",
              "size": 10,
              "solidity": 0.2
             }
            },
            "type": "bar"
           }
          ],
          "barpolar": [
           {
            "marker": {
             "line": {
              "color": "#E5ECF6",
              "width": 0.5
             },
             "pattern": {
              "fillmode": "overlay",
              "size": 10,
              "solidity": 0.2
             }
            },
            "type": "barpolar"
           }
          ],
          "carpet": [
           {
            "aaxis": {
             "endlinecolor": "#2a3f5f",
             "gridcolor": "white",
             "linecolor": "white",
             "minorgridcolor": "white",
             "startlinecolor": "#2a3f5f"
            },
            "baxis": {
             "endlinecolor": "#2a3f5f",
             "gridcolor": "white",
             "linecolor": "white",
             "minorgridcolor": "white",
             "startlinecolor": "#2a3f5f"
            },
            "type": "carpet"
           }
          ],
          "choropleth": [
           {
            "colorbar": {
             "outlinewidth": 0,
             "ticks": ""
            },
            "type": "choropleth"
           }
          ],
          "contour": [
           {
            "colorbar": {
             "outlinewidth": 0,
             "ticks": ""
            },
            "colorscale": [
             [
              0,
              "#0d0887"
             ],
             [
              0.1111111111111111,
              "#46039f"
             ],
             [
              0.2222222222222222,
              "#7201a8"
             ],
             [
              0.3333333333333333,
              "#9c179e"
             ],
             [
              0.4444444444444444,
              "#bd3786"
             ],
             [
              0.5555555555555556,
              "#d8576b"
             ],
             [
              0.6666666666666666,
              "#ed7953"
             ],
             [
              0.7777777777777778,
              "#fb9f3a"
             ],
             [
              0.8888888888888888,
              "#fdca26"
             ],
             [
              1,
              "#f0f921"
             ]
            ],
            "type": "contour"
           }
          ],
          "contourcarpet": [
           {
            "colorbar": {
             "outlinewidth": 0,
             "ticks": ""
            },
            "type": "contourcarpet"
           }
          ],
          "heatmap": [
           {
            "colorbar": {
             "outlinewidth": 0,
             "ticks": ""
            },
            "colorscale": [
             [
              0,
              "#0d0887"
             ],
             [
              0.1111111111111111,
              "#46039f"
             ],
             [
              0.2222222222222222,
              "#7201a8"
             ],
             [
              0.3333333333333333,
              "#9c179e"
             ],
             [
              0.4444444444444444,
              "#bd3786"
             ],
             [
              0.5555555555555556,
              "#d8576b"
             ],
             [
              0.6666666666666666,
              "#ed7953"
             ],
             [
              0.7777777777777778,
              "#fb9f3a"
             ],
             [
              0.8888888888888888,
              "#fdca26"
             ],
             [
              1,
              "#f0f921"
             ]
            ],
            "type": "heatmap"
           }
          ],
          "heatmapgl": [
           {
            "colorbar": {
             "outlinewidth": 0,
             "ticks": ""
            },
            "colorscale": [
             [
              0,
              "#0d0887"
             ],
             [
              0.1111111111111111,
              "#46039f"
             ],
             [
              0.2222222222222222,
              "#7201a8"
             ],
             [
              0.3333333333333333,
              "#9c179e"
             ],
             [
              0.4444444444444444,
              "#bd3786"
             ],
             [
              0.5555555555555556,
              "#d8576b"
             ],
             [
              0.6666666666666666,
              "#ed7953"
             ],
             [
              0.7777777777777778,
              "#fb9f3a"
             ],
             [
              0.8888888888888888,
              "#fdca26"
             ],
             [
              1,
              "#f0f921"
             ]
            ],
            "type": "heatmapgl"
           }
          ],
          "histogram": [
           {
            "marker": {
             "pattern": {
              "fillmode": "overlay",
              "size": 10,
              "solidity": 0.2
             }
            },
            "type": "histogram"
           }
          ],
          "histogram2d": [
           {
            "colorbar": {
             "outlinewidth": 0,
             "ticks": ""
            },
            "colorscale": [
             [
              0,
              "#0d0887"
             ],
             [
              0.1111111111111111,
              "#46039f"
             ],
             [
              0.2222222222222222,
              "#7201a8"
             ],
             [
              0.3333333333333333,
              "#9c179e"
             ],
             [
              0.4444444444444444,
              "#bd3786"
             ],
             [
              0.5555555555555556,
              "#d8576b"
             ],
             [
              0.6666666666666666,
              "#ed7953"
             ],
             [
              0.7777777777777778,
              "#fb9f3a"
             ],
             [
              0.8888888888888888,
              "#fdca26"
             ],
             [
              1,
              "#f0f921"
             ]
            ],
            "type": "histogram2d"
           }
          ],
          "histogram2dcontour": [
           {
            "colorbar": {
             "outlinewidth": 0,
             "ticks": ""
            },
            "colorscale": [
             [
              0,
              "#0d0887"
             ],
             [
              0.1111111111111111,
              "#46039f"
             ],
             [
              0.2222222222222222,
              "#7201a8"
             ],
             [
              0.3333333333333333,
              "#9c179e"
             ],
             [
              0.4444444444444444,
              "#bd3786"
             ],
             [
              0.5555555555555556,
              "#d8576b"
             ],
             [
              0.6666666666666666,
              "#ed7953"
             ],
             [
              0.7777777777777778,
              "#fb9f3a"
             ],
             [
              0.8888888888888888,
              "#fdca26"
             ],
             [
              1,
              "#f0f921"
             ]
            ],
            "type": "histogram2dcontour"
           }
          ],
          "mesh3d": [
           {
            "colorbar": {
             "outlinewidth": 0,
             "ticks": ""
            },
            "type": "mesh3d"
           }
          ],
          "parcoords": [
           {
            "line": {
             "colorbar": {
              "outlinewidth": 0,
              "ticks": ""
             }
            },
            "type": "parcoords"
           }
          ],
          "pie": [
           {
            "automargin": true,
            "type": "pie"
           }
          ],
          "scatter": [
           {
            "fillpattern": {
             "fillmode": "overlay",
             "size": 10,
             "solidity": 0.2
            },
            "type": "scatter"
           }
          ],
          "scatter3d": [
           {
            "line": {
             "colorbar": {
              "outlinewidth": 0,
              "ticks": ""
             }
            },
            "marker": {
             "colorbar": {
              "outlinewidth": 0,
              "ticks": ""
             }
            },
            "type": "scatter3d"
           }
          ],
          "scattercarpet": [
           {
            "marker": {
             "colorbar": {
              "outlinewidth": 0,
              "ticks": ""
             }
            },
            "type": "scattercarpet"
           }
          ],
          "scattergeo": [
           {
            "marker": {
             "colorbar": {
              "outlinewidth": 0,
              "ticks": ""
             }
            },
            "type": "scattergeo"
           }
          ],
          "scattergl": [
           {
            "marker": {
             "colorbar": {
              "outlinewidth": 0,
              "ticks": ""
             }
            },
            "type": "scattergl"
           }
          ],
          "scattermapbox": [
           {
            "marker": {
             "colorbar": {
              "outlinewidth": 0,
              "ticks": ""
             }
            },
            "type": "scattermapbox"
           }
          ],
          "scatterpolar": [
           {
            "marker": {
             "colorbar": {
              "outlinewidth": 0,
              "ticks": ""
             }
            },
            "type": "scatterpolar"
           }
          ],
          "scatterpolargl": [
           {
            "marker": {
             "colorbar": {
              "outlinewidth": 0,
              "ticks": ""
             }
            },
            "type": "scatterpolargl"
           }
          ],
          "scatterternary": [
           {
            "marker": {
             "colorbar": {
              "outlinewidth": 0,
              "ticks": ""
             }
            },
            "type": "scatterternary"
           }
          ],
          "surface": [
           {
            "colorbar": {
             "outlinewidth": 0,
             "ticks": ""
            },
            "colorscale": [
             [
              0,
              "#0d0887"
             ],
             [
              0.1111111111111111,
              "#46039f"
             ],
             [
              0.2222222222222222,
              "#7201a8"
             ],
             [
              0.3333333333333333,
              "#9c179e"
             ],
             [
              0.4444444444444444,
              "#bd3786"
             ],
             [
              0.5555555555555556,
              "#d8576b"
             ],
             [
              0.6666666666666666,
              "#ed7953"
             ],
             [
              0.7777777777777778,
              "#fb9f3a"
             ],
             [
              0.8888888888888888,
              "#fdca26"
             ],
             [
              1,
              "#f0f921"
             ]
            ],
            "type": "surface"
           }
          ],
          "table": [
           {
            "cells": {
             "fill": {
              "color": "#EBF0F8"
             },
             "line": {
              "color": "white"
             }
            },
            "header": {
             "fill": {
              "color": "#C8D4E3"
             },
             "line": {
              "color": "white"
             }
            },
            "type": "table"
           }
          ]
         },
         "layout": {
          "annotationdefaults": {
           "arrowcolor": "#2a3f5f",
           "arrowhead": 0,
           "arrowwidth": 1
          },
          "autotypenumbers": "strict",
          "coloraxis": {
           "colorbar": {
            "outlinewidth": 0,
            "ticks": ""
           }
          },
          "colorscale": {
           "diverging": [
            [
             0,
             "#8e0152"
            ],
            [
             0.1,
             "#c51b7d"
            ],
            [
             0.2,
             "#de77ae"
            ],
            [
             0.3,
             "#f1b6da"
            ],
            [
             0.4,
             "#fde0ef"
            ],
            [
             0.5,
             "#f7f7f7"
            ],
            [
             0.6,
             "#e6f5d0"
            ],
            [
             0.7,
             "#b8e186"
            ],
            [
             0.8,
             "#7fbc41"
            ],
            [
             0.9,
             "#4d9221"
            ],
            [
             1,
             "#276419"
            ]
           ],
           "sequential": [
            [
             0,
             "#0d0887"
            ],
            [
             0.1111111111111111,
             "#46039f"
            ],
            [
             0.2222222222222222,
             "#7201a8"
            ],
            [
             0.3333333333333333,
             "#9c179e"
            ],
            [
             0.4444444444444444,
             "#bd3786"
            ],
            [
             0.5555555555555556,
             "#d8576b"
            ],
            [
             0.6666666666666666,
             "#ed7953"
            ],
            [
             0.7777777777777778,
             "#fb9f3a"
            ],
            [
             0.8888888888888888,
             "#fdca26"
            ],
            [
             1,
             "#f0f921"
            ]
           ],
           "sequentialminus": [
            [
             0,
             "#0d0887"
            ],
            [
             0.1111111111111111,
             "#46039f"
            ],
            [
             0.2222222222222222,
             "#7201a8"
            ],
            [
             0.3333333333333333,
             "#9c179e"
            ],
            [
             0.4444444444444444,
             "#bd3786"
            ],
            [
             0.5555555555555556,
             "#d8576b"
            ],
            [
             0.6666666666666666,
             "#ed7953"
            ],
            [
             0.7777777777777778,
             "#fb9f3a"
            ],
            [
             0.8888888888888888,
             "#fdca26"
            ],
            [
             1,
             "#f0f921"
            ]
           ]
          },
          "colorway": [
           "#636efa",
           "#EF553B",
           "#00cc96",
           "#ab63fa",
           "#FFA15A",
           "#19d3f3",
           "#FF6692",
           "#B6E880",
           "#FF97FF",
           "#FECB52"
          ],
          "font": {
           "color": "#2a3f5f"
          },
          "geo": {
           "bgcolor": "white",
           "lakecolor": "white",
           "landcolor": "#E5ECF6",
           "showlakes": true,
           "showland": true,
           "subunitcolor": "white"
          },
          "hoverlabel": {
           "align": "left"
          },
          "hovermode": "closest",
          "mapbox": {
           "style": "light"
          },
          "paper_bgcolor": "white",
          "plot_bgcolor": "#E5ECF6",
          "polar": {
           "angularaxis": {
            "gridcolor": "white",
            "linecolor": "white",
            "ticks": ""
           },
           "bgcolor": "#E5ECF6",
           "radialaxis": {
            "gridcolor": "white",
            "linecolor": "white",
            "ticks": ""
           }
          },
          "scene": {
           "xaxis": {
            "backgroundcolor": "#E5ECF6",
            "gridcolor": "white",
            "gridwidth": 2,
            "linecolor": "white",
            "showbackground": true,
            "ticks": "",
            "zerolinecolor": "white"
           },
           "yaxis": {
            "backgroundcolor": "#E5ECF6",
            "gridcolor": "white",
            "gridwidth": 2,
            "linecolor": "white",
            "showbackground": true,
            "ticks": "",
            "zerolinecolor": "white"
           },
           "zaxis": {
            "backgroundcolor": "#E5ECF6",
            "gridcolor": "white",
            "gridwidth": 2,
            "linecolor": "white",
            "showbackground": true,
            "ticks": "",
            "zerolinecolor": "white"
           }
          },
          "shapedefaults": {
           "line": {
            "color": "#2a3f5f"
           }
          },
          "ternary": {
           "aaxis": {
            "gridcolor": "white",
            "linecolor": "white",
            "ticks": ""
           },
           "baxis": {
            "gridcolor": "white",
            "linecolor": "white",
            "ticks": ""
           },
           "bgcolor": "#E5ECF6",
           "caxis": {
            "gridcolor": "white",
            "linecolor": "white",
            "ticks": ""
           }
          },
          "title": {
           "x": 0.05
          },
          "xaxis": {
           "automargin": true,
           "gridcolor": "white",
           "linecolor": "white",
           "ticks": "",
           "title": {
            "standoff": 15
           },
           "zerolinecolor": "white",
           "zerolinewidth": 2
          },
          "yaxis": {
           "automargin": true,
           "gridcolor": "white",
           "linecolor": "white",
           "ticks": "",
           "title": {
            "standoff": 15
           },
           "zerolinecolor": "white",
           "zerolinewidth": 2
          }
         }
        },
        "title": {
         "text": "Monthly PM2.5 (mean) in Chiangmai"
        },
        "xaxis": {
         "anchor": "y",
         "domain": [
          0,
          1
         ],
         "tickmode": "array",
         "ticktext": [
          "2005",
          "2010",
          "2015",
          "2020",
          "2024"
         ],
         "tickvals": [
          "2005-01",
          "2010-01",
          "2015-01",
          "2020-01",
          "2024-01"
         ],
         "title": {
          "text": "Year-Month"
         }
        },
        "yaxis": {
         "anchor": "x",
         "domain": [
          0,
          1
         ],
         "range": [
          0,
          180
         ],
         "title": {
          "text": "PM2.5 (µg/m3)"
         }
        }
       }
      }
     },
     "metadata": {},
     "output_type": "display_data"
    }
   ],
   "source": [
    "import plotly.express as px\n",
    "\n",
    "agg = 'mean'\n",
    "fig = px.line(df_predict_pm25_monthly, x=\"year_month\", y=f\"pm25_{agg}\", title=f'Monthly PM2.5 ({agg}) in Chiangmai')\n",
    "\n",
    "fig.update_layout(xaxis_title='Year-Month')\n",
    "\n",
    "fig.update_layout(\n",
    "    xaxis = dict(\n",
    "        tickmode = 'array',\n",
    "        tickvals = xticks,\n",
    "        ticktext = xticks_text\n",
    "    )\n",
    ")\n",
    "\n",
    "fig.update_layout(yaxis_title='PM2.5 (µg/m3)')\n",
    "fig.update_layout(yaxis_range=(0, 180))\n",
    "fig.update_traces(line_color='red')\n",
    "\n",
    "fig.show()\n",
    "fig.write_json(fr'./time_series-{agg}.json')\n",
    "fig.write_html(fr'./time_series-{agg}.html', include_plotlyjs=False, full_html=False, div_id=f'time_series-{agg}')"
   ]
  },
  {
   "cell_type": "code",
   "execution_count": null,
   "metadata": {},
   "outputs": [],
   "source": []
  }
 ],
 "metadata": {
  "kernelspec": {
   "display_name": "crop_tl",
   "language": "python",
   "name": "crop_tl"
  },
  "language_info": {
   "codemirror_mode": {
    "name": "ipython",
    "version": 3
   },
   "file_extension": ".py",
   "mimetype": "text/x-python",
   "name": "python",
   "nbconvert_exporter": "python",
   "pygments_lexer": "ipython3",
   "version": "3.8.16"
  }
 },
 "nbformat": 4,
 "nbformat_minor": 2
}
