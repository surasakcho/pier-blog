{
 "cells": [
  {
   "cell_type": "markdown",
   "metadata": {},
   "source": [
    "## Import lib"
   ]
  },
  {
   "cell_type": "code",
   "execution_count": null,
   "metadata": {},
   "outputs": [],
   "source": [
    "import matplotlib.pyplot as plt\n",
    "import pandas as pd\n",
    "import numpy as np\n",
    "import plotly\n",
    "import plotly.graph_objects as go\n",
    "import cv2\n",
    "import os, sys\n"
   ]
  },
  {
   "cell_type": "markdown",
   "metadata": {},
   "source": [
    "## Define functions"
   ]
  },
  {
   "cell_type": "markdown",
   "metadata": {},
   "source": [
    "## Load data"
   ]
  },
  {
   "cell_type": "code",
   "execution_count": null,
   "metadata": {},
   "outputs": [],
   "source": [
    "df_predict_pm25_monthly_median = pd.read_parquet(r'../data/df_predict_pm25_monthly_median.parquet')\n",
    "df_predict_pm25_monthly_mean = pd.read_parquet(r'../data/df_predict_pm25_monthly_mean.parquet')\n",
    "\n",
    "df_predict_pm25_monthly_median = df_predict_pm25_monthly_median.median(axis=0).reset_index()\n",
    "df_predict_pm25_monthly_median.columns = ['year_month', 'pm25_median']\n",
    "\n",
    "df_predict_pm25_monthly_mean = df_predict_pm25_monthly_mean.mean(axis=0).reset_index()\n",
    "df_predict_pm25_monthly_mean.columns = ['year_month', 'pm25_mean']\n",
    "\n",
    "df_predict_pm25_monthly = df_predict_pm25_monthly_mean.merge(df_predict_pm25_monthly_median, left_on='year_month', right_on='year_month')\n",
    "df_predict_pm25_monthly.iloc[:, 1:] = df_predict_pm25_monthly.iloc[:, 1:].round(2)\n",
    "df_predict_pm25_monthly.loc[len(df_predict_pm25_monthly)]= pd.Series({'year_month':'2024-05', 'pm25_mean':np.nan, 'pm25_median':np.nan})\n",
    "\n",
    "df_predict_pm25_monthly.to_csv(r'../data/df_predict_pm25_monthly.csv')"
   ]
  },
  {
   "cell_type": "code",
   "execution_count": null,
   "metadata": {},
   "outputs": [],
   "source": [
    "# xticks = [xtick for xtick in df_predict_pm25_monthly['year_month'] if xtick.endswith('-01')]\n",
    "# xticks_text = [xtick[:4] for xtick in xticks]\n",
    "\n",
    "\n",
    "xticks = ['2005-01', '2010-01', '2015-01', '2020-01', '2024-01']\n",
    "xticks_text = ['2005', '2010', '2015', '2020', '2024']"
   ]
  },
  {
   "cell_type": "code",
   "execution_count": null,
   "metadata": {},
   "outputs": [],
   "source": [
    "import plotly.express as px\n",
    "\n",
    "agg = 'mean'\n",
    "fig = px.line(df_predict_pm25_monthly, x=\"year_month\", y=f\"pm25_{agg}\", title=f'Monthly PM2.5 ({agg}) in Chiangmai')\n",
    "\n",
    "fig.update_layout(xaxis_title='Year-Month')\n",
    "\n",
    "fig.update_layout(\n",
    "    xaxis = dict(\n",
    "        tickmode = 'array',\n",
    "        tickvals = xticks,\n",
    "        ticktext = xticks_text\n",
    "    )\n",
    ")\n",
    "\n",
    "fig.update_layout(yaxis_title='PM2.5 (µg/m3)')\n",
    "fig.update_layout(yaxis_range=(0, 180))\n",
    "\n",
    "\n",
    "fig.show()\n",
    "fig.write_json(fr'./time_series-{agg}.json')\n",
    "fig.write_html(fr'./time_series-{agg}.html', include_plotlyjs=False, full_html=False, div_id=f'time_series-{agg}')"
   ]
  },
  {
   "cell_type": "code",
   "execution_count": null,
   "metadata": {},
   "outputs": [],
   "source": []
  }
 ],
 "metadata": {
  "kernelspec": {
   "display_name": "crop_tl",
   "language": "python",
   "name": "crop_tl"
  },
  "language_info": {
   "codemirror_mode": {
    "name": "ipython",
    "version": 3
   },
   "file_extension": ".py",
   "mimetype": "text/x-python",
   "name": "python",
   "nbconvert_exporter": "python",
   "pygments_lexer": "ipython3",
   "version": "3.8.16"
  }
 },
 "nbformat": 4,
 "nbformat_minor": 2
}
