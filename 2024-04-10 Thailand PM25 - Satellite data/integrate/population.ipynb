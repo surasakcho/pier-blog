{
 "cells": [
  {
   "cell_type": "code",
   "execution_count": 1,
   "metadata": {},
   "outputs": [],
   "source": [
    "import pandas as pd"
   ]
  },
  {
   "cell_type": "code",
   "execution_count": 7,
   "metadata": {},
   "outputs": [],
   "source": [
    "df_pop = pd.read_csv(r'../data/dopa/stat_c66.txt', sep='|')\n",
    "df_pop = df_pop.iloc[:, [2, 11]]\n",
    "df_pop.columns = ['prov', 'pop']\n"
   ]
  },
  {
   "cell_type": "code",
   "execution_count": 15,
   "metadata": {},
   "outputs": [
    {
     "data": {
      "text/html": [
       "<div>\n",
       "<style scoped>\n",
       "    .dataframe tbody tr th:only-of-type {\n",
       "        vertical-align: middle;\n",
       "    }\n",
       "\n",
       "    .dataframe tbody tr th {\n",
       "        vertical-align: top;\n",
       "    }\n",
       "\n",
       "    .dataframe thead th {\n",
       "        text-align: right;\n",
       "    }\n",
       "</style>\n",
       "<table border=\"1\" class=\"dataframe\">\n",
       "  <thead>\n",
       "    <tr style=\"text-align: right;\">\n",
       "      <th></th>\n",
       "      <th>prov</th>\n",
       "      <th>pop</th>\n",
       "    </tr>\n",
       "  </thead>\n",
       "  <tbody>\n",
       "    <tr>\n",
       "      <th>0</th>\n",
       "      <td>กรุงเทพมหานคร</td>\n",
       "      <td>5471588</td>\n",
       "    </tr>\n",
       "    <tr>\n",
       "      <th>18</th>\n",
       "      <td>จังหวัดนครราชสีมา</td>\n",
       "      <td>2625794</td>\n",
       "    </tr>\n",
       "    <tr>\n",
       "      <th>22</th>\n",
       "      <td>จังหวัดอุบลราชธานี</td>\n",
       "      <td>1869608</td>\n",
       "    </tr>\n",
       "    <tr>\n",
       "      <th>38</th>\n",
       "      <td>จังหวัดเชียงใหม่</td>\n",
       "      <td>1797075</td>\n",
       "    </tr>\n",
       "    <tr>\n",
       "      <th>28</th>\n",
       "      <td>จังหวัดขอนแก่น</td>\n",
       "      <td>1779373</td>\n",
       "    </tr>\n",
       "    <tr>\n",
       "      <th>10</th>\n",
       "      <td>จังหวัดชลบุรี</td>\n",
       "      <td>1618066</td>\n",
       "    </tr>\n",
       "    <tr>\n",
       "      <th>19</th>\n",
       "      <td>จังหวัดบุรีรัมย์</td>\n",
       "      <td>1573230</td>\n",
       "    </tr>\n",
       "    <tr>\n",
       "      <th>29</th>\n",
       "      <td>จังหวัดอุดรธานี</td>\n",
       "      <td>1558528</td>\n",
       "    </tr>\n",
       "    <tr>\n",
       "      <th>63</th>\n",
       "      <td>จังหวัดนครศรีธรรมราช</td>\n",
       "      <td>1540953</td>\n",
       "    </tr>\n",
       "    <tr>\n",
       "      <th>21</th>\n",
       "      <td>จังหวัดศรีสะเกษ</td>\n",
       "      <td>1450333</td>\n",
       "    </tr>\n",
       "  </tbody>\n",
       "</table>\n",
       "</div>"
      ],
      "text/plain": [
       "                     prov      pop\n",
       "0           กรุงเทพมหานคร  5471588\n",
       "18     จังหวัดนครราชสีมา   2625794\n",
       "22    จังหวัดอุบลราชธานี   1869608\n",
       "38      จังหวัดเชียงใหม่   1797075\n",
       "28        จังหวัดขอนแก่น   1779373\n",
       "10         จังหวัดชลบุรี   1618066\n",
       "19      จังหวัดบุรีรัมย์   1573230\n",
       "29       จังหวัดอุดรธานี   1558528\n",
       "63  จังหวัดนครศรีธรรมราช   1540953\n",
       "21       จังหวัดศรีสะเกษ   1450333"
      ]
     },
     "execution_count": 15,
     "metadata": {},
     "output_type": "execute_result"
    }
   ],
   "source": [
    "df_pop['pop'] = df_pop['pop'].str.replace(',', '').astype(int)\n",
    "df_pop = df_pop.sort_values('pop', ascending=False)\n",
    "df_pop.head(10)"
   ]
  }
 ],
 "metadata": {
  "kernelspec": {
   "display_name": "base",
   "language": "python",
   "name": "python3"
  },
  "language_info": {
   "codemirror_mode": {
    "name": "ipython",
    "version": 3
   },
   "file_extension": ".py",
   "mimetype": "text/x-python",
   "name": "python",
   "nbconvert_exporter": "python",
   "pygments_lexer": "ipython3",
   "version": "3.11.7"
  }
 },
 "nbformat": 4,
 "nbformat_minor": 2
}
