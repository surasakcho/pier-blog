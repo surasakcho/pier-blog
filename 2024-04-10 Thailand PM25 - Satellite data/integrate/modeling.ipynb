{
 "cells": [
  {
   "cell_type": "code",
   "execution_count": null,
   "metadata": {},
   "outputs": [],
   "source": []
  },
  {
   "cell_type": "markdown",
   "metadata": {},
   "source": [
    "## Import Lib"
   ]
  },
  {
   "cell_type": "code",
   "execution_count": null,
   "metadata": {},
   "outputs": [],
   "source": [
    "import pandas as pd\n",
    "import matplotlib.pyplot as plt\n",
    "import seaborn as sns\n",
    "import geopandas as gpd\n",
    "from zkyhaxpy import io_tools, gis_tools\n",
    "import rasterio\n",
    "import os\n",
    "import shutil\n",
    "import numpy as np\n",
    "from tqdm.notebook import tqdm"
   ]
  },
  {
   "cell_type": "markdown",
   "metadata": {},
   "source": [
    "## Load data for training model"
   ]
  },
  {
   "cell_type": "code",
   "execution_count": null,
   "metadata": {},
   "outputs": [],
   "source": [
    "df_chiangmai_grid = pd.read_parquet(r'../data/df_chiangmai_grid.parquet')\n",
    "\n",
    "lat_min = df_chiangmai_grid.lat.min()\n",
    "lat_max = df_chiangmai_grid.lat.max()\n",
    "lon_min = df_chiangmai_grid.lon.min()\n",
    "lon_max = df_chiangmai_grid.lon.max()"
   ]
  },
  {
   "cell_type": "code",
   "execution_count": null,
   "metadata": {},
   "outputs": [],
   "source": [
    "df_extracted_aod055 = pd.read_csv(r'../data/df_extracted_aod055.csv')\n",
    "del(df_extracted_aod055['row'])\n",
    "del(df_extracted_aod055['col'])\n",
    "del(df_extracted_aod055['tile_id'])\n",
    "\n",
    "df_extracted_dem = pd.read_csv(r'../data/df_extracted_dem.csv')\n",
    "del(df_extracted_dem['row'])\n",
    "del(df_extracted_dem['col'])\n",
    "\n",
    "\n",
    "path_df_openaq = r'../data/df_openaq.parquet'\n",
    "if os.path.exists(path_df_openaq):\n",
    "    df_openaq = pd.read_parquet(path_df_openaq)\n",
    "    print(f'{path_df_openaq} has been loaded')\n",
    "else:\n",
    "    gdf_openaq = gpd.read_file('../data/gdf_openaq.gpkg')\n",
    "    print('gdf_openaq has been loaded.')\n",
    "    if gdf_openaq.index.name is None:\n",
    "        gdf_openaq = gdf_openaq.set_index('measurement_id')\n",
    "    \n",
    "    df_openaq = gdf_openaq.drop(columns=['geometry']).copy()\n",
    "    df_openaq.to_parquet(path_df_openaq)\n",
    "    print(f'{path_df_openaq} has been saved')"
   ]
  },
  {
   "cell_type": "code",
   "execution_count": null,
   "metadata": {},
   "outputs": [],
   "source": [
    "df_openaq = df_openaq[df_openaq['value'] != -999].copy()\n",
    "df_openaq"
   ]
  },
  {
   "cell_type": "code",
   "execution_count": null,
   "metadata": {},
   "outputs": [],
   "source": [
    "df_extracted_aod055 = df_extracted_aod055[df_extracted_aod055['aod_055'] >= 0].copy()\n",
    "df_extracted_aod055 = df_extracted_aod055.set_index('measurement_id')\n",
    "df_extracted_aod055"
   ]
  },
  {
   "cell_type": "code",
   "execution_count": null,
   "metadata": {},
   "outputs": [],
   "source": [
    "df_extracted_dem = df_extracted_dem.copy()\n",
    "df_extracted_dem = df_extracted_dem.set_index('measurement_id')\n",
    "df_extracted_dem"
   ]
  },
  {
   "cell_type": "code",
   "execution_count": null,
   "metadata": {},
   "outputs": [],
   "source": [
    "df_joined = df_openaq.merge(df_extracted_aod055, how='inner', left_index=True, right_index=True).copy()\n",
    "df_joined = df_joined.merge(df_extracted_dem, how='inner', left_index=True, right_index=True).copy()\n",
    "df_joined = df_joined.rename(columns={'value':'pm25'})\n",
    "\n",
    "\n",
    "df_joined"
   ]
  },
  {
   "cell_type": "code",
   "execution_count": null,
   "metadata": {},
   "outputs": [],
   "source": []
  },
  {
   "cell_type": "code",
   "execution_count": null,
   "metadata": {},
   "outputs": [],
   "source": [
    "df_pm25 = df_joined[(df_joined['lat'].between(lat_min, lat_max)) & (df_joined['long'].between(lon_min, lon_max))]\n",
    "df_pm25 = df_pm25.reindex(columns=['pm25', 'aod_055', 'dem', 'sensorType']).copy()\n",
    "df_pm25"
   ]
  },
  {
   "cell_type": "code",
   "execution_count": null,
   "metadata": {},
   "outputs": [],
   "source": [
    "sns.scatterplot(data=df_pm25, x='aod_055', y='pm25', hue='pm25')"
   ]
  },
  {
   "cell_type": "markdown",
   "metadata": {},
   "source": [
    "## Model Training"
   ]
  },
  {
   "cell_type": "code",
   "execution_count": null,
   "metadata": {},
   "outputs": [],
   "source": [
    "import pandas as pd\n",
    "from sklearn.model_selection import train_test_split, GridSearchCV\n",
    "from sklearn.ensemble import RandomForestRegressor\n",
    "from sklearn.metrics import mean_squared_error, r2_score\n",
    "from sklearn.model_selection import KFold\n",
    "\n",
    "# Load your sample DataFrame (replace with your actual data)\n",
    "# Assuming your DataFrame is named 'df' and contains columns 'pm25', 'aod_055', and 'dem'\n",
    "# You can replace the sample data with your actual data\n",
    "\n",
    "\n"
   ]
  },
  {
   "cell_type": "markdown",
   "metadata": {},
   "source": [
    "### OLS"
   ]
  },
  {
   "cell_type": "code",
   "execution_count": null,
   "metadata": {},
   "outputs": [],
   "source": [
    "\n",
    "\n",
    "# Define features (X) and target (y)\n",
    "X = df_pm25[['aod_055', ]]\n",
    "y = df_pm25['pm25']\n",
    "\n",
    "\n",
    "# Split data into train and test sets (80% train, 20% test)\n",
    "X_train, X_test, y_train, y_test = train_test_split(X, y, test_size=0.2, random_state=42)\n",
    "\n",
    "import statsmodels.api as sm\n",
    "\n",
    "# Fit OLS model\n",
    "X_train_ols = sm.add_constant(X_train)  # Add constant term\n",
    "ols_model = sm.OLS(y_train, X_train_ols).fit()\n",
    "\n",
    "# Get summary of OLS model\n",
    "print(ols_model.summary())\n"
   ]
  },
  {
   "cell_type": "code",
   "execution_count": null,
   "metadata": {},
   "outputs": [],
   "source": [
    "\n",
    "# Add constant term to test data\n",
    "X_test_ols = sm.add_constant(X_test)\n",
    "\n",
    "# Predict pm25 values\n",
    "y_pred = ols_model.predict(X_test_ols)\n",
    "\n",
    "# Evaluate the model (optional)\n",
    "rmse = mean_squared_error(y_test, y_pred, squared=False)\n",
    "r2 = r2_score(y_test, y_pred)\n",
    "print(f\"Mean Squared Error: {rmse:.2f}\")\n",
    "print(f\"R-squared: {r2:.2f}\")"
   ]
  },
  {
   "cell_type": "code",
   "execution_count": null,
   "metadata": {},
   "outputs": [],
   "source": []
  },
  {
   "cell_type": "markdown",
   "metadata": {},
   "source": [
    "### Random Forest"
   ]
  },
  {
   "cell_type": "markdown",
   "metadata": {},
   "source": [
    "### XGBoost"
   ]
  },
  {
   "cell_type": "code",
   "execution_count": null,
   "metadata": {},
   "outputs": [],
   "source": []
  },
  {
   "cell_type": "markdown",
   "metadata": {},
   "source": [
    "## Predict grid in Chiangmai "
   ]
  },
  {
   "cell_type": "markdown",
   "metadata": {},
   "source": [
    "### Load Chiangmai grid & DEM"
   ]
  },
  {
   "cell_type": "code",
   "execution_count": null,
   "metadata": {},
   "outputs": [],
   "source": [
    "\n",
    "df_chiangmai_dem = pd.read_parquet(r'..\\data\\df_chiangmai_dem.parquet')\n",
    "df_chiangmai_joined = df_chiangmai_grid.merge(df_chiangmai_dem, how='inner', left_index=True, right_index=True)\n",
    "df_chiangmai_joined\n",
    "\n"
   ]
  },
  {
   "cell_type": "code",
   "execution_count": null,
   "metadata": {},
   "outputs": [],
   "source": [
    "dir_predicted_pm25_root = r'../data/predicted_pm25_chiangmai'\n",
    "dir_predicted_pm25_daily = os.path.join(dir_predicted_pm25_root, 'daily')\n",
    "dir_predicted_pm25_monthly = os.path.join(dir_predicted_pm25_root, 'monthly')\n",
    "io_tools.create_folders(dir_predicted_pm25_daily, dir_predicted_pm25_monthly)\n"
   ]
  },
  {
   "cell_type": "code",
   "execution_count": null,
   "metadata": {},
   "outputs": [],
   "source": [
    "dir_chiangmai_aod_daily = r'../data/chiangmai_aod_daily'\n",
    "list_file_aod_daily = io_tools.get_list_files(dir_chiangmai_aod_daily, '.parquet$')\n",
    "pbar_aod_daily = tqdm(list_file_aod_daily)\n",
    "# rerun = input('Rerun? (Y/N)')\n",
    "rerun = 'N'\n",
    "if rerun.upper()=='Y':\n",
    "    rerun_f = True\n",
    "else:\n",
    "    rerun_f = False\n",
    "\n",
    "for path_aod_daily in pbar_aod_daily:\n",
    "    year_month = os.path.basename(path_aod_daily)[23:30]\n",
    "    path_out_daily = os.path.join(dir_predicted_pm25_daily, f'df_predict_pm25-{year_month}.parquet')\n",
    "\n",
    "    if os.path.exists(path_out_daily):\n",
    "        if not rerun_f:\n",
    "            continue\n",
    "\n",
    "    df_aod_daily = pd.read_parquet(path_aod_daily)    \n",
    "    del(df_aod_daily['year_month'])\n",
    "    del(df_aod_daily['tile_id'])\n",
    "    df_predict_pm25 = pd.melt(df_aod_daily, ignore_index=False, )\n",
    "    df_predict_pm25 = df_predict_pm25.dropna().copy()\n",
    "    df_predict_pm25 = df_predict_pm25.rename(columns={'variable':'date', 'value':'aod_055'})\n",
    "    df_predict_pm25 = df_chiangmai_dem.merge(df_predict_pm25, how='inner', left_index=True, right_index=True) \n",
    "    X_predict = df_predict_pm25[['aod_055', 'dem']]\n",
    "    # Evaluate the model on the test set\n",
    "    # y_pred_rf = best_rf_model.predict(X_predict)\n",
    "    # y_pred_xgb = best_xgb_model.predict(X_predict)\n",
    "    # y_pred = (y_pred_rf + y_pred_xgb) / 2\n",
    "    # y_pred = y_pred_rf\n",
    "\n",
    "    #OLS\n",
    "    X_predict = df_predict_pm25[['aod_055',]]\n",
    "    X_predict_ols = sm.add_constant(X_predict)\n",
    "    y_pred = ols_model.predict(X_predict_ols)\n",
    "\n",
    "    assert(len(y_pred)) == (len(df_predict_pm25))\n",
    "    df_predict_pm25['pm25_pred'] = y_pred\n",
    "\n",
    "    df_predict_pm25 = df_predict_pm25.merge(df_chiangmai_grid, how='left', left_index=True, right_index=True).copy()\n",
    "    \n",
    "    df_predict_pm25.to_parquet(path_out_daily)\n",
    "        "
   ]
  },
  {
   "cell_type": "markdown",
   "metadata": {},
   "source": [
    "## Save into monthly image"
   ]
  },
  {
   "cell_type": "code",
   "execution_count": null,
   "metadata": {},
   "outputs": [],
   "source": [
    "import aqi\n",
    "\n",
    "def pm25_to_aqi_level(pm25_concentration: float) -> int:\n",
    "    \"\"\"\n",
    "    Converts PM2.5 concentration to AQI class (as integer).\n",
    "\n",
    "    Args:\n",
    "        pm25_concentration (float): PM2.5 concentration in µg/m³.\n",
    "\n",
    "    Returns:\n",
    "        int: AQI level (0 to 5) based on EPA guidelines.\n",
    "    \"\"\"\n",
    "    aqi_value = aqi.to_aqi([(aqi.POLLUTANT_PM25, str(pm25_concentration))])\n",
    "    if aqi_value <= 50:\n",
    "        return 0  # Good\n",
    "    elif 50 < aqi_value <= 100:\n",
    "        return 1  # Moderate\n",
    "    elif 100 < aqi_value <= 150:\n",
    "        return 2  # Unhealthy for Sensitive Groups\n",
    "    elif 150 < aqi_value <= 200:\n",
    "        return 3  # Unhealthy\n",
    "    elif 200 < aqi_value <= 300:\n",
    "        return 4  # Very Unhealthy\n",
    "    else:\n",
    "        return 5  # Hazardous\n",
    "\n",
    "def aqi_level_to_color(aqi_class: int) -> str:\n",
    "    \"\"\"\n",
    "    Converts AQI level (as integer) to color code.\n",
    "\n",
    "    Args:\n",
    "        aqi_class (int): AQI level (0 to 5).\n",
    "\n",
    "    Returns:\n",
    "        str: Color code corresponding to the AQI level.\n",
    "    \"\"\"\n",
    "    color_codes = {\n",
    "        0: \"Green\",\n",
    "        1: \"Yellow\",\n",
    "        2: \"Orange\",\n",
    "        3: \"Red\",\n",
    "        4: \"Purple\",\n",
    "        5: \"Maroon\"\n",
    "    }\n",
    "    return color_codes.get(aqi_class, \"Unknown\")\n",
    "\n",
    "aqi_color_codes = {\n",
    "        -9:\"Grey\",\n",
    "        0: \"Green\",\n",
    "        1: \"Yellow\",\n",
    "        2: \"Orange\",\n",
    "        3: \"Red\",\n",
    "        4: \"Purple\",\n",
    "        5: \"Maroon\"\n",
    "    }    "
   ]
  },
  {
   "cell_type": "code",
   "execution_count": null,
   "metadata": {},
   "outputs": [],
   "source": [
    "list_filed_predicted_daily = io_tools.get_list_files(dir_predicted_pm25_daily, 'df_predict_pm25-.*.parquet')"
   ]
  },
  {
   "cell_type": "code",
   "execution_count": null,
   "metadata": {},
   "outputs": [],
   "source": [
    "sns.scatterplot(df_predict_pm25_monthly, x='aod_055', y='pm25_pred')"
   ]
  },
  {
   "cell_type": "code",
   "execution_count": null,
   "metadata": {},
   "outputs": [],
   "source": []
  },
  {
   "cell_type": "code",
   "execution_count": null,
   "metadata": {},
   "outputs": [],
   "source": [
    "list_df_predict_pm25_monthly = []\n",
    "for path_file in list_filed_predicted_daily:\n",
    "    year_month = os.path.basename(path_file).split('.')[0][-7:]\n",
    "    df_predict_pm25 = pd.read_parquet(path_file)\n",
    "        \n",
    "    df_predict_pm25_monthly = df_predict_pm25.groupby(['lat', 'lon', 'dem']).agg(year_month=('pm25_pred', 'median')).rename(columns={'year_month':year_month})\n",
    "    list_df_predict_pm25_monthly.append(df_predict_pm25_monthly)\n",
    "df_predict_pm25_monthly = pd.concat(list_df_predict_pm25_monthly, axis=1)    "
   ]
  },
  {
   "cell_type": "code",
   "execution_count": null,
   "metadata": {},
   "outputs": [],
   "source": [
    "df_predict_pm25_monthly.head(100)"
   ]
  },
  {
   "cell_type": "code",
   "execution_count": null,
   "metadata": {},
   "outputs": [],
   "source": [
    "df_predict_pm25_monthly.head(100).interpolate(axis=1)"
   ]
  },
  {
   "cell_type": "code",
   "execution_count": null,
   "metadata": {},
   "outputs": [],
   "source": [
    "df_predict_pm25_monthly = df_predict_pm25_monthly.interpolate(axis=1)"
   ]
  },
  {
   "cell_type": "code",
   "execution_count": null,
   "metadata": {},
   "outputs": [],
   "source": [
    "for path_file in list_filed_predicted_daily:\n",
    "    year_month = os.path.basename(path_file).split('.')[0][-7:]\n",
    "    df_predict_pm25 = pd.read_parquet(path_file)\n",
    "    \n",
    "    df_predict_pm25_monthly = df_predict_pm25.groupby(['lat', 'lon'], as_index=False).agg(\n",
    "        dem=('dem', 'median'), \n",
    "        aod_055=('aod_055', 'median'), \n",
    "        pm25_pred=('pm25_pred', 'median')\n",
    "        )\n",
    "    df_predict_pm25_monthly['aqi_level'] = df_predict_pm25_monthly['pm25_pred'].apply(lambda pm25 : pm25_to_aqi_level(pm25))\n",
    "\n",
    "    fig, axs = plt.subplots(1, 4, sharex=True, sharey=True, figsize=(16, 4))\n",
    "    i = 0\n",
    "    \n",
    "    list_value = ['pm25_pred', 'aqi_level', 'aod_055', 'dem', ]\n",
    "    for value in list_value:\n",
    "        ax = axs[i]\n",
    "        z_data = df_predict_pm25_monthly.pivot_table(values=value, index='lat', columns='lon', aggfunc='median').values\n",
    "        nrows, ncols = z_data.shape\n",
    "        if ncols <= nrows:\n",
    "            pad_size = round((nrows-ncols)/2)\n",
    "            z_data = np.pad(z_data, pad_width=((0, 0), (pad_size, pad_size)),mode='constant', constant_values=np.nan)\n",
    "        ax.imshow(np.flip(z_data, axis=0), cmap='rocket')\n",
    "        ax.set_title(value)\n",
    "        i = i + 1\n",
    "\n",
    "\n",
    "    fig.suptitle(f'PM2.5 : {year_month}')\n",
    "    plt.show()\n",
    "    "
   ]
  },
  {
   "cell_type": "code",
   "execution_count": null,
   "metadata": {},
   "outputs": [],
   "source": [
    "value = 'pm25_pred'\n",
    "z_data = df_predict_pm25.pivot_table(values=value, index='lat', columns='lon', aggfunc='median').values\n",
    "nrows, ncols = z_data.shape\n",
    "if ncols <= nrows:\n",
    "    pad_size = round((nrows-ncols)/2)\n",
    "    z_data = np.pad(z_data, pad_width=((0, 0), (pad_size, pad_size)),mode='constant', constant_values=np.nan)\n",
    "\n",
    "plt.imshow(np.flip(z_data, axis=0), cmap='rocket_r')\n",
    "plt.show()"
   ]
  },
  {
   "cell_type": "code",
   "execution_count": null,
   "metadata": {},
   "outputs": [],
   "source": []
  },
  {
   "cell_type": "code",
   "execution_count": null,
   "metadata": {},
   "outputs": [],
   "source": [
    "df_predict_pm25['aqi_class'] = df_predict_pm25['pm25_pred'].apply(lambda pm25: pm25_to_aqi_class(pm25))\n",
    "df_predict_pm25"
   ]
  },
  {
   "cell_type": "code",
   "execution_count": null,
   "metadata": {},
   "outputs": [],
   "source": [
    "value = 'aqi_class'\n",
    "z_data = df_predict_pm25.pivot_table(values=value, index='lat', columns='lon', aggfunc='median').values\n",
    "nrows, ncols = z_data.shape\n",
    "if ncols <= nrows:\n",
    "    pad_size = round((nrows-ncols)/2)\n",
    "    z_data = np.pad(z_data, pad_width=((0, 0), (pad_size, pad_size)),mode='constant', constant_values=np.nan)\n",
    "\n",
    "plt.imshow(np.flip(z_data, axis=0), cmap='rocket_r')\n",
    "plt.show()"
   ]
  },
  {
   "cell_type": "code",
   "execution_count": null,
   "metadata": {},
   "outputs": [],
   "source": [
    "\n",
    "import plotly.graph_objects as go\n",
    "\n",
    "fig = go.Figure(data=[go.Surface(z=z_data)])\n",
    "\n",
    "fig.update_layout(title='Chiangmai - Elevation Map', autosize=False,\n",
    "                  width=1000, height=1000,\n",
    "                  margin=dict(l=65, r=50, b=65, t=90))\n",
    "map_range = np.max(z_data.shape)\n",
    "fig.update_scenes(\n",
    "    xaxis_range=[0, map_range],\n",
    "    yaxis_range=[0, map_range],\n",
    "    zaxis_range=[0, 30000])\n",
    "\n",
    "fig.show()"
   ]
  },
  {
   "cell_type": "code",
   "execution_count": null,
   "metadata": {},
   "outputs": [],
   "source": [
    "df_chiangmai_dem"
   ]
  }
 ],
 "metadata": {
  "kernelspec": {
   "display_name": "base",
   "language": "python",
   "name": "python3"
  },
  "language_info": {
   "codemirror_mode": {
    "name": "ipython",
    "version": 3
   },
   "file_extension": ".py",
   "mimetype": "text/x-python",
   "name": "python",
   "nbconvert_exporter": "python",
   "pygments_lexer": "ipython3",
   "version": "3.8.16"
  }
 },
 "nbformat": 4,
 "nbformat_minor": 2
}
