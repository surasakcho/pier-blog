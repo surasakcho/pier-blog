{
 "cells": [
  {
   "cell_type": "markdown",
   "metadata": {},
   "source": [
    "## Import lib"
   ]
  },
  {
   "cell_type": "code",
   "execution_count": 1,
   "metadata": {},
   "outputs": [],
   "source": [
    "import pandas as pd\n",
    "import matplotlib.pyplot as plt\n",
    "import seaborn as sns\n",
    "import geopandas as gpd\n",
    "from zkyhaxpy import io_tools, gis_tools\n",
    "import rasterio\n",
    "from rasterio import RasterioIOError\n",
    "import os\n",
    "import shutil\n",
    "import numpy as np\n",
    "from tqdm.notebook import tqdm"
   ]
  },
  {
   "cell_type": "markdown",
   "metadata": {},
   "source": [
    "## Prepare Grid of Chiangmai Lat/Lon"
   ]
  },
  {
   "cell_type": "code",
   "execution_count": 2,
   "metadata": {},
   "outputs": [],
   "source": [
    "def generate_grid(lat_min, lat_max, lon_min, lon_max, step_size_km=1):\n",
    "    \"\"\"\n",
    "    Generates a regular grid of latitude and longitude coordinates within the specified bounding box.\n",
    "    :param lat_min: Minimum latitude\n",
    "    :param lat_max: Maximum latitude\n",
    "    :param lon_min: Minimum longitude\n",
    "    :param lon_max: Maximum longitude\n",
    "    :param step_size_km: Spacing between grid points (default: 1 km)\n",
    "    :return: List of (latitude, longitude) pairs\n",
    "    \"\"\"\n",
    "    grid_points = []\n",
    "    step_size_deg = step_size_km / 111.32  # Approximate conversion from km to degrees\n",
    "    \n",
    "    for lat in np.arange(lat_min, lat_max, step_size_deg):\n",
    "        for lon in np.arange(lon_min, lon_max, step_size_deg):\n",
    "            grid_points.append((round(lat, 4), round(lon, 4)))  # Convert back to decimal degrees\n",
    "\n",
    "    return grid_points\n",
    "\n",
    "\n",
    "# Example usage:\n",
    "chiangmai_lat_min = 17\n",
    "chiangmai_lat_max = 20.5\n",
    "chiangmai_lon_min = 97.8\n",
    "chiangmai_lon_max = 99.8\n",
    "pad_size = 1.0\n",
    "\n",
    "#Get shapefile of Chiangmai\n",
    "gdf_thailand = gpd.read_file(r'../data/thailandWithName.json')\n",
    "gdf_chiangmai = gdf_thailand[gdf_thailand['name'] == 'Chiang Mai']\n",
    "\n",
    "#Create grid lat/lon for Chiangmai every 1 km\n",
    "chiangmai_grid = generate_grid(chiangmai_lat_min-pad_size, chiangmai_lat_max+pad_size, chiangmai_lon_min-pad_size, chiangmai_lon_max+pad_size)\n",
    "df_chiangmai_grid = pd.DataFrame(chiangmai_grid, columns=['lat', 'lon'])\n",
    "df_chiangmai_grid['geometry'] = 'POINT (' + df_chiangmai_grid['lon'].astype(str) + ' ' + df_chiangmai_grid['lat'].astype(str) + ')'\n",
    "gdf_chiangmai_grid = gis_tools.df_to_gdf(df_chiangmai_grid, geometry='geometry')\n",
    "gdf_chiangmai_grid.index.name = 'grid_id'\n",
    "gdf_chiangmai_grid = gdf_chiangmai_grid[gdf_chiangmai_grid['geometry'].intersects(gdf_chiangmai['geometry'].iloc[0])].copy()\n",
    "gdf_chiangmai_grid.drop(columns=['geometry']).to_parquet(r'../data/df_chiangmai_grid.parquet')"
   ]
  },
  {
   "cell_type": "markdown",
   "metadata": {},
   "source": [
    "## DEM"
   ]
  },
  {
   "cell_type": "code",
   "execution_count": 3,
   "metadata": {},
   "outputs": [
    {
     "name": "stdout",
     "output_type": "stream",
     "text": [
      "Total of 2 files have been listed.\n"
     ]
    },
    {
     "data": {
      "text/html": [
       "<div>\n",
       "<style scoped>\n",
       "    .dataframe tbody tr th:only-of-type {\n",
       "        vertical-align: middle;\n",
       "    }\n",
       "\n",
       "    .dataframe tbody tr th {\n",
       "        vertical-align: top;\n",
       "    }\n",
       "\n",
       "    .dataframe thead th {\n",
       "        text-align: right;\n",
       "    }\n",
       "</style>\n",
       "<table border=\"1\" class=\"dataframe\">\n",
       "  <thead>\n",
       "    <tr style=\"text-align: right;\">\n",
       "      <th></th>\n",
       "      <th>file_path</th>\n",
       "      <th>file_nm</th>\n",
       "      <th>folder_nm</th>\n",
       "      <th>file_ext</th>\n",
       "      <th>tile_id</th>\n",
       "    </tr>\n",
       "  </thead>\n",
       "  <tbody>\n",
       "    <tr>\n",
       "      <th>0</th>\n",
       "      <td>../data/dem\\10n090e_20101117_gmted_med300.tif</td>\n",
       "      <td>10n090e_20101117_gmted_med300.tif</td>\n",
       "      <td>dem</td>\n",
       "      <td>tif</td>\n",
       "      <td>10n090e</td>\n",
       "    </tr>\n",
       "    <tr>\n",
       "      <th>1</th>\n",
       "      <td>../data/dem\\10s090e_20101117_gmted_med300.tif</td>\n",
       "      <td>10s090e_20101117_gmted_med300.tif</td>\n",
       "      <td>dem</td>\n",
       "      <td>tif</td>\n",
       "      <td>10s090e</td>\n",
       "    </tr>\n",
       "  </tbody>\n",
       "</table>\n",
       "</div>"
      ],
      "text/plain": [
       "                                       file_path  \\\n",
       "0  ../data/dem\\10n090e_20101117_gmted_med300.tif   \n",
       "1  ../data/dem\\10s090e_20101117_gmted_med300.tif   \n",
       "\n",
       "                             file_nm folder_nm file_ext  tile_id  \n",
       "0  10n090e_20101117_gmted_med300.tif       dem      tif  10n090e  \n",
       "1  10s090e_20101117_gmted_med300.tif       dem      tif  10s090e  "
      ]
     },
     "execution_count": 3,
     "metadata": {},
     "output_type": "execute_result"
    }
   ],
   "source": [
    "dir_chiangmai_dem = r'../data/chiangmai_dem'\n",
    "io_tools.create_folders(dir_chiangmai_dem)\n",
    "\n",
    "df_list_path_dem = io_tools.get_list_files('../data/dem', '.tif$', return_df=True)\n",
    "df_list_path_dem['tile_id'] = df_list_path_dem['file_nm'].apply(lambda file_nm: file_nm[:7])\n",
    "df_list_path_dem"
   ]
  },
  {
   "cell_type": "code",
   "execution_count": 4,
   "metadata": {},
   "outputs": [
    {
     "name": "stdout",
     "output_type": "stream",
     "text": [
      "../data/df_chiangmai_dem.parquet has been loaded.\n"
     ]
    }
   ],
   "source": [
    "path_chiangmai_dem = r'../data/df_chiangmai_dem.parquet'\n",
    "if not os.path.exists(path_chiangmai_dem):\n",
    "\n",
    "    pbar_dem = tqdm(df_list_path_dem.iterrows(), total=len(df_list_path_dem))\n",
    "\n",
    "    list_df_pixval_dem = []\n",
    "    list_error = []\n",
    "    for _, s_row in pbar_dem:    \n",
    "        tile_id = s_row.tile_id\n",
    "        path_out = os.path.join(dir_chiangmai_dem, f'df_chiangmai_dem-{tile_id}.parquet')\n",
    "        if os.path.exists(path_out):\n",
    "            print(f'{path_out} already exists')\n",
    "            df_pixval_dem = pd.read_parquet(path_out)\n",
    "            list_df_pixval_dem.append(df_pixval_dem)\n",
    "            continue\n",
    "        \n",
    "        pbar_dem.set_description(f'success={len(list_df_pixval_dem)} / error={len(list_error)}')\n",
    "            \n",
    "        #Get CRS of raster image\n",
    "        path_raster = s_row.file_path\n",
    "        with rasterio.open(path_raster) as ds:\n",
    "            crs = ds.crs\n",
    "\n",
    "        #Extract monthly dem\n",
    "        try:\n",
    "            df_pixval_dem = gis_tools.extract_pixval_single_file(\n",
    "                in_s_polygon=gdf_chiangmai_grid.geometry.to_crs(crs),  \n",
    "                in_raster_path=path_raster,  \n",
    "                in_list_out_col_nm=['dem'],  \n",
    "                in_list_target_raster_band_id=[1],  \n",
    "                nodata_val=-28672,             \n",
    "                )            \n",
    "            df_pixval_dem = df_pixval_dem.set_index('grid_id')\n",
    "            del(df_pixval_dem['row'])\n",
    "            del(df_pixval_dem['col'])\n",
    "            df_pixval_dem.loc[:, ] = np.where(df_pixval_dem.loc[:, ].values==-28672, np.nan, df_pixval_dem.loc[:, ].values)\n",
    "            df_pixval_dem.to_parquet(path_out)\n",
    "            list_df_pixval_dem.append(df_pixval_dem)    \n",
    "        except ValueError:\n",
    "            list_error.append(tile_id)\n",
    "        \n",
    "\n",
    "\n",
    "    df_pixval_dem = pd.concat(list_df_pixval_dem)\n",
    "    df_pixval_dem.to_parquet(path_chiangmai_dem)\n",
    "    print(f'{path_chiangmai_dem} has been saved.')\n",
    "    \n",
    "else:\n",
    "    df_pixval_dem = pd.read_parquet(path_chiangmai_dem)\n",
    "    print(f'{path_chiangmai_dem} has been loaded.')\n"
   ]
  },
  {
   "cell_type": "markdown",
   "metadata": {},
   "source": [
    "## Population Count"
   ]
  },
  {
   "cell_type": "code",
   "execution_count": 5,
   "metadata": {},
   "outputs": [
    {
     "name": "stdout",
     "output_type": "stream",
     "text": [
      "Total of 21 files have been listed.\n"
     ]
    },
    {
     "data": {
      "text/html": [
       "<div>\n",
       "<style scoped>\n",
       "    .dataframe tbody tr th:only-of-type {\n",
       "        vertical-align: middle;\n",
       "    }\n",
       "\n",
       "    .dataframe tbody tr th {\n",
       "        vertical-align: top;\n",
       "    }\n",
       "\n",
       "    .dataframe thead th {\n",
       "        text-align: right;\n",
       "    }\n",
       "</style>\n",
       "<table border=\"1\" class=\"dataframe\">\n",
       "  <thead>\n",
       "    <tr style=\"text-align: right;\">\n",
       "      <th></th>\n",
       "      <th>file_path</th>\n",
       "      <th>file_nm</th>\n",
       "      <th>folder_nm</th>\n",
       "      <th>file_ext</th>\n",
       "      <th>year</th>\n",
       "    </tr>\n",
       "  </thead>\n",
       "  <tbody>\n",
       "    <tr>\n",
       "      <th>16</th>\n",
       "      <td>../data/population\\tha_ppp_2016_1km_Aggregated...</td>\n",
       "      <td>tha_ppp_2016_1km_Aggregated_UNadj.tif</td>\n",
       "      <td>population</td>\n",
       "      <td>tif</td>\n",
       "      <td>2016</td>\n",
       "    </tr>\n",
       "    <tr>\n",
       "      <th>10</th>\n",
       "      <td>../data/population\\tha_ppp_2010_1km_Aggregated...</td>\n",
       "      <td>tha_ppp_2010_1km_Aggregated_UNadj.tif</td>\n",
       "      <td>population</td>\n",
       "      <td>tif</td>\n",
       "      <td>2010</td>\n",
       "    </tr>\n",
       "    <tr>\n",
       "      <th>5</th>\n",
       "      <td>../data/population\\tha_ppp_2005_1km_Aggregated...</td>\n",
       "      <td>tha_ppp_2005_1km_Aggregated_UNadj.tif</td>\n",
       "      <td>population</td>\n",
       "      <td>tif</td>\n",
       "      <td>2005</td>\n",
       "    </tr>\n",
       "    <tr>\n",
       "      <th>0</th>\n",
       "      <td>../data/population\\tha_ppp_2000_1km_Aggregated...</td>\n",
       "      <td>tha_ppp_2000_1km_Aggregated_UNadj.tif</td>\n",
       "      <td>population</td>\n",
       "      <td>tif</td>\n",
       "      <td>2000</td>\n",
       "    </tr>\n",
       "    <tr>\n",
       "      <th>12</th>\n",
       "      <td>../data/population\\tha_ppp_2012_1km_Aggregated...</td>\n",
       "      <td>tha_ppp_2012_1km_Aggregated_UNadj.tif</td>\n",
       "      <td>population</td>\n",
       "      <td>tif</td>\n",
       "      <td>2012</td>\n",
       "    </tr>\n",
       "    <tr>\n",
       "      <th>19</th>\n",
       "      <td>../data/population\\tha_ppp_2019_1km_Aggregated...</td>\n",
       "      <td>tha_ppp_2019_1km_Aggregated_UNadj.tif</td>\n",
       "      <td>population</td>\n",
       "      <td>tif</td>\n",
       "      <td>2019</td>\n",
       "    </tr>\n",
       "    <tr>\n",
       "      <th>17</th>\n",
       "      <td>../data/population\\tha_ppp_2017_1km_Aggregated...</td>\n",
       "      <td>tha_ppp_2017_1km_Aggregated_UNadj.tif</td>\n",
       "      <td>population</td>\n",
       "      <td>tif</td>\n",
       "      <td>2017</td>\n",
       "    </tr>\n",
       "    <tr>\n",
       "      <th>4</th>\n",
       "      <td>../data/population\\tha_ppp_2004_1km_Aggregated...</td>\n",
       "      <td>tha_ppp_2004_1km_Aggregated_UNadj.tif</td>\n",
       "      <td>population</td>\n",
       "      <td>tif</td>\n",
       "      <td>2004</td>\n",
       "    </tr>\n",
       "    <tr>\n",
       "      <th>2</th>\n",
       "      <td>../data/population\\tha_ppp_2002_1km_Aggregated...</td>\n",
       "      <td>tha_ppp_2002_1km_Aggregated_UNadj.tif</td>\n",
       "      <td>population</td>\n",
       "      <td>tif</td>\n",
       "      <td>2002</td>\n",
       "    </tr>\n",
       "    <tr>\n",
       "      <th>18</th>\n",
       "      <td>../data/population\\tha_ppp_2018_1km_Aggregated...</td>\n",
       "      <td>tha_ppp_2018_1km_Aggregated_UNadj.tif</td>\n",
       "      <td>population</td>\n",
       "      <td>tif</td>\n",
       "      <td>2018</td>\n",
       "    </tr>\n",
       "    <tr>\n",
       "      <th>14</th>\n",
       "      <td>../data/population\\tha_ppp_2014_1km_Aggregated...</td>\n",
       "      <td>tha_ppp_2014_1km_Aggregated_UNadj.tif</td>\n",
       "      <td>population</td>\n",
       "      <td>tif</td>\n",
       "      <td>2014</td>\n",
       "    </tr>\n",
       "    <tr>\n",
       "      <th>6</th>\n",
       "      <td>../data/population\\tha_ppp_2006_1km_Aggregated...</td>\n",
       "      <td>tha_ppp_2006_1km_Aggregated_UNadj.tif</td>\n",
       "      <td>population</td>\n",
       "      <td>tif</td>\n",
       "      <td>2006</td>\n",
       "    </tr>\n",
       "    <tr>\n",
       "      <th>13</th>\n",
       "      <td>../data/population\\tha_ppp_2013_1km_Aggregated...</td>\n",
       "      <td>tha_ppp_2013_1km_Aggregated_UNadj.tif</td>\n",
       "      <td>population</td>\n",
       "      <td>tif</td>\n",
       "      <td>2013</td>\n",
       "    </tr>\n",
       "    <tr>\n",
       "      <th>11</th>\n",
       "      <td>../data/population\\tha_ppp_2011_1km_Aggregated...</td>\n",
       "      <td>tha_ppp_2011_1km_Aggregated_UNadj.tif</td>\n",
       "      <td>population</td>\n",
       "      <td>tif</td>\n",
       "      <td>2011</td>\n",
       "    </tr>\n",
       "    <tr>\n",
       "      <th>1</th>\n",
       "      <td>../data/population\\tha_ppp_2001_1km_Aggregated...</td>\n",
       "      <td>tha_ppp_2001_1km_Aggregated_UNadj.tif</td>\n",
       "      <td>population</td>\n",
       "      <td>tif</td>\n",
       "      <td>2001</td>\n",
       "    </tr>\n",
       "    <tr>\n",
       "      <th>7</th>\n",
       "      <td>../data/population\\tha_ppp_2007_1km_Aggregated...</td>\n",
       "      <td>tha_ppp_2007_1km_Aggregated_UNadj.tif</td>\n",
       "      <td>population</td>\n",
       "      <td>tif</td>\n",
       "      <td>2007</td>\n",
       "    </tr>\n",
       "    <tr>\n",
       "      <th>8</th>\n",
       "      <td>../data/population\\tha_ppp_2008_1km_Aggregated...</td>\n",
       "      <td>tha_ppp_2008_1km_Aggregated_UNadj.tif</td>\n",
       "      <td>population</td>\n",
       "      <td>tif</td>\n",
       "      <td>2008</td>\n",
       "    </tr>\n",
       "    <tr>\n",
       "      <th>15</th>\n",
       "      <td>../data/population\\tha_ppp_2015_1km_Aggregated...</td>\n",
       "      <td>tha_ppp_2015_1km_Aggregated_UNadj.tif</td>\n",
       "      <td>population</td>\n",
       "      <td>tif</td>\n",
       "      <td>2015</td>\n",
       "    </tr>\n",
       "    <tr>\n",
       "      <th>20</th>\n",
       "      <td>../data/population\\tha_ppp_2020_1km_Aggregated...</td>\n",
       "      <td>tha_ppp_2020_1km_Aggregated_UNadj.tif</td>\n",
       "      <td>population</td>\n",
       "      <td>tif</td>\n",
       "      <td>2020</td>\n",
       "    </tr>\n",
       "    <tr>\n",
       "      <th>3</th>\n",
       "      <td>../data/population\\tha_ppp_2003_1km_Aggregated...</td>\n",
       "      <td>tha_ppp_2003_1km_Aggregated_UNadj.tif</td>\n",
       "      <td>population</td>\n",
       "      <td>tif</td>\n",
       "      <td>2003</td>\n",
       "    </tr>\n",
       "    <tr>\n",
       "      <th>9</th>\n",
       "      <td>../data/population\\tha_ppp_2009_1km_Aggregated...</td>\n",
       "      <td>tha_ppp_2009_1km_Aggregated_UNadj.tif</td>\n",
       "      <td>population</td>\n",
       "      <td>tif</td>\n",
       "      <td>2009</td>\n",
       "    </tr>\n",
       "  </tbody>\n",
       "</table>\n",
       "</div>"
      ],
      "text/plain": [
       "                                            file_path  \\\n",
       "16  ../data/population\\tha_ppp_2016_1km_Aggregated...   \n",
       "10  ../data/population\\tha_ppp_2010_1km_Aggregated...   \n",
       "5   ../data/population\\tha_ppp_2005_1km_Aggregated...   \n",
       "0   ../data/population\\tha_ppp_2000_1km_Aggregated...   \n",
       "12  ../data/population\\tha_ppp_2012_1km_Aggregated...   \n",
       "19  ../data/population\\tha_ppp_2019_1km_Aggregated...   \n",
       "17  ../data/population\\tha_ppp_2017_1km_Aggregated...   \n",
       "4   ../data/population\\tha_ppp_2004_1km_Aggregated...   \n",
       "2   ../data/population\\tha_ppp_2002_1km_Aggregated...   \n",
       "18  ../data/population\\tha_ppp_2018_1km_Aggregated...   \n",
       "14  ../data/population\\tha_ppp_2014_1km_Aggregated...   \n",
       "6   ../data/population\\tha_ppp_2006_1km_Aggregated...   \n",
       "13  ../data/population\\tha_ppp_2013_1km_Aggregated...   \n",
       "11  ../data/population\\tha_ppp_2011_1km_Aggregated...   \n",
       "1   ../data/population\\tha_ppp_2001_1km_Aggregated...   \n",
       "7   ../data/population\\tha_ppp_2007_1km_Aggregated...   \n",
       "8   ../data/population\\tha_ppp_2008_1km_Aggregated...   \n",
       "15  ../data/population\\tha_ppp_2015_1km_Aggregated...   \n",
       "20  ../data/population\\tha_ppp_2020_1km_Aggregated...   \n",
       "3   ../data/population\\tha_ppp_2003_1km_Aggregated...   \n",
       "9   ../data/population\\tha_ppp_2009_1km_Aggregated...   \n",
       "\n",
       "                                  file_nm   folder_nm file_ext  year  \n",
       "16  tha_ppp_2016_1km_Aggregated_UNadj.tif  population      tif  2016  \n",
       "10  tha_ppp_2010_1km_Aggregated_UNadj.tif  population      tif  2010  \n",
       "5   tha_ppp_2005_1km_Aggregated_UNadj.tif  population      tif  2005  \n",
       "0   tha_ppp_2000_1km_Aggregated_UNadj.tif  population      tif  2000  \n",
       "12  tha_ppp_2012_1km_Aggregated_UNadj.tif  population      tif  2012  \n",
       "19  tha_ppp_2019_1km_Aggregated_UNadj.tif  population      tif  2019  \n",
       "17  tha_ppp_2017_1km_Aggregated_UNadj.tif  population      tif  2017  \n",
       "4   tha_ppp_2004_1km_Aggregated_UNadj.tif  population      tif  2004  \n",
       "2   tha_ppp_2002_1km_Aggregated_UNadj.tif  population      tif  2002  \n",
       "18  tha_ppp_2018_1km_Aggregated_UNadj.tif  population      tif  2018  \n",
       "14  tha_ppp_2014_1km_Aggregated_UNadj.tif  population      tif  2014  \n",
       "6   tha_ppp_2006_1km_Aggregated_UNadj.tif  population      tif  2006  \n",
       "13  tha_ppp_2013_1km_Aggregated_UNadj.tif  population      tif  2013  \n",
       "11  tha_ppp_2011_1km_Aggregated_UNadj.tif  population      tif  2011  \n",
       "1   tha_ppp_2001_1km_Aggregated_UNadj.tif  population      tif  2001  \n",
       "7   tha_ppp_2007_1km_Aggregated_UNadj.tif  population      tif  2007  \n",
       "8   tha_ppp_2008_1km_Aggregated_UNadj.tif  population      tif  2008  \n",
       "15  tha_ppp_2015_1km_Aggregated_UNadj.tif  population      tif  2015  \n",
       "20  tha_ppp_2020_1km_Aggregated_UNadj.tif  population      tif  2020  \n",
       "3   tha_ppp_2003_1km_Aggregated_UNadj.tif  population      tif  2003  \n",
       "9   tha_ppp_2009_1km_Aggregated_UNadj.tif  population      tif  2009  "
      ]
     },
     "execution_count": 5,
     "metadata": {},
     "output_type": "execute_result"
    }
   ],
   "source": [
    "dir_chiangmai_population = r'../data/chiangmai_population'\n",
    "df_list_path_population = io_tools.get_list_files('../data/population', '.tif$', return_df=True)\n",
    "df_list_path_population['year'] = df_list_path_population['file_nm'].str.slice(8, 12)\n",
    "df_list_path_population = df_list_path_population.sample(frac=1.0)\n",
    "df_list_path_population"
   ]
  },
  {
   "cell_type": "code",
   "execution_count": 6,
   "metadata": {},
   "outputs": [
    {
     "data": {
      "application/vnd.jupyter.widget-view+json": {
       "model_id": "9c3648e420c44b8a8638f3a86761eec7",
       "version_major": 2,
       "version_minor": 0
      },
      "text/plain": [
       "year:   0%|          | 0/21 [00:00<?, ?it/s]"
      ]
     },
     "metadata": {},
     "output_type": "display_data"
    },
    {
     "name": "stdout",
     "output_type": "stream",
     "text": [
      "/tmp\\c93330d428f14174a823508f8fd61474\\rowcol_map_tha_ppp_2016_1km_Aggregated_UNadj.tif has been created\n"
     ]
    },
    {
     "data": {
      "application/vnd.jupyter.widget-view+json": {
       "model_id": "dbaeaa71d9254081ae000198d089477f",
       "version_major": 2,
       "version_minor": 0
      },
      "text/plain": [
       "Getting row&col of pixels...:   0%|          | 0/24197 [00:00<?, ?it/s]"
      ]
     },
     "metadata": {},
     "output_type": "display_data"
    },
    {
     "name": "stderr",
     "output_type": "stream",
     "text": [
      "c:\\Users\\surasakc\\Miniconda3\\envs\\crop_tl_20230811\\lib\\site-packages\\numba\\core\\ir_utils.py:2149: NumbaPendingDeprecationWarning: \u001b[1m\n",
      "Encountered the use of a type that is scheduled for deprecation: type 'reflected list' found for argument 'in_list_arr_row_col' of function '__reformat_list_row_col_for_df'.\n",
      "\n",
      "For more information visit https://numba.readthedocs.io/en/stable/reference/deprecation.html#deprecation-of-reflection-for-list-and-set-types\n",
      "\u001b[1m\n",
      "File \"..\\..\\..\\..\\..\\..\\Miniconda3\\envs\\crop_tl_20230811\\lib\\site-packages\\zkyhaxpy\\gis_tools.py\", line 838:\u001b[0m\n",
      "\u001b[1m@jit(nopython=True)\n",
      "\u001b[1mdef __reformat_list_row_col_for_df(in_list_polygon_id, in_list_arr_row_col):\n",
      "\u001b[0m\u001b[1m^\u001b[0m\u001b[0m\n",
      "\u001b[0m\n",
      "  warnings.warn(NumbaPendingDeprecationWarning(msg, loc=loc))\n",
      "c:\\Users\\surasakc\\Miniconda3\\envs\\crop_tl_20230811\\lib\\site-packages\\numba\\core\\ir_utils.py:2149: NumbaPendingDeprecationWarning: \u001b[1m\n",
      "Encountered the use of a type that is scheduled for deprecation: type 'reflected list' found for argument 'in_list_polygon_id' of function '__reformat_list_row_col_for_df'.\n",
      "\n",
      "For more information visit https://numba.readthedocs.io/en/stable/reference/deprecation.html#deprecation-of-reflection-for-list-and-set-types\n",
      "\u001b[1m\n",
      "File \"..\\..\\..\\..\\..\\..\\Miniconda3\\envs\\crop_tl_20230811\\lib\\site-packages\\zkyhaxpy\\gis_tools.py\", line 838:\u001b[0m\n",
      "\u001b[1m@jit(nopython=True)\n",
      "\u001b[1mdef __reformat_list_row_col_for_df(in_list_polygon_id, in_list_arr_row_col):\n",
      "\u001b[0m\u001b[1m^\u001b[0m\u001b[0m\n",
      "\u001b[0m\n",
      "  warnings.warn(NumbaPendingDeprecationWarning(msg, loc=loc))\n"
     ]
    },
    {
     "data": {
      "application/vnd.jupyter.widget-view+json": {
       "model_id": "9feba19b422d4f9cbc095d19e4c1d098",
       "version_major": 2,
       "version_minor": 0
      },
      "text/plain": [
       "Getting pixel values...:   0%|          | 0/1 [00:00<?, ?it/s]"
      ]
     },
     "metadata": {},
     "output_type": "display_data"
    },
    {
     "name": "stdout",
     "output_type": "stream",
     "text": [
      "/tmp\\03bc975e1b2f400fb07eb35fae686d0a\\rowcol_map_tha_ppp_2012_1km_Aggregated_UNadj.tif has been created\n"
     ]
    },
    {
     "data": {
      "application/vnd.jupyter.widget-view+json": {
       "model_id": "41d1221e53144e0a86c87e7904ddbff0",
       "version_major": 2,
       "version_minor": 0
      },
      "text/plain": [
       "Getting row&col of pixels...:   0%|          | 0/24197 [00:00<?, ?it/s]"
      ]
     },
     "metadata": {},
     "output_type": "display_data"
    },
    {
     "data": {
      "application/vnd.jupyter.widget-view+json": {
       "model_id": "801ec87167fd4025b24e5ed8f07a80cc",
       "version_major": 2,
       "version_minor": 0
      },
      "text/plain": [
       "Getting pixel values...:   0%|          | 0/1 [00:00<?, ?it/s]"
      ]
     },
     "metadata": {},
     "output_type": "display_data"
    },
    {
     "name": "stdout",
     "output_type": "stream",
     "text": [
      "/tmp\\689eac80e5474dbdac5fef1cbcf03c70\\rowcol_map_tha_ppp_2017_1km_Aggregated_UNadj.tif has been created\n"
     ]
    },
    {
     "data": {
      "application/vnd.jupyter.widget-view+json": {
       "model_id": "19df0b500a284c2cb6c3378c4a5afdcd",
       "version_major": 2,
       "version_minor": 0
      },
      "text/plain": [
       "Getting row&col of pixels...:   0%|          | 0/24197 [00:00<?, ?it/s]"
      ]
     },
     "metadata": {},
     "output_type": "display_data"
    },
    {
     "data": {
      "application/vnd.jupyter.widget-view+json": {
       "model_id": "9de8b6f5e6454c07b276dc9d9437e752",
       "version_major": 2,
       "version_minor": 0
      },
      "text/plain": [
       "Getting pixel values...:   0%|          | 0/1 [00:00<?, ?it/s]"
      ]
     },
     "metadata": {},
     "output_type": "display_data"
    },
    {
     "name": "stdout",
     "output_type": "stream",
     "text": [
      "/tmp\\9f835d86a67a4dd0b0cc568ca8782788\\rowcol_map_tha_ppp_2018_1km_Aggregated_UNadj.tif has been created\n"
     ]
    },
    {
     "data": {
      "application/vnd.jupyter.widget-view+json": {
       "model_id": "665a6228b8794deeb9e5c0d8aa609436",
       "version_major": 2,
       "version_minor": 0
      },
      "text/plain": [
       "Getting row&col of pixels...:   0%|          | 0/24197 [00:00<?, ?it/s]"
      ]
     },
     "metadata": {},
     "output_type": "display_data"
    },
    {
     "data": {
      "application/vnd.jupyter.widget-view+json": {
       "model_id": "1a6758354d0f4b38818f4f1e25ef5140",
       "version_major": 2,
       "version_minor": 0
      },
      "text/plain": [
       "Getting pixel values...:   0%|          | 0/1 [00:00<?, ?it/s]"
      ]
     },
     "metadata": {},
     "output_type": "display_data"
    },
    {
     "name": "stdout",
     "output_type": "stream",
     "text": [
      "/tmp\\4d524c2aebba48cab025006989c38505\\rowcol_map_tha_ppp_2007_1km_Aggregated_UNadj.tif has been created\n"
     ]
    },
    {
     "data": {
      "application/vnd.jupyter.widget-view+json": {
       "model_id": "6767bcf426394e49b206e68f42e463b9",
       "version_major": 2,
       "version_minor": 0
      },
      "text/plain": [
       "Getting row&col of pixels...:   0%|          | 0/24197 [00:00<?, ?it/s]"
      ]
     },
     "metadata": {},
     "output_type": "display_data"
    },
    {
     "data": {
      "application/vnd.jupyter.widget-view+json": {
       "model_id": "64dd53bb7b214c87a7f45b7d7a84544d",
       "version_major": 2,
       "version_minor": 0
      },
      "text/plain": [
       "Getting pixel values...:   0%|          | 0/1 [00:00<?, ?it/s]"
      ]
     },
     "metadata": {},
     "output_type": "display_data"
    },
    {
     "name": "stdout",
     "output_type": "stream",
     "text": [
      "/tmp\\62bea93f55a64e4195a1267acdc9817d\\rowcol_map_tha_ppp_2009_1km_Aggregated_UNadj.tif has been created\n"
     ]
    },
    {
     "data": {
      "application/vnd.jupyter.widget-view+json": {
       "model_id": "1b18b978e2114546972dadcbca3defb8",
       "version_major": 2,
       "version_minor": 0
      },
      "text/plain": [
       "Getting row&col of pixels...:   0%|          | 0/24197 [00:00<?, ?it/s]"
      ]
     },
     "metadata": {},
     "output_type": "display_data"
    },
    {
     "data": {
      "application/vnd.jupyter.widget-view+json": {
       "model_id": "1b75dfdb2e634a16b95188dfa43a7cea",
       "version_major": 2,
       "version_minor": 0
      },
      "text/plain": [
       "Getting pixel values...:   0%|          | 0/1 [00:00<?, ?it/s]"
      ]
     },
     "metadata": {},
     "output_type": "display_data"
    }
   ],
   "source": [
    "pbar_year = tqdm(df_list_path_population.iterrows(), 'year', total=len(df_list_path_population))\n",
    "for _, s_row in pbar_year:\n",
    "    year = s_row.year\n",
    "    pbar_year.set_description(year)\n",
    "    path_out = fr'../data/chiangmai_population/df_chiangmai_population-{year}.parquet'\n",
    "    if not os.path.exists(path_out):        \n",
    "            \n",
    "        #Get CRS of raster image\n",
    "        path_raster = s_row.file_path\n",
    "        with rasterio.open(path_raster) as ds:\n",
    "            crs = ds.crs\n",
    "\n",
    "        #Extract monthly population\n",
    "        try:\n",
    "            df_pixval_population = gis_tools.extract_pixval_single_file(\n",
    "                in_s_polygon=gdf_chiangmai_grid.geometry.to_crs(crs),  \n",
    "                in_raster_path=path_raster,  \n",
    "                in_list_out_col_nm=['population'],  \n",
    "                in_list_target_raster_band_id=[1],  \n",
    "                nodata_val=-28672,             \n",
    "                )            \n",
    "            df_pixval_population = df_pixval_population.set_index('grid_id')\n",
    "            del(df_pixval_population['row'])\n",
    "            del(df_pixval_population['col'])\n",
    "            df_pixval_population.loc[:, ] = np.where(df_pixval_population.loc[:, ].values==-28672, np.nan, df_pixval_population.loc[:, ].values)\n",
    "            io_tools.create_folders(path_out)\n",
    "            df_pixval_population.to_parquet(path_out)                \n",
    "        except ValueError:\n",
    "            list_error.append(tile_id)\n",
    "\n"
   ]
  },
  {
   "cell_type": "markdown",
   "metadata": {},
   "source": [
    "## AOD"
   ]
  },
  {
   "cell_type": "code",
   "execution_count": 7,
   "metadata": {},
   "outputs": [
    {
     "name": "stdout",
     "output_type": "stream",
     "text": [
      "Total of 0 files have been listed.\n"
     ]
    },
    {
     "data": {
      "text/html": [
       "<div>\n",
       "<style scoped>\n",
       "    .dataframe tbody tr th:only-of-type {\n",
       "        vertical-align: middle;\n",
       "    }\n",
       "\n",
       "    .dataframe tbody tr th {\n",
       "        vertical-align: top;\n",
       "    }\n",
       "\n",
       "    .dataframe thead th {\n",
       "        text-align: right;\n",
       "    }\n",
       "</style>\n",
       "<table border=\"1\" class=\"dataframe\">\n",
       "  <thead>\n",
       "    <tr style=\"text-align: right;\">\n",
       "      <th></th>\n",
       "      <th>file_path</th>\n",
       "      <th>file_nm</th>\n",
       "      <th>folder_nm</th>\n",
       "      <th>file_ext</th>\n",
       "      <th>year</th>\n",
       "      <th>date</th>\n",
       "      <th>year_month</th>\n",
       "      <th>datetime</th>\n",
       "      <th>tile_id</th>\n",
       "    </tr>\n",
       "  </thead>\n",
       "  <tbody>\n",
       "  </tbody>\n",
       "</table>\n",
       "</div>"
      ],
      "text/plain": [
       "Empty DataFrame\n",
       "Columns: [file_path, file_nm, folder_nm, file_ext, year, date, year_month, datetime, tile_id]\n",
       "Index: []"
      ]
     },
     "execution_count": 7,
     "metadata": {},
     "output_type": "execute_result"
    }
   ],
   "source": [
    "dir_chiangmai_aod_daily = r'../data/chiangmai_aod_daily'\n",
    "io_tools.create_folders(dir_chiangmai_aod_daily)\n",
    "\n",
    "df_list_path_aod = io_tools.get_list_files('../../../data/aod/translated', '.tif$', return_df=True)\n",
    "df_list_path_aod['year'] = df_list_path_aod['folder_nm'].astype(int)\n",
    "df_list_path_aod['date'] = df_list_path_aod['file_nm'].str.slice(8, 18)\n",
    "df_list_path_aod['year_month'] = df_list_path_aod['file_nm'].str.slice(8, 15)\n",
    "df_list_path_aod['datetime'] = df_list_path_aod['file_nm'].str.slice(8, 23)\n",
    "df_list_path_aod['tile_id'] = df_list_path_aod['file_path'].apply(lambda file_path: file_path.split('\\\\')[-3])\n",
    "df_list_path_aod"
   ]
  },
  {
   "cell_type": "code",
   "execution_count": null,
   "metadata": {},
   "outputs": [],
   "source": []
  },
  {
   "cell_type": "code",
   "execution_count": 8,
   "metadata": {},
   "outputs": [
    {
     "data": {
      "application/vnd.jupyter.widget-view+json": {
       "model_id": "927e1eb23e1f46f68575c904e345be36",
       "version_major": 2,
       "version_minor": 0
      },
      "text/plain": [
       "0it [00:00, ?it/s]"
      ]
     },
     "metadata": {},
     "output_type": "display_data"
    }
   ],
   "source": [
    "YEAR_START_PREDICT = 2000\n",
    "# list_tile_id = ['h27v07', 'h27v08', 'h28v07', 'h28v08']\n",
    "list_tile_id = ['h27v07', 'h27v06']\n",
    "\n",
    "df_list_path_aod_curr = df_list_path_aod[(df_list_path_aod['year']>=YEAR_START_PREDICT) & (df_list_path_aod['tile_id'].isin(list_tile_id))].copy()\n",
    "df_list_path_aod_curr = df_list_path_aod_curr.sample(frac=1.0)\n",
    "\n",
    "pbar_aod_year_month = tqdm(df_list_path_aod_curr.groupby(['tile_id', 'year_month'], sort=False))\n",
    "\n",
    "list_df_pixval_aod_daily = []\n",
    "list_error = []\n",
    "for (tile_id, year_month), df_list_path_aod_tile_year_month in pbar_aod_year_month:    \n",
    "    path_out = os.path.join(dir_chiangmai_aod_daily, f'df_chiangmai_aod_daily-{year_month}-{tile_id}.parquet')\n",
    "    if os.path.exists(path_out):\n",
    "        print(f'{path_out} already exists')\n",
    "        df_pixval_aod_daily = pd.read_parquet(path_out)\n",
    "        list_df_pixval_aod_daily.append(df_pixval_aod_daily)\n",
    "        continue\n",
    "    \n",
    "    pbar_aod_year_month.set_description(f'success={len(list_df_pixval_aod_daily)} / error={len(list_error)}')\n",
    "    #Prepare list of columns and raster paths\n",
    "    list_out_col = df_list_path_aod_tile_year_month['datetime'].to_list()\n",
    "    list_path_raster = df_list_path_aod_tile_year_month['file_path'].to_list()\n",
    "\n",
    "    #Get CRS of raster image\n",
    "    path_raster_tmp = list_path_raster[0]\n",
    "    with rasterio.open(path_raster_tmp) as ds:\n",
    "        crs = ds.crs\n",
    "\n",
    "    #Extract monthly AOD\n",
    "    try:\n",
    "        df_pixval_aod = gis_tools.extract_pixval_multi_files(    \n",
    "            in_s_polygon=gdf_chiangmai_grid.geometry.to_crs(crs),  \n",
    "            in_list_raster_path=list_path_raster,  \n",
    "            in_list_out_col_nm=list_out_col,  \n",
    "            in_target_raster_band_id=1,  \n",
    "            nodata_val=-28672,  \n",
    "            check_raster_consistent=True, \n",
    "            )\n",
    "        \n",
    "        df_pixval_aod = df_pixval_aod.set_index('grid_id')\n",
    "        del(df_pixval_aod['row'])\n",
    "        del(df_pixval_aod['col'])\n",
    "        df_pixval_aod.loc[:, ] = np.where(df_pixval_aod.loc[:, ].values==-28672, np.nan, df_pixval_aod.loc[:, ].values)\n",
    "\n",
    "        #Aggregate into daily data\n",
    "        df_pixval_aod_daily = pd.DataFrame(index=df_pixval_aod.index)\n",
    "        df_pixval_aod_daily['year_month'] = year_month\n",
    "        df_pixval_aod_daily['tile_id'] = tile_id\n",
    "        list_date = [datetime[:10] for datetime in df_pixval_aod.columns]\n",
    "        list_date = sorted(set(list_date))\n",
    "\n",
    "        for date in list_date:\n",
    "            list_col_curr = [col for col in df_pixval_aod.columns if col.startswith(date)]\n",
    "            df_pixval_aod_daily[date] = np.nanmedian(df_pixval_aod.loc[:, list_col_curr].values, axis=1)\n",
    "        df_pixval_aod_daily.to_parquet(path_out)\n",
    "        list_df_pixval_aod_daily.append(df_pixval_aod_daily)\n",
    "    except ValueError:\n",
    "        list_error.append((tile_id, year_month))\n",
    "    except RasterioIOError:\n",
    "        list_error.append((tile_id, year_month))\n",
    "\n",
    "\n"
   ]
  },
  {
   "cell_type": "code",
   "execution_count": 9,
   "metadata": {},
   "outputs": [
    {
     "ename": "NameError",
     "evalue": "name 'path_chiangmai_population' is not defined",
     "output_type": "error",
     "traceback": [
      "\u001b[1;31m---------------------------------------------------------------------------\u001b[0m",
      "\u001b[1;31mNameError\u001b[0m                                 Traceback (most recent call last)",
      "Cell \u001b[1;32mIn[9], line 1\u001b[0m\n\u001b[1;32m----> 1\u001b[0m io_tools\u001b[38;5;241m.\u001b[39mcreate_folders(\u001b[43mpath_chiangmai_population\u001b[49m)\n\u001b[0;32m      2\u001b[0m df_pixval_population\u001b[38;5;241m.\u001b[39mto_parquet(path_chiangmai_population)\n\u001b[0;32m      3\u001b[0m \u001b[38;5;28mprint\u001b[39m(\u001b[38;5;124mf\u001b[39m\u001b[38;5;124m'\u001b[39m\u001b[38;5;132;01m{\u001b[39;00mpath_chiangmai_population\u001b[38;5;132;01m}\u001b[39;00m\u001b[38;5;124m has been saved.\u001b[39m\u001b[38;5;124m'\u001b[39m)\n",
      "\u001b[1;31mNameError\u001b[0m: name 'path_chiangmai_population' is not defined"
     ]
    }
   ],
   "source": []
  }
 ],
 "metadata": {
  "kernelspec": {
   "display_name": "base",
   "language": "python",
   "name": "python3"
  },
  "language_info": {
   "codemirror_mode": {
    "name": "ipython",
    "version": 3
   },
   "file_extension": ".py",
   "mimetype": "text/x-python",
   "name": "python",
   "nbconvert_exporter": "python",
   "pygments_lexer": "ipython3",
   "version": "3.8.16"
  }
 },
 "nbformat": 4,
 "nbformat_minor": 2
}
