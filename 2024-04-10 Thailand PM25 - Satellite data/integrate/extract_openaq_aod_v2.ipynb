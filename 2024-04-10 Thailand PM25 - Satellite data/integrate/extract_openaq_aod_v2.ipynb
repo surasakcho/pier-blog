{
 "cells": [
  {
   "cell_type": "markdown",
   "metadata": {},
   "source": [
    "# Extract AOD for each OpenAQ measurement"
   ]
  },
  {
   "cell_type": "markdown",
   "metadata": {},
   "source": [
    "## Import library"
   ]
  },
  {
   "cell_type": "code",
   "execution_count": null,
   "metadata": {},
   "outputs": [],
   "source": [
    "import numpy as np\n",
    "import pandas as pd\n",
    "import geopandas as gpd\n",
    "import rasterio\n",
    "import requests\n",
    "from pprint import pp\n",
    "from tqdm.notebook import tqdm\n",
    "import requests\n",
    "import time\n",
    "from zkyhaxpy import io_tools, pd_tools, gis_tools\n",
    "from datetime import datetime, timedelta\n",
    "import os\n",
    "import json\n",
    "import ast"
   ]
  },
  {
   "cell_type": "markdown",
   "metadata": {},
   "source": [
    "## Prepare GeoDataframe of OpenAQ data"
   ]
  },
  {
   "cell_type": "code",
   "execution_count": null,
   "metadata": {},
   "outputs": [],
   "source": []
  },
  {
   "cell_type": "code",
   "execution_count": null,
   "metadata": {},
   "outputs": [],
   "source": []
  },
  {
   "cell_type": "code",
   "execution_count": null,
   "metadata": {},
   "outputs": [],
   "source": []
  },
  {
   "cell_type": "code",
   "execution_count": null,
   "metadata": {},
   "outputs": [],
   "source": []
  },
  {
   "cell_type": "code",
   "execution_count": null,
   "metadata": {},
   "outputs": [],
   "source": [
    "if not os.path.exists('../data/gdf_openaq_chiangmai_by_location.gpkg'):\n",
    "    dir_data = r'../data'\n",
    "    dir_openaq_chiangmai = os.path.join(dir_data, 'openaq', 'chiangmai_by_location')\n",
    "    list_files = io_tools.get_list_files_re(dir_openaq_chiangmai)\n",
    "    df_openaq = pd.concat([pd.read_csv(path_file) for path_file in list_files])\n",
    "    \n",
    "    \n",
    "    df_openaq['datetime'] = df_openaq['date'].str.slice(9, 25)\n",
    "    df_openaq['date'] = df_openaq['datetime'].str.slice(0, 10)\n",
    "    df_openaq['year'] = df_openaq['date'].str.slice(0, 4)\n",
    "    df_openaq['month'] = df_openaq['date'].str.slice(6, 8)\n",
    "    df_openaq['year_month'] = df_openaq['date'].str.slice(0, 8)\n",
    "    df_openaq['time'] = df_openaq['datetime'].str.slice(11, 17)\n",
    "    df_openaq['lat'] = df_openaq['coordinates'].apply(lambda coord: ast.literal_eval(coord)['latitude'])\n",
    "    df_openaq['lon'] = df_openaq['coordinates'].apply(lambda coord: ast.literal_eval(coord)['longitude'])\n",
    "    df_openaq = df_openaq.reset_index()\n",
    "    del(df_openaq['index'])\n",
    "    del(df_openaq['coordinates'])\n",
    "\n",
    "    df_openaq['measurement_id'] = df_openaq.index\n",
    "    df_openaq.index.name = 'measurement_id'\n",
    "\n",
    "    df_openaq['geometry'] = 'POINT (' + df_openaq['lon'].astype(str) + ' ' + df_openaq['lat'].astype(str) + ')'\n",
    "    \n",
    "    gdf_openaq = gis_tools.df_to_gdf(df_openaq, 'geometry')\n",
    "\n",
    "    gdf_openaq = gdf_openaq.set_index('measurement_id')\n",
    "    gdf_openaq.to_file('../data/gdf_openaq_chiangmai_by_location.gpkg')\n",
    "    print('gdf_openaq has been saved.')\n",
    "else:\n",
    "    gdf_openaq = gpd.read_file('../data/gdf_openaq_chiangmai_by_location.gpkg')\n",
    "    print('gdf_openaq has been loaded.')\n",
    "if gdf_openaq.index.name is None:\n",
    "    gdf_openaq = gdf_openaq.set_index('measurement_id')"
   ]
  },
  {
   "cell_type": "code",
   "execution_count": null,
   "metadata": {},
   "outputs": [],
   "source": [
    "gdf_openaq.datetime = gdf_openaq.datetime.astype('datetime64[ns]')"
   ]
  },
  {
   "cell_type": "code",
   "execution_count": null,
   "metadata": {},
   "outputs": [],
   "source": [
    "dir_extracted_aod_root = r'../../../data/aod/translated/aod_055'\n",
    "df_files_aod = io_tools.get_list_files(dir_extracted_aod_root, '.tif$', return_df=True)\n",
    "df_tmp = df_files_aod['file_path'].str.split('\\\\', expand=True)\n",
    "df_files_aod['tile_id'] = df_tmp[df_tmp.columns[-3]]\n",
    "df_files_aod['date'] = df_files_aod['file_nm'].str.slice(8, 18)\n",
    "df_files_aod['time'] = df_files_aod['file_nm'].str.slice(19, 21) + ':' + df_files_aod['file_nm'].str.slice(21, 23)\n",
    "df_files_aod['datetime'] = df_files_aod['date'] + 'T' + df_files_aod['time'] + ':00+00:00'\n",
    "df_files_aod['datetime'] = df_files_aod['datetime'].apply(lambda datetime: pd.Timestamp(datetime).tz_convert(\"UTC\"))\n",
    "df_files_aod['year'] = df_files_aod['datetime'].dt.year\n",
    "df_files_aod"
   ]
  },
  {
   "cell_type": "code",
   "execution_count": null,
   "metadata": {},
   "outputs": [],
   "source": [
    "#Filter only image covering Thailand and time matched with OpenAQ data\n",
    "list_tile_id = ['h27v07', 'h27v08', 'h28v07', 'h28v08']\n",
    "df_files_aod = df_files_aod[df_files_aod['tile_id'].isin(list_tile_id)]\n",
    "df_files_aod = df_files_aod[df_files_aod['year'] >= 2021]\n",
    "df_files_aod"
   ]
  },
  {
   "cell_type": "code",
   "execution_count": null,
   "metadata": {},
   "outputs": [],
   "source": [
    "s_row.datetime - timedelta(hours=MAX_DIFF_HOURS)"
   ]
  },
  {
   "cell_type": "code",
   "execution_count": null,
   "metadata": {},
   "outputs": [],
   "source": [
    "min_datetime = np.datetime64(s_row.datetime - timedelta(hours=MAX_DIFF_HOURS)a)\n",
    "min_datetime"
   ]
  },
  {
   "cell_type": "code",
   "execution_count": null,
   "metadata": {},
   "outputs": [],
   "source": [
    "MAX_DIFF_HOURS = 1\n",
    "list_df_extracted_aod055 = []\n",
    "list_error = []\n",
    "df_files_aod = df_files_aod.sample(frac=1.0)\n",
    "pbar = tqdm(df_files_aod.iterrows(), total=len(df_files_aod))\n",
    "for s_idx, s_row in pbar:\n",
    "    \n",
    "    min_datetime = np.datetime64(s_row.datetime - timedelta(hours=MAX_DIFF_HOURS))\n",
    "    max_datetime = np.datetime64(s_row.datetime + timedelta(hours=MAX_DIFF_HOURS))\n",
    "    gdf_openaq_tmp = gdf_openaq.copy()\n",
    "    gdf_openaq_tmp = gdf_openaq_tmp[gdf_openaq_tmp.datetime.between(min_datetime, max_datetime)]\n",
    "    gdf_openaq_tmp = gdf_openaq_tmp[gdf_openaq_tmp.datetime.between(min_datetime, max_datetime)]\n",
    "    \n",
    "    with rasterio.open(s_row.file_path) as ds:\n",
    "        crs_aod = ds.crs\n",
    "        \n",
    "    if len(gdf_openaq_tmp) > 0:\n",
    "        try:\n",
    "            df_extracted_aod055_curr = gis_tools.extract_pixval_single_file(\n",
    "                in_s_polygon=gdf_openaq_tmp['geometry'].to_crs(crs_aod),\n",
    "                in_raster_path=s_row.file_path,\n",
    "                in_list_out_col_nm=['aod_055'],\n",
    "                in_list_target_raster_band_id=[1],\n",
    "                nodata_val=-28672\n",
    "                )\n",
    "            df_extracted_aod055_curr['tile_id'] = s_row.tile_id\n",
    "            df_extracted_aod055_curr['aod_datetime'] = s_row.datetime\n",
    "            list_df_extracted_aod055.append(df_extracted_aod055_curr)            \n",
    "        except ValueError:\n",
    "            list_error.append({\n",
    "                'gdf_openaq_tmp':gdf_openaq_tmp,\n",
    "                'raster_path':s_row.file_path\n",
    "            })\n",
    "\n",
    "    pbar.set_description(f'success={len(list_df_extracted_aod055)} / error={len(list_error)} ')\n",
    "    "
   ]
  },
  {
   "cell_type": "code",
   "execution_count": null,
   "metadata": {},
   "outputs": [],
   "source": [
    "df_extracted_aod055 = pd.concat(list_df_extracted_aod055)\n",
    "df_extracted_aod055.to_csv(r'../data/df_extracted_openaq_aod055_v2.csv', index=False)"
   ]
  },
  {
   "cell_type": "code",
   "execution_count": null,
   "metadata": {},
   "outputs": [],
   "source": [
    "(df_extracted_aod055['aod_055']==-28672).mean()"
   ]
  }
 ],
 "metadata": {
  "kernelspec": {
   "display_name": "base",
   "language": "python",
   "name": "python3"
  },
  "language_info": {
   "codemirror_mode": {
    "name": "ipython",
    "version": 3
   },
   "file_extension": ".py",
   "mimetype": "text/x-python",
   "name": "python",
   "nbconvert_exporter": "python",
   "pygments_lexer": "ipython3",
   "version": "3.11.7"
  }
 },
 "nbformat": 4,
 "nbformat_minor": 2
}
