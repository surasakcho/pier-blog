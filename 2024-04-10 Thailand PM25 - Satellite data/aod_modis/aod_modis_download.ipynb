{
 "cells": [
  {
   "cell_type": "code",
   "execution_count": null,
   "metadata": {},
   "outputs": [],
   "source": [
    "\n",
    "earthaccess.login()"
   ]
  },
  {
   "cell_type": "code",
   "execution_count": 2,
   "metadata": {},
   "outputs": [
    {
     "name": "stdout",
     "output_type": "stream",
     "text": [
      "2003-02 2003-03\n",
      "2003-02-01 00:00:00 2003-02-28 00:00:00\n",
      "Granules found: 216\n",
      " Getting 216 granules, approx download size: 1.62 GB\n"
     ]
    },
    {
     "data": {
      "application/vnd.jupyter.widget-view+json": {
       "model_id": "14507bee543846eea8cf1f09aaa7b1c2",
       "version_major": 2,
       "version_minor": 0
      },
      "text/plain": [
       "QUEUEING TASKS | :   0%|          | 0/216 [00:00<?, ?it/s]"
      ]
     },
     "metadata": {},
     "output_type": "display_data"
    },
    {
     "name": "stdout",
     "output_type": "stream",
     "text": [
      "File MCD19A2.A2003032.h28v06.061.2022235040819.hdf already downloaded\n",
      "File MCD19A2.A2003032.h28v07.061.2022235032238.hdf already downloaded\n",
      "File MCD19A2.A2003032.h27v07.061.2022235040338.hdf already downloaded\n",
      "File MCD19A2.A2003032.h26v06.061.2022235053309.hdf already downloaded\n",
      "File MCD19A2.A2003032.h27v08.061.2022235031831.hdf already downloaded\n",
      "File MCD19A2.A2003032.h27v06.061.2022235044620.hdf already downloaded\n",
      "File MCD19A2.A2003032.h26v07.061.2022235031932.hdf already downloaded\n",
      "File MCD19A2.A2003033.h28v06.061.2022235042043.hdf already downloaded\n",
      "File MCD19A2.A2003033.h27v06.061.2022235045938.hdf already downloaded\n",
      "File MCD19A2.A2003033.h28v07.061.2022235033439.hdf already downloaded\n",
      "File MCD19A2.A2003033.h27v07.061.2022235041909.hdf already downloaded\n",
      "File MCD19A2.A2003033.h26v06.061.2022235054748.hdf already downloaded\n",
      "File MCD19A2.A2003033.h28v08.061.2022235033309.hdf already downloaded\n",
      "File MCD19A2.A2003033.h27v08.061.2022235033218.hdf already downloaded\n",
      "File MCD19A2.A2003033.h26v07.061.2022235033351.hdf already downloaded\n",
      "File MCD19A2.A2003034.h28v07.061.2022235034754.hdf already downloaded\n",
      "File MCD19A2.A2003034.h28v06.061.2022235043316.hdf already downloaded\n",
      "File MCD19A2.A2003034.h27v06.061.2022235051453.hdf already downloaded\n",
      "File MCD19A2.A2003034.h26v06.061.2022235060142.hdf already downloaded\n",
      "File MCD19A2.A2003034.h26v07.061.2022235034610.hdf already downloaded\n",
      "File MCD19A2.A2003034.h27v08.061.2022235034645.hdf already downloaded\n",
      "File MCD19A2.A2003034.h27v07.061.2022235043352.hdf already downloaded\n",
      "File MCD19A2.A2003034.h28v08.061.2022235034550.hdf already downloaded\n",
      "File MCD19A2.A2003035.h27v06.061.2022235052850.hdf already downloaded\n",
      "File MCD19A2.A2003035.h28v06.061.2022235044357.hdf already downloaded\n",
      "File MCD19A2.A2003035.h28v07.061.2022235040234.hdf already downloaded\n",
      "File MCD19A2.A2003035.h26v07.061.2022235040255.hdf already downloaded\n",
      "File MCD19A2.A2003036.h28v06.061.2022235045544.hdf already downloaded\n",
      "File MCD19A2.A2003035.h27v08.061.2022235040153.hdf already downloaded\n",
      "File MCD19A2.A2003035.h27v07.061.2022235044725.hdf already downloaded\n",
      "File MCD19A2.A2003036.h27v06.061.2022235054033.hdf already downloaded\n",
      "File MCD19A2.A2003035.h26v06.061.2022235061446.hdf already downloaded\n",
      "File MCD19A2.A2003035.h28v08.061.2022235040033.hdf already downloaded\n",
      "File MCD19A2.A2003036.h28v07.061.2022235041555.hdf already downloaded\n",
      "File MCD19A2.A2003036.h27v07.061.2022235050014.hdf already downloaded\n",
      "File MCD19A2.A2003036.h26v07.061.2022235041440.hdf already downloaded\n",
      "File MCD19A2.A2003036.h26v06.061.2022235062705.hdf already downloaded\n",
      "File MCD19A2.A2003036.h28v08.061.2022235041500.hdf already downloaded\n",
      "File MCD19A2.A2003037.h28v06.061.2022235050607.hdf already downloaded\n",
      "File MCD19A2.A2003037.h28v08.061.2022235043004.hdf already downloaded\n",
      "File MCD19A2.A2003037.h27v07.061.2022235051351.hdf already downloaded\n",
      "File MCD19A2.A2003036.h27v08.061.2022235041448.hdf already downloaded\n",
      "File MCD19A2.A2003037.h28v07.061.2022235043101.hdf already downloaded\n",
      "File MCD19A2.A2003037.h26v06.061.2022235064113.hdf already downloaded\n",
      "File MCD19A2.A2003038.h27v06.061.2022235060314.hdf already downloaded\n",
      "File MCD19A2.A2003037.h27v08.061.2022235042932.hdf already downloaded\n",
      "File MCD19A2.A2003037.h27v06.061.2022235055120.hdf already downloaded\n",
      "File MCD19A2.A2003037.h26v07.061.2022235043008.hdf already downloaded\n",
      "File MCD19A2.A2003038.h27v08.061.2022235045205.hdf already downloaded\n",
      "File MCD19A2.A2003038.h28v08.061.2022235045236.hdf already downloaded\n",
      "File MCD19A2.A2003038.h28v06.061.2022235051708.hdf already downloaded\n",
      "File MCD19A2.A2003038.h26v06.061.2022235065333.hdf already downloaded\n",
      "File MCD19A2.A2003039.h27v06.061.2022235061456.hdf already downloaded\n",
      "File MCD19A2.A2003038.h26v07.061.2022235045255.hdf already downloaded\n",
      "File MCD19A2.A2003038.h28v07.061.2022235045323.hdf already downloaded\n",
      "File MCD19A2.A2003038.h27v07.061.2022235052451.hdf already downloaded\n",
      "File MCD19A2.A2003039.h28v06.061.2022235052936.hdf already downloaded\n",
      "File MCD19A2.A2003039.h28v08.061.2022235050008.hdf already downloaded\n",
      "File MCD19A2.A2003039.h28v07.061.2022235050123.hdf already downloaded\n"
     ]
    },
    {
     "data": {
      "application/vnd.jupyter.widget-view+json": {
       "model_id": "ca5b3b0e4da648c4af1442f0ae23057e",
       "version_major": 2,
       "version_minor": 0
      },
      "text/plain": [
       "PROCESSING TASKS | :   0%|          | 0/216 [00:00<?, ?it/s]"
      ]
     },
     "metadata": {},
     "output_type": "display_data"
    },
    {
     "name": "stdout",
     "output_type": "stream",
     "text": [
      "File MCD19A2.A2003057.h28v06.061.2022235091105.hdf already downloaded\n",
      "File MCD19A2.A2003057.h28v07.061.2022235091048.hdf already downloaded\n",
      "File MCD19A2.A2003057.h28v08.061.2022235091028.hdf already downloaded\n",
      "File MCD19A2.A2003057.h26v06.061.2022235110317.hdf already downloaded\n",
      "File MCD19A2.A2003057.h27v07.061.2022235091603.hdf already downloaded\n",
      "File MCD19A2.A2003057.h26v07.061.2022235091039.hdf already downloaded\n",
      "File MCD19A2.A2003057.h27v08.061.2022235091053.hdf already downloaded\n",
      "File MCD19A2.A2003058.h28v06.061.2022235092523.hdf already downloaded\n",
      "File MCD19A2.A2003058.h27v06.061.2022235103512.hdf already downloaded\n",
      "File MCD19A2.A2003058.h26v06.061.2022235111815.hdf already downloaded\n",
      "File MCD19A2.A2003058.h27v07.061.2022235092933.hdf already downloaded\n",
      "File MCD19A2.A2003058.h28v07.061.2022235092558.hdf already downloaded\n",
      "File MCD19A2.A2003058.h27v08.061.2022235092559.hdf already downloaded\n",
      "File MCD19A2.A2003058.h28v08.061.2022235092445.hdf already downloaded\n"
     ]
    },
    {
     "data": {
      "application/vnd.jupyter.widget-view+json": {
       "model_id": "a2a16556f83d488a88c5d4c9d801543e",
       "version_major": 2,
       "version_minor": 0
      },
      "text/plain": [
       "COLLECTING RESULTS | :   0%|          | 0/216 [00:00<?, ?it/s]"
      ]
     },
     "metadata": {},
     "output_type": "display_data"
    },
    {
     "name": "stdout",
     "output_type": "stream",
     "text": [
      "2003-03 2003-04\n",
      "2003-03-01 00:00:00 2003-03-31 00:00:00\n",
      "Granules found: 240\n",
      " Getting 240 granules, approx download size: 1.74 GB\n"
     ]
    },
    {
     "data": {
      "application/vnd.jupyter.widget-view+json": {
       "model_id": "d67b56337255424bbbcd819a65eae12f",
       "version_major": 2,
       "version_minor": 0
      },
      "text/plain": [
       "QUEUEING TASKS | :   0%|          | 0/240 [00:00<?, ?it/s]"
      ]
     },
     "metadata": {},
     "output_type": "display_data"
    },
    {
     "name": "stdout",
     "output_type": "stream",
     "text": [
      "File MCD19A2.A2003060.h28v06.061.2022235095223.hdf already downloaded\n",
      "File MCD19A2.A2003060.h27v06.061.2022235110341.hdf already downloaded\n",
      "File MCD19A2.A2003060.h28v07.061.2022235095454.hdf already downloaded\n",
      "File MCD19A2.A2003060.h28v08.061.2022235095134.hdf already downloaded\n",
      "File MCD19A2.A2003060.h26v06.061.2022235134026.hdf already downloaded\n",
      "File MCD19A2.A2003060.h26v07.061.2022235095251.hdf already downloaded\n",
      "File MCD19A2.A2003061.h28v06.061.2022235100611.hdf already downloaded\n",
      "File MCD19A2.A2003061.h26v06.061.2022235135444.hdf already downloaded\n",
      "File MCD19A2.A2003061.h27v06.061.2022235111809.hdf already downloaded\n",
      "File MCD19A2.A2003061.h26v07.061.2022235100601.hdf already downloaded\n",
      "File MCD19A2.A2003061.h27v07.061.2022235101136.hdf already downloaded\n",
      "File MCD19A2.A2003061.h28v07.061.2022235100853.hdf already downloaded\n",
      "File MCD19A2.A2003061.h28v08.061.2022235100747.hdf already downloaded\n",
      "File MCD19A2.A2003061.h27v08.061.2022235100449.hdf already downloaded\n",
      "File MCD19A2.A2003062.h27v06.061.2022235113149.hdf already downloaded\n",
      "File MCD19A2.A2003062.h28v06.061.2022235102027.hdf already downloaded\n",
      "File MCD19A2.A2003062.h28v07.061.2022235102046.hdf already downloaded\n",
      "File MCD19A2.A2003062.h28v08.061.2022235101951.hdf already downloaded\n",
      "File MCD19A2.A2003062.h26v06.061.2022235140952.hdf already downloaded\n",
      "File MCD19A2.A2003062.h26v07.061.2022235102057.hdf already downloaded\n",
      "File MCD19A2.A2003062.h27v08.061.2022235102009.hdf already downloaded\n",
      "File MCD19A2.A2003062.h27v07.061.2022235102449.hdf already downloaded\n"
     ]
    },
    {
     "data": {
      "application/vnd.jupyter.widget-view+json": {
       "model_id": "7d4cc9939d24400a8760978e2aa1e963",
       "version_major": 2,
       "version_minor": 0
      },
      "text/plain": [
       "PROCESSING TASKS | :   0%|          | 0/240 [00:00<?, ?it/s]"
      ]
     },
     "metadata": {},
     "output_type": "display_data"
    },
    {
     "name": "stdout",
     "output_type": "stream",
     "text": [
      "File MCD19A2.A2003064.h28v08.061.2022235104636.hdf already downloaded\n",
      "File MCD19A2.A2003064.h26v06.061.2022235143801.hdf already downloaded\n",
      "File MCD19A2.A2003064.h26v07.061.2022235104739.hdf already downloaded\n",
      "File MCD19A2.A2003064.h27v07.061.2022235105245.hdf already downloaded\n",
      "File MCD19A2.A2003064.h27v08.061.2022235104759.hdf already downloaded\n",
      "File MCD19A2.A2003066.h27v06.061.2022235142202.hdf already downloaded\n",
      "File MCD19A2.A2003066.h26v06.061.2022235150502.hdf already downloaded\n",
      "File MCD19A2.A2003066.h27v08.061.2022235111539.hdf already downloaded\n",
      "File MCD19A2.A2003066.h26v07.061.2022235111529.hdf already downloaded\n",
      "File MCD19A2.A2003066.h27v07.061.2022235112030.hdf already downloaded\n",
      "File MCD19A2.A2003067.h28v07.061.2022235112955.hdf already downloaded\n"
     ]
    }
   ],
   "source": [
    "\n",
    "import earthaccess\n",
    "import os\n",
    "from zkyhaxpy import io_tools\n",
    "from datetime import datetime, timedelta\n",
    "from tqdm.notebook import tqdm\n",
    "\n",
    "\n",
    "dir_download = r'C:\\Temp\\PIER-Blog-20240411\\data\\aod\\raw'\n",
    "\n",
    "xmin = 95\n",
    "ymin = 5\n",
    "xmax = 107\n",
    "ymax = 22\n",
    "\n",
    "years = range(2002, 2003)\n",
    "months = range(9, 11)\n",
    "\n",
    "# years = range(2003, 2004)\n",
    "# months = range(2, 4)\n",
    "\n",
    "# years = range(2000, 2024)\n",
    "# months = range(1, 13)\n",
    "# netrc is a file in user's folder with earthdata credentials\n",
    "auth = earthaccess.login(strategy=\"netrc\")\n",
    "\n",
    "for year in years:\n",
    "    for month in months:\n",
    "        year_month = f'{year}-{month:02d}'\n",
    "        if month==12:\n",
    "            year_month_next = f'{year+1}-01'\n",
    "        else:\n",
    "            year_month_next = f'{year}-{month+1:02d}'\n",
    "        date_from = datetime.strptime(f'{year_month}-01', '%Y-%m-%d')\n",
    "        date_to = datetime.strptime(f'{year_month_next}-01', '%Y-%m-%d') - timedelta(days=1)\n",
    "        print(year_month, year_month_next)\n",
    "        print(date_from, date_to)\n",
    "\n",
    "        dir_download_curr = os.path.join(dir_download, str(year), f'{month:02d}')\n",
    "        results = earthaccess.search_data(\n",
    "            short_name='MCD19A2',\n",
    "            version='061',\n",
    "            bounding_box = (xmin, ymin, xmax, ymax),\n",
    "            temporal = (date_from, date_to))\n",
    "\n",
    "        io_tools.create_folders(dir_download_curr)\n",
    "        if len(results) > 0:\n",
    "            files = earthaccess.download(results, dir_download_curr)\n"
   ]
  },
  {
   "cell_type": "code",
   "execution_count": null,
   "metadata": {},
   "outputs": [],
   "source": []
  }
 ],
 "metadata": {
  "kernelspec": {
   "display_name": "crop_tl",
   "language": "python",
   "name": "python3"
  },
  "language_info": {
   "codemirror_mode": {
    "name": "ipython",
    "version": 3
   },
   "file_extension": ".py",
   "mimetype": "text/x-python",
   "name": "python",
   "nbconvert_exporter": "python",
   "pygments_lexer": "ipython3",
   "version": "3.11.7"
  }
 },
 "nbformat": 4,
 "nbformat_minor": 2
}
