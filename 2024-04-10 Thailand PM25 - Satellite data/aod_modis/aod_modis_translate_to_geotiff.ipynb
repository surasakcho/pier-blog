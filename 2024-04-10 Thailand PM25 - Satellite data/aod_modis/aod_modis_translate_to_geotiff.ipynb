{
 "cells": [
  {
   "cell_type": "markdown",
   "metadata": {},
   "source": [
    "# Import lib"
   ]
  },
  {
   "cell_type": "code",
   "execution_count": null,
   "metadata": {},
   "outputs": [],
   "source": [
    "from pprint import pp\n",
    "import pandas as pd\n",
    "import geopandas as gpd\n",
    "import folium\n",
    "import os, shutil\n",
    "from glob import glob\n",
    "import re\n",
    "import rasterio\n",
    "from rasterio.transform import from_origin\n",
    "from rasterio.warp import reproject, Resampling, calculate_default_transform\n",
    "from rasterio.mask import mask\n",
    "import tempfile\n",
    "import random\n",
    "\n",
    "import matplotlib.pyplot as plt\n",
    "\n",
    "from osgeo import gdal\n",
    "import numpy as np\n",
    "\n",
    "import requests\n",
    "from bs4 import BeautifulSoup\n",
    "import re\n",
    "import os\n",
    "\n",
    "import pytz\n",
    "\n",
    "from tqdm import tqdm_notebook\n",
    "\n",
    "import rasterio\n",
    "from rasterio import plot\n",
    "import matplotlib.pyplot as plt\n",
    "import seaborn as sns\n",
    "import numpy as np\n",
    "\n",
    "from tqdm.notebook import tqdm\n",
    "\n",
    "%matplotlib inline\n",
    "\n",
    "from zkyhaxpy import io_tools\n",
    "from zkyhaxpy.gis_tools import convert_hdf_to_geotiff, extract_cloudless_band\n",
    "\n",
    "from datetime import datetime, timedelta"
   ]
  },
  {
   "cell_type": "markdown",
   "metadata": {},
   "source": [
    "# Define functions"
   ]
  },
  {
   "cell_type": "markdown",
   "metadata": {},
   "source": [
    "### get_gregorian_date"
   ]
  },
  {
   "cell_type": "code",
   "execution_count": null,
   "metadata": {},
   "outputs": [],
   "source": [
    "def get_gregorian_date(year, julian_date):\n",
    "    date = datetime(year,1,1) + timedelta(julian_date-1)\n",
    "    return datetime.strftime(date, '%Y-%m-%d')\n"
   ]
  },
  {
   "cell_type": "markdown",
   "metadata": {},
   "source": [
    "### orbit_timestamp_to_datetime"
   ]
  },
  {
   "cell_type": "code",
   "execution_count": null,
   "metadata": {},
   "outputs": [],
   "source": [
    "def orbit_timestamp_to_datetime(orbit_timestamp_in):\n",
    "    if len(orbit_timestamp_in) == 0:\n",
    "        return\n",
    "    year = int(orbit_timestamp_in[:4])\n",
    "    julian_date = int(orbit_timestamp_in[4:7])\n",
    "    dt = get_gregorian_date(year, julian_date)\n",
    "    tm = f'{orbit_timestamp_in[7:9]}:{orbit_timestamp_in[9:11]}'\n",
    "    return f'{dt} {tm}'"
   ]
  },
  {
   "cell_type": "code",
   "execution_count": null,
   "metadata": {},
   "outputs": [],
   "source": []
  },
  {
   "cell_type": "code",
   "execution_count": null,
   "metadata": {},
   "outputs": [],
   "source": [
    "DICT_SUBDATASET = {\n",
    "    'aod_055':'grid1km:Optical_Depth_055',\n",
    "    'aod_qa':'grid1km:AOD_QA',\n",
    "    'aod_055_test':'grid1km:Optical_Depth_055',    \n",
    "    }\n",
    "\n",
    "list_tile_id = ['h27v07', 'h27v06']\n",
    "\n",
    "band_shortname = 'aod_055'\n",
    "dir_out_root = r'C:\\Temp\\PIER-Blog-20240411\\data\\aod\\translated'\n",
    "list_year = list(range(2000, 2015))\n",
    "np.random.shuffle(list_year)\n",
    "pbar_year = tqdm(list_year)\n",
    "for year in pbar_year:\n",
    "    pbar_year.set_description(f'{year}')\n",
    "    list_file_path_raw = io_tools.get_list_files(fr'C:\\Temp\\PIER-Blog-20240411\\data\\aod\\raw\\{year}', '.hdf$',)\n",
    "    np.random.shuffle(list_file_path_raw)\n",
    "\n",
    "    for file_path in tqdm(list_file_path_raw):\n",
    "        file_name = os.path.basename(file_path)\n",
    "        tile_id = file_name.split('.')[2]\n",
    "        if tile_id not in list_tile_id:\n",
    "            continue\n",
    "        year = file_name.split('.')[1][1:5]\n",
    "        \n",
    "        dir_out = os.path.join(dir_out_root, band_shortname, tile_id, year)\n",
    "\n",
    "        ds = gdal.Open(file_path)\n",
    "        if ds is None:\n",
    "            print(f'File {file_path} is corrupted. Skip')\n",
    "            continue\n",
    "        dict_metadata = ds.GetMetadata_Dict()\n",
    "        orbit_amount = int(dict_metadata['Orbit_amount'])\n",
    "        orbit_timestamps = dict_metadata['Orbit_time_stamp']\n",
    "        list_orbit_dttm = [orbit_timestamp_to_datetime(timestamp) for timestamp in orbit_timestamps.split(' ') if len(timestamp) > 0]\n",
    "\n",
    "\n",
    "        #Create temp geotiff band data & cloud mask before translate to cloudless raster\n",
    "        with tempfile.TemporaryDirectory() as dir_temp:   \n",
    "            io_tools.create_folders(dir_temp)\n",
    "            path_target = os.path.join(dir_temp, 'temp_055.tif')            \n",
    "            target_subds = DICT_SUBDATASET[band_shortname]\n",
    "            convert_hdf_to_geotiff(path_in = file_path, path_out=path_target, subds=target_subds)\n",
    "            \n",
    "            path_qa = os.path.join(dir_temp, 'temp_qa.tif')\n",
    "            qa_subds = DICT_SUBDATASET['aod_qa']\n",
    "            convert_hdf_to_geotiff(path_in = file_path, path_out=path_qa, subds=qa_subds)\n",
    "            \n",
    "            for i, orbit_dttm in enumerate(list_orbit_dttm):\n",
    "                band_id = i + 1\n",
    "                file_name_out = f'{band_shortname}-{orbit_dttm[:10]}_{orbit_dttm[11:13]}{orbit_dttm[14:16]}.tif'    \n",
    "                path_out = os.path.join(dir_out, file_name_out)            \n",
    "                if os.path.exists(path_out):\n",
    "                    continue\n",
    "                \n",
    "                io_tools.create_folders(path_out)            \n",
    "                #Translate into cloudless raster\n",
    "                \n",
    "                arr_target_cloudless = extract_cloudless_band(\n",
    "                    path_in_target=path_target, \n",
    "                    path_in_qa=path_qa, \n",
    "                    band_id_target=band_id, \n",
    "                    band_id_qa=band_id, \n",
    "                    tup_cloud_bits_idx=(0, 3), #For first 3 digits of QA bits\n",
    "                    str_cloud_clear='001', #For first 3 digits of QA bits must = '001' to be cloudless\n",
    "                    qa_total_bits=16,\n",
    "                    path_out=path_out\n",
    "                )\n",
    "\n",
    "                \n"
   ]
  }
 ],
 "metadata": {
  "kernelspec": {
   "display_name": "crop_tl",
   "language": "python",
   "name": "python3"
  },
  "language_info": {
   "codemirror_mode": {
    "name": "ipython",
    "version": 3
   },
   "file_extension": ".py",
   "mimetype": "text/x-python",
   "name": "python",
   "nbconvert_exporter": "python",
   "pygments_lexer": "ipython3",
   "version": "3.11.7"
  }
 },
 "nbformat": 4,
 "nbformat_minor": 2
}
