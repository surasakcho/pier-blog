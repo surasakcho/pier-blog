{
 "cells": [
  {
   "cell_type": "code",
   "execution_count": null,
   "metadata": {},
   "outputs": [],
   "source": [
    "\n",
    "earthaccess.login()"
   ]
  },
  {
   "cell_type": "code",
   "execution_count": null,
   "metadata": {},
   "outputs": [],
   "source": [
    "\n",
    "import earthaccess\n",
    "import os\n",
    "from zkyhaxpy import io_tools\n",
    "from datetime import datetime, timedelta\n",
    "from tqdm.notebook import tqdm\n",
    "\n",
    "\n",
    "dir_download = r'C:\\Users\\suras\\Desktop\\PIER-Blog-20240411\\data\\raw'\n",
    "\n",
    "xmin = 95\n",
    "ymin = 5\n",
    "xmax = 107\n",
    "ymax = 22\n",
    "\n",
    "years = range(2000, 2024)\n",
    "months = range(1, 13)\n",
    "# netrc is a file in user's folder with earthdata credentials\n",
    "auth = earthaccess.login(strategy=\"netrc\")\n",
    "\n",
    "for year in years:\n",
    "    for month in months:\n",
    "        year_month = f'{year}-{month:02d}'\n",
    "        if month==12:\n",
    "            year_month_next = f'{year+1}-01'\n",
    "        else:\n",
    "            year_month_next = f'{year}-{month+1:02d}'\n",
    "        date_from = datetime.strptime(f'{year_month}-01', '%Y-%m-%d')\n",
    "        date_to = datetime.strptime(f'{year_month_next}-01', '%Y-%m-%d') - timedelta(days=1)\n",
    "        print(year_month, year_month_next)\n",
    "        print(date_from, date_to)\n",
    "\n",
    "        dir_download_curr = os.path.join(dir_download, str(year), f'{month:02d}')\n",
    "        results = earthaccess.search_data(\n",
    "            short_name='MCD19A2',\n",
    "            version='061',\n",
    "            bounding_box = (xmin, ymin, xmax, ymax),\n",
    "            temporal = (date_from, date_to))\n",
    "\n",
    "        io_tools.create_folders(dir_download_curr)\n",
    "        if len(results) > 0:\n",
    "            files = earthaccess.download(results, dir_download_curr)\n"
   ]
  },
  {
   "cell_type": "code",
   "execution_count": null,
   "metadata": {},
   "outputs": [],
   "source": []
  }
 ],
 "metadata": {
  "kernelspec": {
   "display_name": "crop_tl",
   "language": "python",
   "name": "python3"
  },
  "language_info": {
   "codemirror_mode": {
    "name": "ipython",
    "version": 3
   },
   "file_extension": ".py",
   "mimetype": "text/x-python",
   "name": "python",
   "nbconvert_exporter": "python",
   "pygments_lexer": "ipython3",
   "version": "3.8.16"
  }
 },
 "nbformat": 4,
 "nbformat_minor": 2
}
